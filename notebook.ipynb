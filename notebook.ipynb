{
 "cells": [
  {
   "cell_type": "markdown",
   "id": "isolated-discount",
   "metadata": {},
   "source": [
    "# xxx"
   ]
  },
  {
   "cell_type": "code",
   "execution_count": 172,
   "id": "commercial-mailman",
   "metadata": {
    "ExecuteTime": {
     "end_time": "2021-03-08T08:29:32.002965Z",
     "start_time": "2021-03-08T08:29:31.990077Z"
    }
   },
   "outputs": [],
   "source": [
    "%load_ext tensorboard"
   ]
  },
  {
   "cell_type": "code",
   "execution_count": 3,
   "id": "weighted-ballet",
   "metadata": {
    "ExecuteTime": {
     "end_time": "2021-03-08T03:00:06.970247Z",
     "start_time": "2021-03-08T03:00:06.444221Z"
    }
   },
   "outputs": [],
   "source": [
    "from tqdm import tqdm\n",
    "import numpy as np\n",
    "import seaborn as sns\n",
    "import pandas as pd\n",
    "import matplotlib.pyplot as plt\n",
    "\n",
    "import time\n",
    "def set_style():\n",
    "    sns.set_style('white')\n",
    "    plt.rcParams['font.sans-serif'] = ['SimHei']\n",
    "    plt.rcParams['axes.unicode_minus'] = False\n",
    "    plt.rcParams['figure.figsize'] = [10, 10]\n",
    "\n",
    "    pd.options.display.max_columns = 300\n",
    "    pd.options.display.max_rows = 1000\n",
    "    # plt.rcParams['figure.dpi'] = 200\n",
    "    sns.set_palette('muted')  # 调色板颜色温和\n",
    "    sns.set_context(\"notebook\", font_scale=1.2, rc={\"lines.linewidth\": 1})\n",
    "\n",
    "set_style()\n",
    "import sys"
   ]
  },
  {
   "cell_type": "code",
   "execution_count": null,
   "id": "distributed-superior",
   "metadata": {
    "ExecuteTime": {
     "end_time": "2021-03-08T09:01:09.140466Z",
     "start_time": "2021-03-08T08:56:59.699Z"
    }
   },
   "outputs": [],
   "source": [
    "from sklearn import metrics\n",
    "from sklearn.preprocessing import LabelEncoder,OneHotEncoder\n",
    "from sklearn.model_selection import StratifiedKFold\n",
    "from sklearn.preprocessing import MultiLabelBinarizer\n",
    "from sklearn.model_selection import train_test_split\n",
    "\n",
    "import tensorflow as tf\n",
    "print(tf.__version__)\n",
    "physical_devices = tf.config.list_physical_devices('GPU')\n",
    "tf.config.experimental.set_memory_growth(physical_devices[0], True)\n",
    "\n",
    "import keras\n",
    "from keras import Sequential\n",
    "from keras import layers\n",
    "from keras.models import Model\n",
    "from keras.callbacks import EarlyStopping\n",
    "from keras.layers import LSTM, Activation, Dense, Dropout, Input, Embedding\n",
    "from keras.layers import Conv1D,MaxPooling1D, Flatten, BatchNormalization\n",
    "from keras.layers import concatenate\n",
    "\n",
    "from keras.preprocessing.text import Tokenizer\n",
    "from keras.preprocessing import sequence\n",
    "from keras.preprocessing.text import Tokenizer\n",
    "from keras.preprocessing.sequence import pad_sequences"
   ]
  },
  {
   "cell_type": "code",
   "execution_count": 6,
   "id": "danish-feeling",
   "metadata": {
    "ExecuteTime": {
     "end_time": "2021-03-08T03:00:15.423834Z",
     "start_time": "2021-03-08T03:00:15.297770Z"
    }
   },
   "outputs": [
    {
     "name": "stdout",
     "output_type": "stream",
     "text": [
      "track1_round1_testA_20210222.csv  track1_round1_train_20210222.csv\r\n"
     ]
    }
   ],
   "source": [
    "!ls data"
   ]
  },
  {
   "cell_type": "code",
   "execution_count": 7,
   "id": "finnish-curtis",
   "metadata": {
    "ExecuteTime": {
     "end_time": "2021-03-08T03:00:18.128687Z",
     "start_time": "2021-03-08T03:00:18.072697Z"
    }
   },
   "outputs": [
    {
     "data": {
      "text/html": [
       "<div>\n",
       "<style scoped>\n",
       "    .dataframe tbody tr th:only-of-type {\n",
       "        vertical-align: middle;\n",
       "    }\n",
       "\n",
       "    .dataframe tbody tr th {\n",
       "        vertical-align: top;\n",
       "    }\n",
       "\n",
       "    .dataframe thead th {\n",
       "        text-align: right;\n",
       "    }\n",
       "</style>\n",
       "<table border=\"1\" class=\"dataframe\">\n",
       "  <thead>\n",
       "    <tr style=\"text-align: right;\">\n",
       "      <th></th>\n",
       "      <th>report_id</th>\n",
       "      <th>description</th>\n",
       "      <th>words</th>\n",
       "    </tr>\n",
       "  </thead>\n",
       "  <tbody>\n",
       "    <tr>\n",
       "      <th>0</th>\n",
       "      <td>0</td>\n",
       "      <td>852 328 697 538 142 355 582 800 728 4 647 169 ...</td>\n",
       "      <td>[852, 328, 697, 538, 142, 355, 582, 800, 728, ...</td>\n",
       "    </tr>\n",
       "    <tr>\n",
       "      <th>1</th>\n",
       "      <td>1</td>\n",
       "      <td>380 358 343 654 171 832 47 832 690 693 48 563 ...</td>\n",
       "      <td>[380, 358, 343, 654, 171, 832, 47, 832, 690, 6...</td>\n",
       "    </tr>\n",
       "    <tr>\n",
       "      <th>2</th>\n",
       "      <td>2</td>\n",
       "      <td>751 335 834 582 717 583 585 693 623 328 107 38...</td>\n",
       "      <td>[751, 335, 834, 582, 717, 583, 585, 693, 623, ...</td>\n",
       "    </tr>\n",
       "    <tr>\n",
       "      <th>3</th>\n",
       "      <td>3</td>\n",
       "      <td>623 328 649 582 488 12 578 623 538 382 382 265...</td>\n",
       "      <td>[623, 328, 649, 582, 488, 12, 578, 623, 538, 3...</td>\n",
       "    </tr>\n",
       "    <tr>\n",
       "      <th>4</th>\n",
       "      <td>4</td>\n",
       "      <td>83 293 398 797 382 363 145 424 693 698 800 691...</td>\n",
       "      <td>[83, 293, 398, 797, 382, 363, 145, 424, 693, 6...</td>\n",
       "    </tr>\n",
       "  </tbody>\n",
       "</table>\n",
       "</div>"
      ],
      "text/plain": [
       "  report_id                                        description  \\\n",
       "0         0  852 328 697 538 142 355 582 800 728 4 647 169 ...   \n",
       "1         1  380 358 343 654 171 832 47 832 690 693 48 563 ...   \n",
       "2         2  751 335 834 582 717 583 585 693 623 328 107 38...   \n",
       "3         3  623 328 649 582 488 12 578 623 538 382 382 265...   \n",
       "4         4  83 293 398 797 382 363 145 424 693 698 800 691...   \n",
       "\n",
       "                                               words  \n",
       "0  [852, 328, 697, 538, 142, 355, 582, 800, 728, ...  \n",
       "1  [380, 358, 343, 654, 171, 832, 47, 832, 690, 6...  \n",
       "2  [751, 335, 834, 582, 717, 583, 585, 693, 623, ...  \n",
       "3  [623, 328, 649, 582, 488, 12, 578, 623, 538, 3...  \n",
       "4  [83, 293, 398, 797, 382, 363, 145, 424, 693, 6...  "
      ]
     },
     "execution_count": 7,
     "metadata": {},
     "output_type": "execute_result"
    }
   ],
   "source": [
    "test_data = open('data/track1_round1_testA_20210222.csv').readlines()\n",
    "test_data = [data.strip().split('|,|') for data in test_data]\n",
    "test_dataset = pd.DataFrame(test_data, columns=['report_id', 'description'])\n",
    "test_dataset['words'] = test_dataset.description.apply(lambda x:x.split())\n",
    "\n",
    "test_dataset.head()"
   ]
  },
  {
   "cell_type": "code",
   "execution_count": 8,
   "id": "permanent-jordan",
   "metadata": {
    "ExecuteTime": {
     "end_time": "2021-03-08T03:00:19.106204Z",
     "start_time": "2021-03-08T03:00:19.031995Z"
    }
   },
   "outputs": [
    {
     "data": {
      "text/html": [
       "<div>\n",
       "<style scoped>\n",
       "    .dataframe tbody tr th:only-of-type {\n",
       "        vertical-align: middle;\n",
       "    }\n",
       "\n",
       "    .dataframe tbody tr th {\n",
       "        vertical-align: top;\n",
       "    }\n",
       "\n",
       "    .dataframe thead th {\n",
       "        text-align: right;\n",
       "    }\n",
       "</style>\n",
       "<table border=\"1\" class=\"dataframe\">\n",
       "  <thead>\n",
       "    <tr style=\"text-align: right;\">\n",
       "      <th></th>\n",
       "      <th>report_id</th>\n",
       "      <th>description</th>\n",
       "      <th>label</th>\n",
       "      <th>words</th>\n",
       "    </tr>\n",
       "  </thead>\n",
       "  <tbody>\n",
       "    <tr>\n",
       "      <th>0</th>\n",
       "      <td>0</td>\n",
       "      <td>623 328 538 382 399 400 478 842 698 137 492 26...</td>\n",
       "      <td>2</td>\n",
       "      <td>[623, 328, 538, 382, 399, 400, 478, 842, 698, ...</td>\n",
       "    </tr>\n",
       "    <tr>\n",
       "      <th>1</th>\n",
       "      <td>1</td>\n",
       "      <td>48 328 538 382 809 623 434 355 382 382 363 145...</td>\n",
       "      <td></td>\n",
       "      <td>[48, 328, 538, 382, 809, 623, 434, 355, 382, 3...</td>\n",
       "    </tr>\n",
       "    <tr>\n",
       "      <th>2</th>\n",
       "      <td>2</td>\n",
       "      <td>623 656 293 851 636 842 698 493 338 266 369 69...</td>\n",
       "      <td>15</td>\n",
       "      <td>[623, 656, 293, 851, 636, 842, 698, 493, 338, ...</td>\n",
       "    </tr>\n",
       "    <tr>\n",
       "      <th>3</th>\n",
       "      <td>3</td>\n",
       "      <td>48 328 380 259 439 107 380 265 172 470 290 693...</td>\n",
       "      <td></td>\n",
       "      <td>[48, 328, 380, 259, 439, 107, 380, 265, 172, 4...</td>\n",
       "    </tr>\n",
       "    <tr>\n",
       "      <th>4</th>\n",
       "      <td>4</td>\n",
       "      <td>623 328 399 698 493 338 266 14 177 415 511 647...</td>\n",
       "      <td>16</td>\n",
       "      <td>[623, 328, 399, 698, 493, 338, 266, 14, 177, 4...</td>\n",
       "    </tr>\n",
       "  </tbody>\n",
       "</table>\n",
       "</div>"
      ],
      "text/plain": [
       "  report_id                                        description label  \\\n",
       "0         0  623 328 538 382 399 400 478 842 698 137 492 26...     2   \n",
       "1         1  48 328 538 382 809 623 434 355 382 382 363 145...         \n",
       "2         2  623 656 293 851 636 842 698 493 338 266 369 69...    15   \n",
       "3         3  48 328 380 259 439 107 380 265 172 470 290 693...         \n",
       "4         4  623 328 399 698 493 338 266 14 177 415 511 647...    16   \n",
       "\n",
       "                                               words  \n",
       "0  [623, 328, 538, 382, 399, 400, 478, 842, 698, ...  \n",
       "1  [48, 328, 538, 382, 809, 623, 434, 355, 382, 3...  \n",
       "2  [623, 656, 293, 851, 636, 842, 698, 493, 338, ...  \n",
       "3  [48, 328, 380, 259, 439, 107, 380, 265, 172, 4...  \n",
       "4  [623, 328, 399, 698, 493, 338, 266, 14, 177, 4...  "
      ]
     },
     "execution_count": 8,
     "metadata": {},
     "output_type": "execute_result"
    }
   ],
   "source": [
    "train_data = open('data/track1_round1_train_20210222.csv','r').readlines()\n",
    "\n",
    "train_data = [data.strip().split('|,|')  for data in train_data]\n",
    "\n",
    "train_dataset = pd.DataFrame(train_data,columns=['report_id','description','label'])\n",
    "train_dataset['words'] = train_dataset.description.apply(lambda x:x.split())\n",
    "\n",
    "train_dataset.head()"
   ]
  },
  {
   "cell_type": "code",
   "execution_count": 9,
   "id": "bigger-activation",
   "metadata": {
    "ExecuteTime": {
     "end_time": "2021-03-08T03:00:21.800631Z",
     "start_time": "2021-03-08T03:00:21.768220Z"
    }
   },
   "outputs": [
    {
     "data": {
      "text/html": [
       "<div>\n",
       "<style scoped>\n",
       "    .dataframe tbody tr th:only-of-type {\n",
       "        vertical-align: middle;\n",
       "    }\n",
       "\n",
       "    .dataframe tbody tr th {\n",
       "        vertical-align: top;\n",
       "    }\n",
       "\n",
       "    .dataframe thead th {\n",
       "        text-align: right;\n",
       "    }\n",
       "</style>\n",
       "<table border=\"1\" class=\"dataframe\">\n",
       "  <thead>\n",
       "    <tr style=\"text-align: right;\">\n",
       "      <th></th>\n",
       "      <th>report_id</th>\n",
       "      <th>description</th>\n",
       "      <th>label</th>\n",
       "      <th>words</th>\n",
       "    </tr>\n",
       "  </thead>\n",
       "  <tbody>\n",
       "    <tr>\n",
       "      <th>0</th>\n",
       "      <td>0</td>\n",
       "      <td>623 328 538 382 399 400 478 842 698 137 492 26...</td>\n",
       "      <td>2</td>\n",
       "      <td>[623, 328, 538, 382, 399, 400, 478, 842, 698, ...</td>\n",
       "    </tr>\n",
       "    <tr>\n",
       "      <th>1</th>\n",
       "      <td>1</td>\n",
       "      <td>48 328 538 382 809 623 434 355 382 382 363 145...</td>\n",
       "      <td></td>\n",
       "      <td>[48, 328, 538, 382, 809, 623, 434, 355, 382, 3...</td>\n",
       "    </tr>\n",
       "    <tr>\n",
       "      <th>2</th>\n",
       "      <td>2</td>\n",
       "      <td>623 656 293 851 636 842 698 493 338 266 369 69...</td>\n",
       "      <td>15</td>\n",
       "      <td>[623, 656, 293, 851, 636, 842, 698, 493, 338, ...</td>\n",
       "    </tr>\n",
       "    <tr>\n",
       "      <th>3</th>\n",
       "      <td>3</td>\n",
       "      <td>48 328 380 259 439 107 380 265 172 470 290 693...</td>\n",
       "      <td></td>\n",
       "      <td>[48, 328, 380, 259, 439, 107, 380, 265, 172, 4...</td>\n",
       "    </tr>\n",
       "    <tr>\n",
       "      <th>4</th>\n",
       "      <td>4</td>\n",
       "      <td>623 328 399 698 493 338 266 14 177 415 511 647...</td>\n",
       "      <td>16</td>\n",
       "      <td>[623, 328, 399, 698, 493, 338, 266, 14, 177, 4...</td>\n",
       "    </tr>\n",
       "  </tbody>\n",
       "</table>\n",
       "</div>"
      ],
      "text/plain": [
       "  report_id                                        description label  \\\n",
       "0         0  623 328 538 382 399 400 478 842 698 137 492 26...     2   \n",
       "1         1  48 328 538 382 809 623 434 355 382 382 363 145...         \n",
       "2         2  623 656 293 851 636 842 698 493 338 266 369 69...    15   \n",
       "3         3  48 328 380 259 439 107 380 265 172 470 290 693...         \n",
       "4         4  623 328 399 698 493 338 266 14 177 415 511 647...    16   \n",
       "\n",
       "                                               words  \n",
       "0  [623, 328, 538, 382, 399, 400, 478, 842, 698, ...  \n",
       "1  [48, 328, 538, 382, 809, 623, 434, 355, 382, 3...  \n",
       "2  [623, 656, 293, 851, 636, 842, 698, 493, 338, ...  \n",
       "3  [48, 328, 380, 259, 439, 107, 380, 265, 172, 4...  \n",
       "4  [623, 328, 399, 698, 493, 338, 266, 14, 177, 4...  "
      ]
     },
     "execution_count": 9,
     "metadata": {},
     "output_type": "execute_result"
    }
   ],
   "source": [
    "dataset = train_dataset.append(test_dataset)\n",
    "dataset.head()"
   ]
  },
  {
   "cell_type": "code",
   "execution_count": 14,
   "id": "cloudy-arizona",
   "metadata": {
    "ExecuteTime": {
     "end_time": "2021-03-08T03:01:41.665172Z",
     "start_time": "2021-03-08T03:01:41.519765Z"
    }
   },
   "outputs": [
    {
     "data": {
      "text/plain": [
       "(10000, 17)"
      ]
     },
     "execution_count": 14,
     "metadata": {},
     "output_type": "execute_result"
    }
   ],
   "source": [
    "mlb = MultiLabelBinarizer()\n",
    "\n",
    "df_label = pd.DataFrame(mlb.fit_transform(train_dataset.label.apply(lambda x:x.split())))\n",
    "df_label.columns = mlb.classes_\n",
    "\n",
    "\n",
    "label = df_label[[str(i) for i in range(17)]].values\n",
    "label.shape"
   ]
  },
  {
   "cell_type": "code",
   "execution_count": 16,
   "id": "standing-uganda",
   "metadata": {
    "ExecuteTime": {
     "end_time": "2021-03-08T03:01:54.889640Z",
     "start_time": "2021-03-08T03:01:54.872902Z"
    }
   },
   "outputs": [
    {
     "data": {
      "text/html": [
       "<div>\n",
       "<style scoped>\n",
       "    .dataframe tbody tr th:only-of-type {\n",
       "        vertical-align: middle;\n",
       "    }\n",
       "\n",
       "    .dataframe tbody tr th {\n",
       "        vertical-align: top;\n",
       "    }\n",
       "\n",
       "    .dataframe thead th {\n",
       "        text-align: right;\n",
       "    }\n",
       "</style>\n",
       "<table border=\"1\" class=\"dataframe\">\n",
       "  <thead>\n",
       "    <tr style=\"text-align: right;\">\n",
       "      <th></th>\n",
       "      <th>0</th>\n",
       "      <th>1</th>\n",
       "      <th>2</th>\n",
       "      <th>3</th>\n",
       "      <th>4</th>\n",
       "      <th>5</th>\n",
       "      <th>6</th>\n",
       "      <th>7</th>\n",
       "      <th>8</th>\n",
       "      <th>9</th>\n",
       "      <th>10</th>\n",
       "      <th>11</th>\n",
       "      <th>12</th>\n",
       "      <th>13</th>\n",
       "      <th>14</th>\n",
       "      <th>15</th>\n",
       "      <th>16</th>\n",
       "    </tr>\n",
       "  </thead>\n",
       "  <tbody>\n",
       "    <tr>\n",
       "      <th>0</th>\n",
       "      <td>0</td>\n",
       "      <td>0</td>\n",
       "      <td>1</td>\n",
       "      <td>0</td>\n",
       "      <td>0</td>\n",
       "      <td>0</td>\n",
       "      <td>0</td>\n",
       "      <td>0</td>\n",
       "      <td>0</td>\n",
       "      <td>0</td>\n",
       "      <td>0</td>\n",
       "      <td>0</td>\n",
       "      <td>0</td>\n",
       "      <td>0</td>\n",
       "      <td>0</td>\n",
       "      <td>0</td>\n",
       "      <td>0</td>\n",
       "    </tr>\n",
       "    <tr>\n",
       "      <th>1</th>\n",
       "      <td>0</td>\n",
       "      <td>0</td>\n",
       "      <td>0</td>\n",
       "      <td>0</td>\n",
       "      <td>0</td>\n",
       "      <td>0</td>\n",
       "      <td>0</td>\n",
       "      <td>0</td>\n",
       "      <td>0</td>\n",
       "      <td>0</td>\n",
       "      <td>0</td>\n",
       "      <td>0</td>\n",
       "      <td>0</td>\n",
       "      <td>0</td>\n",
       "      <td>0</td>\n",
       "      <td>0</td>\n",
       "      <td>0</td>\n",
       "    </tr>\n",
       "    <tr>\n",
       "      <th>2</th>\n",
       "      <td>0</td>\n",
       "      <td>0</td>\n",
       "      <td>0</td>\n",
       "      <td>0</td>\n",
       "      <td>0</td>\n",
       "      <td>0</td>\n",
       "      <td>0</td>\n",
       "      <td>0</td>\n",
       "      <td>0</td>\n",
       "      <td>0</td>\n",
       "      <td>0</td>\n",
       "      <td>0</td>\n",
       "      <td>0</td>\n",
       "      <td>0</td>\n",
       "      <td>0</td>\n",
       "      <td>1</td>\n",
       "      <td>0</td>\n",
       "    </tr>\n",
       "    <tr>\n",
       "      <th>3</th>\n",
       "      <td>0</td>\n",
       "      <td>0</td>\n",
       "      <td>0</td>\n",
       "      <td>0</td>\n",
       "      <td>0</td>\n",
       "      <td>0</td>\n",
       "      <td>0</td>\n",
       "      <td>0</td>\n",
       "      <td>0</td>\n",
       "      <td>0</td>\n",
       "      <td>0</td>\n",
       "      <td>0</td>\n",
       "      <td>0</td>\n",
       "      <td>0</td>\n",
       "      <td>0</td>\n",
       "      <td>0</td>\n",
       "      <td>0</td>\n",
       "    </tr>\n",
       "    <tr>\n",
       "      <th>4</th>\n",
       "      <td>0</td>\n",
       "      <td>0</td>\n",
       "      <td>0</td>\n",
       "      <td>0</td>\n",
       "      <td>0</td>\n",
       "      <td>0</td>\n",
       "      <td>0</td>\n",
       "      <td>0</td>\n",
       "      <td>0</td>\n",
       "      <td>0</td>\n",
       "      <td>0</td>\n",
       "      <td>0</td>\n",
       "      <td>0</td>\n",
       "      <td>0</td>\n",
       "      <td>0</td>\n",
       "      <td>0</td>\n",
       "      <td>1</td>\n",
       "    </tr>\n",
       "  </tbody>\n",
       "</table>\n",
       "</div>"
      ],
      "text/plain": [
       "   0  1  2  3  4  5  6  7  8  9  10  11  12  13  14  15  16\n",
       "0  0  0  1  0  0  0  0  0  0  0   0   0   0   0   0   0   0\n",
       "1  0  0  0  0  0  0  0  0  0  0   0   0   0   0   0   0   0\n",
       "2  0  0  0  0  0  0  0  0  0  0   0   0   0   0   0   1   0\n",
       "3  0  0  0  0  0  0  0  0  0  0   0   0   0   0   0   0   0\n",
       "4  0  0  0  0  0  0  0  0  0  0   0   0   0   0   0   0   1"
      ]
     },
     "execution_count": 16,
     "metadata": {},
     "output_type": "execute_result"
    }
   ],
   "source": [
    "df_label[[str(i) for i in range(17)]].head()"
   ]
  },
  {
   "cell_type": "code",
   "execution_count": 17,
   "id": "earned-disco",
   "metadata": {
    "ExecuteTime": {
     "end_time": "2021-03-08T03:02:19.100130Z",
     "start_time": "2021-03-08T03:02:18.868433Z"
    }
   },
   "outputs": [],
   "source": [
    "tokenizer=Tokenizer()  #创建一个Tokenizer对象\n",
    "#fit_on_texts函数可以将输入的文本中的每个词编号，编号是根据词频的，词频越大，编号越小\n",
    "tokenizer.fit_on_texts(dataset['words'])\n",
    "vocab=tokenizer.word_index #得到每个词的编号\n",
    "# 将每个样本中的每个词转换为数字列表，使用每个词的编号进行编号"
   ]
  },
  {
   "cell_type": "code",
   "execution_count": 103,
   "id": "severe-triangle",
   "metadata": {
    "ExecuteTime": {
     "end_time": "2021-03-08T06:01:31.620018Z",
     "start_time": "2021-03-08T06:01:31.384296Z"
    }
   },
   "outputs": [],
   "source": [
    "maxlen=100\n",
    "\n",
    "train_data =tokenizer.texts_to_sequences(train_dataset['words'])\n",
    "#将超过固定值的部分截掉，不足的在最前面用0填充\n",
    "train_data_padded_seqs = pad_sequences(train_data, maxlen=maxlen, value = len(vocab))\n",
    "\n",
    "test_data =tokenizer.texts_to_sequences(test_dataset['words'])\n",
    "#将超过固定值的部分截掉，不足的在最前面用0填充\n",
    "test_data_padded_seqs = pad_sequences(test_data, maxlen=maxlen, value = len(vocab))"
   ]
  },
  {
   "cell_type": "code",
   "execution_count": 104,
   "id": "cutting-tuner",
   "metadata": {
    "ExecuteTime": {
     "end_time": "2021-03-08T06:01:33.033848Z",
     "start_time": "2021-03-08T06:01:33.026921Z"
    }
   },
   "outputs": [
    {
     "data": {
      "text/plain": [
       "(10000, 100)"
      ]
     },
     "execution_count": 104,
     "metadata": {},
     "output_type": "execute_result"
    }
   ],
   "source": [
    "train_data_padded_seqs.shape"
   ]
  },
  {
   "cell_type": "markdown",
   "id": "polar-particular",
   "metadata": {},
   "source": [
    "## CNN"
   ]
  },
  {
   "cell_type": "code",
   "execution_count": 71,
   "id": "unique-potential",
   "metadata": {
    "ExecuteTime": {
     "end_time": "2021-03-08T05:20:13.783247Z",
     "start_time": "2021-03-08T05:20:13.778903Z"
    }
   },
   "outputs": [],
   "source": [
    "import keras\n",
    "\n",
    "def my_score(y_true,y_pred):\n",
    "    return 1 - keras.losses.binary_crossentropy(y_true, y_pred)"
   ]
  },
  {
   "cell_type": "code",
   "execution_count": 72,
   "id": "direct-gibraltar",
   "metadata": {
    "ExecuteTime": {
     "end_time": "2021-03-08T05:20:25.751949Z",
     "start_time": "2021-03-08T05:20:17.793883Z"
    },
    "scrolled": false
   },
   "outputs": [
    {
     "name": "stdout",
     "output_type": "stream",
     "text": [
      "Model: \"sequential_11\"\n",
      "_________________________________________________________________\n",
      "Layer (type)                 Output Shape              Param #   \n",
      "=================================================================\n",
      "embedding_14 (Embedding)     (None, 100, 300)          257700    \n",
      "_________________________________________________________________\n",
      "conv1d_46 (Conv1D)           (None, 100, 256)          384256    \n",
      "_________________________________________________________________\n",
      "max_pooling1d_35 (MaxPooling (None, 34, 256)           0         \n",
      "_________________________________________________________________\n",
      "conv1d_47 (Conv1D)           (None, 34, 128)           163968    \n",
      "_________________________________________________________________\n",
      "max_pooling1d_36 (MaxPooling (None, 12, 128)           0         \n",
      "_________________________________________________________________\n",
      "conv1d_48 (Conv1D)           (None, 12, 64)            24640     \n",
      "_________________________________________________________________\n",
      "flatten_14 (Flatten)         (None, 768)               0         \n",
      "_________________________________________________________________\n",
      "dropout_25 (Dropout)         (None, 768)               0         \n",
      "_________________________________________________________________\n",
      "batch_normalization_11 (Batc (None, 768)               3072      \n",
      "_________________________________________________________________\n",
      "dense_25 (Dense)             (None, 256)               196864    \n",
      "_________________________________________________________________\n",
      "dropout_26 (Dropout)         (None, 256)               0         \n",
      "_________________________________________________________________\n",
      "dense_26 (Dense)             (None, 17)                4369      \n",
      "=================================================================\n",
      "Total params: 1,034,869\n",
      "Trainable params: 1,033,333\n",
      "Non-trainable params: 1,536\n",
      "_________________________________________________________________\n",
      "Epoch 1/5\n",
      "71/71 [==============================] - 2s 22ms/step - loss: 0.3967 - my_score: 0.6033 - val_loss: 0.4069 - val_my_score: 0.5931\n",
      "Epoch 2/5\n",
      "71/71 [==============================] - 1s 20ms/step - loss: 0.1358 - my_score: 0.8642 - val_loss: 0.4273 - val_my_score: 0.5727\n",
      "Epoch 3/5\n",
      "71/71 [==============================] - 1s 20ms/step - loss: 0.0553 - my_score: 0.9447 - val_loss: 0.2400 - val_my_score: 0.7600\n",
      "Epoch 4/5\n",
      "71/71 [==============================] - 1s 20ms/step - loss: 0.0254 - my_score: 0.9746 - val_loss: 0.1103 - val_my_score: 0.8897\n",
      "Epoch 5/5\n",
      "71/71 [==============================] - 1s 20ms/step - loss: 0.0125 - my_score: 0.9875 - val_loss: 0.0955 - val_my_score: 0.9045\n"
     ]
    },
    {
     "data": {
      "text/plain": [
       "<tensorflow.python.keras.callbacks.History at 0x7f66a858b128>"
      ]
     },
     "execution_count": 72,
     "metadata": {},
     "output_type": "execute_result"
    }
   ],
   "source": [
    "model = Sequential()\n",
    "model.add(Embedding(len(vocab) + 1, 300, input_length=100)) #使用Embeeding层将每个词编码转换为词向量\n",
    "model.add(Conv1D(256, 5, padding='same'))\n",
    "model.add(MaxPooling1D(3, 3, padding='same'))\n",
    "model.add(Conv1D(128, 5, padding='same'))\n",
    "model.add(MaxPooling1D(3, 3, padding='same'))\n",
    "model.add(Conv1D(64, 3, padding='same'))\n",
    "model.add(Flatten())\n",
    "model.add(Dropout(0.1))\n",
    "model.add(BatchNormalization())  # (批)规范化层\n",
    "model.add(Dense(256, activation='relu'))\n",
    "model.add(Dropout(0.1))\n",
    "model.add(Dense(17, activation='softmax'))\n",
    "model.summary()\n",
    "\n",
    "model.compile(loss='binary_crossentropy',optimizer='adam',metrics=[my_score])\n",
    "model.fit(train_data_padded_seqs, label, epochs=5, batch_size=128, validation_split=0.1)\n",
    "# y_predict = model.predict_classes(x_test_padded_seqs)  # 预测的是类别，结果就是类别号\n",
    "# y_predict = list(map(str, y_predict))\n",
    "# print('准确率', metrics.accuracy_score(y_test, y_predict))\n",
    "# print('平均f1-score:', metrics.f1_score(y_test, y_predict, average='weighted'))\n"
   ]
  },
  {
   "cell_type": "markdown",
   "id": "architectural-alcohol",
   "metadata": {},
   "source": [
    "## textCnn"
   ]
  },
  {
   "cell_type": "code",
   "execution_count": 169,
   "id": "competent-strike",
   "metadata": {
    "ExecuteTime": {
     "end_time": "2021-03-08T08:28:04.518049Z",
     "start_time": "2021-03-08T08:28:04.514512Z"
    }
   },
   "outputs": [],
   "source": [
    "import datetime"
   ]
  },
  {
   "cell_type": "code",
   "execution_count": 179,
   "id": "distant-smith",
   "metadata": {
    "ExecuteTime": {
     "end_time": "2021-03-08T09:03:17.749716Z",
     "start_time": "2021-03-08T09:03:17.738417Z"
    }
   },
   "outputs": [],
   "source": [
    "def textcnn(maxlen):\n",
    "    main_input = Input(shape=(maxlen,), dtype='float64')\n",
    "    # 词嵌入（使用预训练的词向量）\n",
    "    embedder = Embedding(len(vocab) + 1, 512, input_length=maxlen, trainable=False)\n",
    "    embed = embedder(main_input)\n",
    "    # 词窗大小分别为3,4,5\n",
    "    cnn_ = Conv1D(256, 1, padding='same', strides=1, activation='relu')(embed)\n",
    "    cnn_ = MaxPooling1D(pool_size=maxlen)(cnn_)\n",
    "\n",
    "    cnn0 = Conv1D(256, 2, padding='same', strides=1, activation='relu')(embed)\n",
    "    cnn0 = MaxPooling1D(pool_size=maxlen-1)(cnn0)\n",
    "    cnn1 = Conv1D(256, 3, padding='same', strides=1, activation='relu')(embed)\n",
    "    cnn1 = MaxPooling1D(pool_size=maxlen-2)(cnn1)\n",
    "    cnn2 = Conv1D(256, 4, padding='same', strides=1, activation='relu')(embed)\n",
    "    cnn2 = MaxPooling1D(pool_size=maxlen-3)(cnn2)\n",
    "    cnn3 = Conv1D(256, 5, padding='same', strides=1, activation='relu')(embed)\n",
    "    cnn3 = MaxPooling1D(pool_size=maxlen-4)(cnn3)\n",
    "\n",
    "    cnn4 = Conv1D(256, 6, padding='same', strides=1, activation='relu')(embed)\n",
    "    cnn4 = MaxPooling1D(pool_size=maxlen-5)(cnn4)\n",
    "    # 合并三个模型的输出向量\n",
    "    cnn = concatenate([cnn_, cnn0, cnn1, cnn2, cnn3, cnn4], axis=-1)\n",
    "    \n",
    "    flat = Flatten()(cnn)\n",
    "    drop1 = Dropout(0.5)(flat)\n",
    "#     norm = BatchNormalization()(drop1)\n",
    "#     dense = Dense(256, activation='relu', kernel_regularizer=regularizers.l2(0.01))(norm)\n",
    "# #     drop2 = Dropout(0.5)(dense)\n",
    "    main_output = Dense(17, activation='softmax')(drop1)\n",
    "    model = Model(inputs=main_input, outputs=main_output)\n",
    "    \n",
    "    return model"
   ]
  },
  {
   "cell_type": "code",
   "execution_count": 180,
   "id": "responsible-legislature",
   "metadata": {
    "ExecuteTime": {
     "end_time": "2021-03-08T09:09:42.673726Z",
     "start_time": "2021-03-08T09:03:18.744367Z"
    },
    "scrolled": true
   },
   "outputs": [
    {
     "name": "stdout",
     "output_type": "stream",
     "text": [
      "Model: \"model_57\"\n",
      "__________________________________________________________________________________________________\n",
      "Layer (type)                    Output Shape         Param #     Connected to                     \n",
      "==================================================================================================\n",
      "input_61 (InputLayer)           [(None, 100)]        0                                            \n",
      "__________________________________________________________________________________________________\n",
      "embedding_82 (Embedding)        (None, 100, 512)     439808      input_61[0][0]                   \n",
      "__________________________________________________________________________________________________\n",
      "conv1d_314 (Conv1D)             (None, 100, 256)     131328      embedding_82[0][0]               \n",
      "__________________________________________________________________________________________________\n",
      "conv1d_315 (Conv1D)             (None, 100, 256)     262400      embedding_82[0][0]               \n",
      "__________________________________________________________________________________________________\n",
      "conv1d_316 (Conv1D)             (None, 100, 256)     393472      embedding_82[0][0]               \n",
      "__________________________________________________________________________________________________\n",
      "conv1d_317 (Conv1D)             (None, 100, 256)     524544      embedding_82[0][0]               \n",
      "__________________________________________________________________________________________________\n",
      "conv1d_318 (Conv1D)             (None, 100, 256)     655616      embedding_82[0][0]               \n",
      "__________________________________________________________________________________________________\n",
      "conv1d_319 (Conv1D)             (None, 100, 256)     786688      embedding_82[0][0]               \n",
      "__________________________________________________________________________________________________\n",
      "max_pooling1d_302 (MaxPooling1D (None, 1, 256)       0           conv1d_314[0][0]                 \n",
      "__________________________________________________________________________________________________\n",
      "max_pooling1d_303 (MaxPooling1D (None, 1, 256)       0           conv1d_315[0][0]                 \n",
      "__________________________________________________________________________________________________\n",
      "max_pooling1d_304 (MaxPooling1D (None, 1, 256)       0           conv1d_316[0][0]                 \n",
      "__________________________________________________________________________________________________\n",
      "max_pooling1d_305 (MaxPooling1D (None, 1, 256)       0           conv1d_317[0][0]                 \n",
      "__________________________________________________________________________________________________\n",
      "max_pooling1d_306 (MaxPooling1D (None, 1, 256)       0           conv1d_318[0][0]                 \n",
      "__________________________________________________________________________________________________\n",
      "max_pooling1d_307 (MaxPooling1D (None, 1, 256)       0           conv1d_319[0][0]                 \n",
      "__________________________________________________________________________________________________\n",
      "concatenate_47 (Concatenate)    (None, 1, 1536)      0           max_pooling1d_302[0][0]          \n",
      "                                                                 max_pooling1d_303[0][0]          \n",
      "                                                                 max_pooling1d_304[0][0]          \n",
      "                                                                 max_pooling1d_305[0][0]          \n",
      "                                                                 max_pooling1d_306[0][0]          \n",
      "                                                                 max_pooling1d_307[0][0]          \n",
      "__________________________________________________________________________________________________\n",
      "flatten_59 (Flatten)            (None, 1536)         0           concatenate_47[0][0]             \n",
      "__________________________________________________________________________________________________\n",
      "dropout_119 (Dropout)           (None, 1536)         0           flatten_59[0][0]                 \n",
      "__________________________________________________________________________________________________\n",
      "dense_122 (Dense)               (None, 17)           26129       dropout_119[0][0]                \n",
      "==================================================================================================\n",
      "Total params: 3,219,985\n",
      "Trainable params: 2,780,177\n",
      "Non-trainable params: 439,808\n",
      "__________________________________________________________________________________________________\n",
      "Epoch 1/300\n",
      "12/12 [==============================] - 4s 273ms/step - loss: 0.5045 - my_score: 0.4955 - val_loss: 0.2939 - val_my_score: 0.7061\n",
      "Epoch 2/300\n",
      "12/12 [==============================] - 2s 184ms/step - loss: 0.2889 - my_score: 0.7111 - val_loss: 0.2484 - val_my_score: 0.7516\n",
      "Epoch 3/300\n",
      "12/12 [==============================] - 2s 183ms/step - loss: 0.2434 - my_score: 0.7566 - val_loss: 0.2155 - val_my_score: 0.7845\n",
      "Epoch 4/300\n",
      "12/12 [==============================] - 2s 184ms/step - loss: 0.2089 - my_score: 0.7911 - val_loss: 0.1849 - val_my_score: 0.8151\n",
      "Epoch 5/300\n",
      "12/12 [==============================] - 2s 184ms/step - loss: 0.1777 - my_score: 0.8223 - val_loss: 0.1603 - val_my_score: 0.8397\n",
      "Epoch 6/300\n",
      "12/12 [==============================] - 2s 182ms/step - loss: 0.1569 - my_score: 0.8431 - val_loss: 0.1421 - val_my_score: 0.8579\n",
      "Epoch 7/300\n",
      "12/12 [==============================] - 2s 185ms/step - loss: 0.1404 - my_score: 0.8596 - val_loss: 0.1289 - val_my_score: 0.8711\n",
      "Epoch 8/300\n",
      "12/12 [==============================] - 2s 183ms/step - loss: 0.1293 - my_score: 0.8707 - val_loss: 0.1190 - val_my_score: 0.8810\n",
      "Epoch 9/300\n",
      "12/12 [==============================] - 2s 189ms/step - loss: 0.1201 - my_score: 0.8799 - val_loss: 0.1117 - val_my_score: 0.8883\n",
      "Epoch 10/300\n",
      "12/12 [==============================] - 2s 181ms/step - loss: 0.1136 - my_score: 0.8864 - val_loss: 0.1045 - val_my_score: 0.8955\n",
      "Epoch 11/300\n",
      "12/12 [==============================] - 2s 183ms/step - loss: 0.1064 - my_score: 0.8936 - val_loss: 0.0982 - val_my_score: 0.9018\n",
      "Epoch 12/300\n",
      "12/12 [==============================] - 2s 183ms/step - loss: 0.0997 - my_score: 0.9003 - val_loss: 0.0933 - val_my_score: 0.9067\n",
      "Epoch 13/300\n",
      "12/12 [==============================] - 2s 184ms/step - loss: 0.0952 - my_score: 0.9048 - val_loss: 0.0885 - val_my_score: 0.9115\n",
      "Epoch 14/300\n",
      "12/12 [==============================] - 2s 183ms/step - loss: 0.0903 - my_score: 0.9097 - val_loss: 0.0847 - val_my_score: 0.9153\n",
      "Epoch 15/300\n",
      "12/12 [==============================] - 2s 184ms/step - loss: 0.0882 - my_score: 0.9118 - val_loss: 0.0811 - val_my_score: 0.9189\n",
      "Epoch 16/300\n",
      "12/12 [==============================] - 2s 185ms/step - loss: 0.0826 - my_score: 0.9174 - val_loss: 0.0779 - val_my_score: 0.9221\n",
      "Epoch 17/300\n",
      "12/12 [==============================] - 2s 182ms/step - loss: 0.0788 - my_score: 0.9212 - val_loss: 0.0752 - val_my_score: 0.9248\n",
      "Epoch 18/300\n",
      "12/12 [==============================] - 2s 183ms/step - loss: 0.0764 - my_score: 0.9236 - val_loss: 0.0733 - val_my_score: 0.9267\n",
      "Epoch 19/300\n",
      "12/12 [==============================] - 2s 189ms/step - loss: 0.0726 - my_score: 0.9274 - val_loss: 0.0698 - val_my_score: 0.9302\n",
      "Epoch 20/300\n",
      "12/12 [==============================] - 2s 185ms/step - loss: 0.0704 - my_score: 0.9296 - val_loss: 0.0675 - val_my_score: 0.9325\n",
      "Epoch 21/300\n",
      "12/12 [==============================] - 2s 185ms/step - loss: 0.0674 - my_score: 0.9326 - val_loss: 0.0654 - val_my_score: 0.9346\n",
      "Epoch 22/300\n",
      "12/12 [==============================] - 2s 182ms/step - loss: 0.0647 - my_score: 0.9353 - val_loss: 0.0634 - val_my_score: 0.9366\n",
      "Epoch 23/300\n",
      "12/12 [==============================] - 2s 184ms/step - loss: 0.0602 - my_score: 0.9398 - val_loss: 0.0613 - val_my_score: 0.9387\n",
      "Epoch 24/300\n",
      "12/12 [==============================] - 2s 184ms/step - loss: 0.0591 - my_score: 0.9409 - val_loss: 0.0592 - val_my_score: 0.9408\n",
      "Epoch 25/300\n",
      "12/12 [==============================] - 2s 183ms/step - loss: 0.0568 - my_score: 0.9432 - val_loss: 0.0580 - val_my_score: 0.9420\n",
      "Epoch 26/300\n"
     ]
    },
    {
     "name": "stdout",
     "output_type": "stream",
     "text": [
      "12/12 [==============================] - 2s 182ms/step - loss: 0.0558 - my_score: 0.9442 - val_loss: 0.0563 - val_my_score: 0.9437\n",
      "Epoch 27/300\n",
      "12/12 [==============================] - 2s 183ms/step - loss: 0.0536 - my_score: 0.9464 - val_loss: 0.0546 - val_my_score: 0.9454\n",
      "Epoch 28/300\n",
      "12/12 [==============================] - 2s 183ms/step - loss: 0.0512 - my_score: 0.9488 - val_loss: 0.0535 - val_my_score: 0.9465\n",
      "Epoch 29/300\n",
      "12/12 [==============================] - 2s 186ms/step - loss: 0.0487 - my_score: 0.9513 - val_loss: 0.0519 - val_my_score: 0.9481\n",
      "Epoch 30/300\n",
      "12/12 [==============================] - 2s 183ms/step - loss: 0.0477 - my_score: 0.9523 - val_loss: 0.0509 - val_my_score: 0.9491\n",
      "Epoch 31/300\n",
      "12/12 [==============================] - 2s 182ms/step - loss: 0.0466 - my_score: 0.9534 - val_loss: 0.0495 - val_my_score: 0.9505\n",
      "Epoch 32/300\n",
      "12/12 [==============================] - 2s 184ms/step - loss: 0.0444 - my_score: 0.9556 - val_loss: 0.0483 - val_my_score: 0.9517\n",
      "Epoch 33/300\n",
      "12/12 [==============================] - 2s 184ms/step - loss: 0.0420 - my_score: 0.9580 - val_loss: 0.0478 - val_my_score: 0.9522\n",
      "Epoch 34/300\n",
      "12/12 [==============================] - 2s 183ms/step - loss: 0.0409 - my_score: 0.9591 - val_loss: 0.0475 - val_my_score: 0.9525\n",
      "Epoch 35/300\n",
      "12/12 [==============================] - 2s 186ms/step - loss: 0.0395 - my_score: 0.9605 - val_loss: 0.0453 - val_my_score: 0.9547\n",
      "Epoch 36/300\n",
      "12/12 [==============================] - 2s 186ms/step - loss: 0.0382 - my_score: 0.9618 - val_loss: 0.0450 - val_my_score: 0.9550\n",
      "Epoch 37/300\n",
      "12/12 [==============================] - 2s 183ms/step - loss: 0.0373 - my_score: 0.9627 - val_loss: 0.0437 - val_my_score: 0.9563\n",
      "Epoch 38/300\n",
      "12/12 [==============================] - 2s 184ms/step - loss: 0.0355 - my_score: 0.9645 - val_loss: 0.0426 - val_my_score: 0.9574\n",
      "Epoch 39/300\n",
      "12/12 [==============================] - 2s 186ms/step - loss: 0.0349 - my_score: 0.9651 - val_loss: 0.0431 - val_my_score: 0.9569\n",
      "Epoch 40/300\n",
      "12/12 [==============================] - 2s 182ms/step - loss: 0.0330 - my_score: 0.9670 - val_loss: 0.0415 - val_my_score: 0.9585\n",
      "Epoch 41/300\n",
      "12/12 [==============================] - 2s 183ms/step - loss: 0.0318 - my_score: 0.9682 - val_loss: 0.0411 - val_my_score: 0.9589\n",
      "Epoch 42/300\n",
      "12/12 [==============================] - 2s 184ms/step - loss: 0.0310 - my_score: 0.9690 - val_loss: 0.0395 - val_my_score: 0.9605\n",
      "Epoch 43/300\n",
      "12/12 [==============================] - 2s 184ms/step - loss: 0.0308 - my_score: 0.9692 - val_loss: 0.0398 - val_my_score: 0.9602\n",
      "Epoch 44/300\n",
      "12/12 [==============================] - 2s 183ms/step - loss: 0.0291 - my_score: 0.9709 - val_loss: 0.0391 - val_my_score: 0.9609\n",
      "Epoch 45/300\n",
      "12/12 [==============================] - 2s 183ms/step - loss: 0.0290 - my_score: 0.9710 - val_loss: 0.0393 - val_my_score: 0.9607\n",
      "Epoch 46/300\n",
      "12/12 [==============================] - 2s 182ms/step - loss: 0.0277 - my_score: 0.9723 - val_loss: 0.0386 - val_my_score: 0.9614\n",
      "Epoch 47/300\n",
      "12/12 [==============================] - 2s 184ms/step - loss: 0.0266 - my_score: 0.9734 - val_loss: 0.0378 - val_my_score: 0.9622\n",
      "Epoch 48/300\n",
      "12/12 [==============================] - 2s 184ms/step - loss: 0.0261 - my_score: 0.9739 - val_loss: 0.0374 - val_my_score: 0.9626\n",
      "Epoch 49/300\n",
      "12/12 [==============================] - 2s 186ms/step - loss: 0.0246 - my_score: 0.9754 - val_loss: 0.0367 - val_my_score: 0.9633\n",
      "Epoch 50/300\n",
      "12/12 [==============================] - 2s 185ms/step - loss: 0.0243 - my_score: 0.9757 - val_loss: 0.0358 - val_my_score: 0.9642\n",
      "Epoch 51/300\n",
      "12/12 [==============================] - 2s 185ms/step - loss: 0.0236 - my_score: 0.9764 - val_loss: 0.0360 - val_my_score: 0.9640\n",
      "Epoch 52/300\n",
      "12/12 [==============================] - 2s 185ms/step - loss: 0.0227 - my_score: 0.9773 - val_loss: 0.0352 - val_my_score: 0.9648\n",
      "Epoch 53/300\n",
      "12/12 [==============================] - 2s 184ms/step - loss: 0.0217 - my_score: 0.9783 - val_loss: 0.0357 - val_my_score: 0.9643\n",
      "Epoch 54/300\n",
      "12/12 [==============================] - 2s 184ms/step - loss: 0.0218 - my_score: 0.9782 - val_loss: 0.0348 - val_my_score: 0.9652\n",
      "Epoch 55/300\n",
      "12/12 [==============================] - 2s 182ms/step - loss: 0.0204 - my_score: 0.9796 - val_loss: 0.0340 - val_my_score: 0.9660\n",
      "Epoch 56/300\n",
      "12/12 [==============================] - 2s 185ms/step - loss: 0.0202 - my_score: 0.9798 - val_loss: 0.0341 - val_my_score: 0.9659\n",
      "Epoch 57/300\n",
      "12/12 [==============================] - 2s 187ms/step - loss: 0.0196 - my_score: 0.9804 - val_loss: 0.0344 - val_my_score: 0.9656\n",
      "Epoch 58/300\n",
      "12/12 [==============================] - 2s 185ms/step - loss: 0.0194 - my_score: 0.9806 - val_loss: 0.0338 - val_my_score: 0.9662\n",
      "Epoch 59/300\n",
      "12/12 [==============================] - 2s 186ms/step - loss: 0.0184 - my_score: 0.9816 - val_loss: 0.0333 - val_my_score: 0.9667\n",
      "Epoch 60/300\n",
      "12/12 [==============================] - 2s 185ms/step - loss: 0.0178 - my_score: 0.9822 - val_loss: 0.0330 - val_my_score: 0.9670\n",
      "Epoch 61/300\n",
      "12/12 [==============================] - 2s 186ms/step - loss: 0.0167 - my_score: 0.9833 - val_loss: 0.0320 - val_my_score: 0.9680\n",
      "Epoch 62/300\n",
      "12/12 [==============================] - 2s 185ms/step - loss: 0.0170 - my_score: 0.9830 - val_loss: 0.0324 - val_my_score: 0.9676\n",
      "Epoch 63/300\n",
      "12/12 [==============================] - 2s 184ms/step - loss: 0.0168 - my_score: 0.9832 - val_loss: 0.0325 - val_my_score: 0.9675\n",
      "Epoch 64/300\n",
      "12/12 [==============================] - 2s 185ms/step - loss: 0.0168 - my_score: 0.9832 - val_loss: 0.0315 - val_my_score: 0.9685\n",
      "Epoch 65/300\n",
      "12/12 [==============================] - 2s 183ms/step - loss: 0.0158 - my_score: 0.9842 - val_loss: 0.0314 - val_my_score: 0.9686\n",
      "Epoch 66/300\n",
      "12/12 [==============================] - 2s 186ms/step - loss: 0.0157 - my_score: 0.9843 - val_loss: 0.0318 - val_my_score: 0.9682\n",
      "Epoch 67/300\n",
      "12/12 [==============================] - 2s 184ms/step - loss: 0.0150 - my_score: 0.9850 - val_loss: 0.0314 - val_my_score: 0.9686\n",
      "Epoch 68/300\n",
      "12/12 [==============================] - 2s 183ms/step - loss: 0.0149 - my_score: 0.9851 - val_loss: 0.0306 - val_my_score: 0.9694\n",
      "Epoch 69/300\n",
      "12/12 [==============================] - 2s 184ms/step - loss: 0.0140 - my_score: 0.9860 - val_loss: 0.0307 - val_my_score: 0.9693\n",
      "Epoch 70/300\n",
      "12/12 [==============================] - 2s 184ms/step - loss: 0.0136 - my_score: 0.9864 - val_loss: 0.0303 - val_my_score: 0.9697\n",
      "Epoch 71/300\n",
      "12/12 [==============================] - 2s 187ms/step - loss: 0.0136 - my_score: 0.9864 - val_loss: 0.0308 - val_my_score: 0.9692\n",
      "Epoch 72/300\n",
      "12/12 [==============================] - 2s 191ms/step - loss: 0.0129 - my_score: 0.9871 - val_loss: 0.0311 - val_my_score: 0.9689\n",
      "Epoch 73/300\n",
      "12/12 [==============================] - 2s 184ms/step - loss: 0.0129 - my_score: 0.9871 - val_loss: 0.0303 - val_my_score: 0.9697\n",
      "Epoch 74/300\n",
      "12/12 [==============================] - 2s 185ms/step - loss: 0.0128 - my_score: 0.9872 - val_loss: 0.0302 - val_my_score: 0.9698\n",
      "Epoch 75/300\n",
      "12/12 [==============================] - 2s 184ms/step - loss: 0.0125 - my_score: 0.9875 - val_loss: 0.0300 - val_my_score: 0.9700\n",
      "Epoch 76/300\n",
      "12/12 [==============================] - 3s 227ms/step - loss: 0.0120 - my_score: 0.9880 - val_loss: 0.0308 - val_my_score: 0.9692\n",
      "Epoch 77/300\n",
      "12/12 [==============================] - 2s 184ms/step - loss: 0.0109 - my_score: 0.9891 - val_loss: 0.0294 - val_my_score: 0.9706\n",
      "Epoch 78/300\n",
      "12/12 [==============================] - 2s 183ms/step - loss: 0.0115 - my_score: 0.9885 - val_loss: 0.0295 - val_my_score: 0.9705\n",
      "Epoch 79/300\n",
      "12/12 [==============================] - 2s 186ms/step - loss: 0.0114 - my_score: 0.9886 - val_loss: 0.0296 - val_my_score: 0.9704\n",
      "Epoch 80/300\n",
      "12/12 [==============================] - 2s 183ms/step - loss: 0.0108 - my_score: 0.9892 - val_loss: 0.0295 - val_my_score: 0.9705\n",
      "Epoch 81/300\n",
      "12/12 [==============================] - 2s 183ms/step - loss: 0.0099 - my_score: 0.9901 - val_loss: 0.0290 - val_my_score: 0.9710\n",
      "Epoch 82/300\n",
      "12/12 [==============================] - 2s 184ms/step - loss: 0.0100 - my_score: 0.9900 - val_loss: 0.0291 - val_my_score: 0.9709\n"
     ]
    },
    {
     "name": "stdout",
     "output_type": "stream",
     "text": [
      "Epoch 83/300\n",
      "12/12 [==============================] - 2s 184ms/step - loss: 0.0099 - my_score: 0.9901 - val_loss: 0.0295 - val_my_score: 0.9705\n",
      "Epoch 84/300\n",
      "12/12 [==============================] - 2s 184ms/step - loss: 0.0099 - my_score: 0.9901 - val_loss: 0.0293 - val_my_score: 0.9707\n",
      "Epoch 85/300\n",
      "12/12 [==============================] - 2s 184ms/step - loss: 0.0102 - my_score: 0.9898 - val_loss: 0.0287 - val_my_score: 0.9713\n",
      "Epoch 86/300\n",
      "12/12 [==============================] - 2s 184ms/step - loss: 0.0096 - my_score: 0.9904 - val_loss: 0.0299 - val_my_score: 0.9701\n",
      "Epoch 87/300\n",
      "12/12 [==============================] - 2s 186ms/step - loss: 0.0096 - my_score: 0.9904 - val_loss: 0.0287 - val_my_score: 0.9713\n",
      "Epoch 88/300\n",
      "12/12 [==============================] - 2s 187ms/step - loss: 0.0091 - my_score: 0.9909 - val_loss: 0.0280 - val_my_score: 0.9720\n",
      "Epoch 89/300\n",
      "12/12 [==============================] - 2s 186ms/step - loss: 0.0089 - my_score: 0.9911 - val_loss: 0.0301 - val_my_score: 0.9699\n",
      "Epoch 90/300\n",
      "12/12 [==============================] - 2s 183ms/step - loss: 0.0085 - my_score: 0.9915 - val_loss: 0.0274 - val_my_score: 0.9726\n",
      "Epoch 91/300\n",
      "12/12 [==============================] - 2s 184ms/step - loss: 0.0083 - my_score: 0.9917 - val_loss: 0.0292 - val_my_score: 0.9708\n",
      "Epoch 92/300\n",
      "12/12 [==============================] - 2s 184ms/step - loss: 0.0082 - my_score: 0.9918 - val_loss: 0.0283 - val_my_score: 0.9717\n",
      "Epoch 93/300\n",
      "12/12 [==============================] - 2s 184ms/step - loss: 0.0081 - my_score: 0.9919 - val_loss: 0.0285 - val_my_score: 0.9715\n",
      "Epoch 94/300\n",
      "12/12 [==============================] - 2s 184ms/step - loss: 0.0077 - my_score: 0.9923 - val_loss: 0.0273 - val_my_score: 0.9727\n",
      "Epoch 95/300\n",
      "12/12 [==============================] - 2s 185ms/step - loss: 0.0079 - my_score: 0.9921 - val_loss: 0.0289 - val_my_score: 0.9711\n",
      "Epoch 96/300\n",
      "12/12 [==============================] - 2s 183ms/step - loss: 0.0080 - my_score: 0.9920 - val_loss: 0.0281 - val_my_score: 0.9719\n",
      "Epoch 97/300\n",
      "12/12 [==============================] - 2s 184ms/step - loss: 0.0075 - my_score: 0.9925 - val_loss: 0.0269 - val_my_score: 0.9731\n",
      "Epoch 98/300\n",
      "12/12 [==============================] - 2s 185ms/step - loss: 0.0072 - my_score: 0.9928 - val_loss: 0.0283 - val_my_score: 0.9717\n",
      "Epoch 99/300\n",
      "12/12 [==============================] - 2s 186ms/step - loss: 0.0077 - my_score: 0.9923 - val_loss: 0.0272 - val_my_score: 0.9728\n",
      "Epoch 100/300\n",
      "12/12 [==============================] - 2s 184ms/step - loss: 0.0072 - my_score: 0.9928 - val_loss: 0.0286 - val_my_score: 0.9714\n",
      "Epoch 101/300\n",
      "12/12 [==============================] - 2s 185ms/step - loss: 0.0072 - my_score: 0.9928 - val_loss: 0.0283 - val_my_score: 0.9717\n",
      "Epoch 102/300\n",
      "12/12 [==============================] - 2s 184ms/step - loss: 0.0072 - my_score: 0.9928 - val_loss: 0.0268 - val_my_score: 0.9732\n",
      "Epoch 103/300\n",
      "12/12 [==============================] - 2s 183ms/step - loss: 0.0068 - my_score: 0.9932 - val_loss: 0.0279 - val_my_score: 0.9721\n",
      "Epoch 104/300\n",
      "12/12 [==============================] - 2s 184ms/step - loss: 0.0065 - my_score: 0.9935 - val_loss: 0.0278 - val_my_score: 0.9722\n",
      "Epoch 105/300\n",
      "12/12 [==============================] - 2s 183ms/step - loss: 0.0068 - my_score: 0.9932 - val_loss: 0.0282 - val_my_score: 0.9718\n",
      "Epoch 106/300\n",
      "12/12 [==============================] - 2s 184ms/step - loss: 0.0064 - my_score: 0.9936 - val_loss: 0.0281 - val_my_score: 0.9719\n",
      "Epoch 107/300\n",
      "12/12 [==============================] - 2s 188ms/step - loss: 0.0064 - my_score: 0.9936 - val_loss: 0.0281 - val_my_score: 0.9719\n",
      "Epoch 108/300\n",
      "12/12 [==============================] - 2s 184ms/step - loss: 0.0067 - my_score: 0.9933 - val_loss: 0.0268 - val_my_score: 0.9732\n",
      "Epoch 109/300\n",
      "12/12 [==============================] - 2s 187ms/step - loss: 0.0060 - my_score: 0.9940 - val_loss: 0.0277 - val_my_score: 0.9723\n",
      "Epoch 110/300\n",
      "12/12 [==============================] - 2s 184ms/step - loss: 0.0062 - my_score: 0.9938 - val_loss: 0.0273 - val_my_score: 0.9727\n",
      "Epoch 111/300\n",
      "12/12 [==============================] - 2s 185ms/step - loss: 0.0057 - my_score: 0.9943 - val_loss: 0.0275 - val_my_score: 0.9725\n",
      "Epoch 112/300\n",
      "12/12 [==============================] - 2s 183ms/step - loss: 0.0061 - my_score: 0.9939 - val_loss: 0.0282 - val_my_score: 0.9718\n",
      "Epoch 113/300\n",
      "12/12 [==============================] - 2s 185ms/step - loss: 0.0056 - my_score: 0.9944 - val_loss: 0.0275 - val_my_score: 0.9725\n",
      "Epoch 114/300\n",
      "12/12 [==============================] - 2s 184ms/step - loss: 0.0059 - my_score: 0.9941 - val_loss: 0.0267 - val_my_score: 0.9733\n",
      "Epoch 115/300\n",
      "12/12 [==============================] - 2s 186ms/step - loss: 0.0054 - my_score: 0.9946 - val_loss: 0.0275 - val_my_score: 0.9725\n",
      "Epoch 116/300\n",
      "12/12 [==============================] - 2s 183ms/step - loss: 0.0055 - my_score: 0.9945 - val_loss: 0.0268 - val_my_score: 0.9732\n",
      "Epoch 117/300\n",
      "12/12 [==============================] - 2s 185ms/step - loss: 0.0057 - my_score: 0.9943 - val_loss: 0.0272 - val_my_score: 0.9728\n",
      "Epoch 118/300\n",
      "12/12 [==============================] - 2s 183ms/step - loss: 0.0052 - my_score: 0.9948 - val_loss: 0.0270 - val_my_score: 0.9730\n",
      "Epoch 119/300\n",
      "12/12 [==============================] - 2s 183ms/step - loss: 0.0055 - my_score: 0.9945 - val_loss: 0.0268 - val_my_score: 0.9732\n",
      "Epoch 120/300\n",
      "12/12 [==============================] - 2s 183ms/step - loss: 0.0051 - my_score: 0.9949 - val_loss: 0.0270 - val_my_score: 0.9730\n",
      "Epoch 121/300\n",
      "12/12 [==============================] - 2s 184ms/step - loss: 0.0049 - my_score: 0.9951 - val_loss: 0.0269 - val_my_score: 0.9731\n",
      "Epoch 122/300\n",
      "12/12 [==============================] - 2s 183ms/step - loss: 0.0049 - my_score: 0.9951 - val_loss: 0.0269 - val_my_score: 0.9731\n",
      "Epoch 123/300\n",
      "12/12 [==============================] - 2s 183ms/step - loss: 0.0050 - my_score: 0.9950 - val_loss: 0.0268 - val_my_score: 0.9732\n",
      "Epoch 124/300\n",
      "12/12 [==============================] - 2s 183ms/step - loss: 0.0050 - my_score: 0.9950 - val_loss: 0.0272 - val_my_score: 0.9728\n",
      "Epoch 125/300\n",
      "12/12 [==============================] - 2s 184ms/step - loss: 0.0048 - my_score: 0.9952 - val_loss: 0.0268 - val_my_score: 0.9732\n",
      "Epoch 126/300\n",
      "12/12 [==============================] - 2s 185ms/step - loss: 0.0045 - my_score: 0.9955 - val_loss: 0.0266 - val_my_score: 0.9734\n",
      "Epoch 127/300\n",
      "12/12 [==============================] - 2s 183ms/step - loss: 0.0045 - my_score: 0.9955 - val_loss: 0.0269 - val_my_score: 0.9731\n",
      "Epoch 128/300\n",
      "12/12 [==============================] - 2s 183ms/step - loss: 0.0048 - my_score: 0.9952 - val_loss: 0.0266 - val_my_score: 0.9734\n",
      "Epoch 129/300\n",
      "12/12 [==============================] - 2s 184ms/step - loss: 0.0046 - my_score: 0.9954 - val_loss: 0.0269 - val_my_score: 0.9731\n",
      "Epoch 130/300\n",
      "12/12 [==============================] - 2s 183ms/step - loss: 0.0044 - my_score: 0.9956 - val_loss: 0.0273 - val_my_score: 0.9727\n",
      "Epoch 131/300\n",
      "12/12 [==============================] - 2s 185ms/step - loss: 0.0046 - my_score: 0.9954 - val_loss: 0.0272 - val_my_score: 0.9728\n",
      "Epoch 132/300\n",
      "12/12 [==============================] - 2s 183ms/step - loss: 0.0041 - my_score: 0.9959 - val_loss: 0.0266 - val_my_score: 0.9734\n",
      "Epoch 133/300\n",
      "12/12 [==============================] - 2s 183ms/step - loss: 0.0043 - my_score: 0.9957 - val_loss: 0.0269 - val_my_score: 0.9731\n",
      "Epoch 134/300\n",
      "12/12 [==============================] - 2s 185ms/step - loss: 0.0039 - my_score: 0.9961 - val_loss: 0.0277 - val_my_score: 0.9723\n",
      "Epoch 135/300\n",
      "12/12 [==============================] - 2s 183ms/step - loss: 0.0041 - my_score: 0.9959 - val_loss: 0.0269 - val_my_score: 0.9731\n",
      "Epoch 136/300\n",
      "12/12 [==============================] - 2s 182ms/step - loss: 0.0040 - my_score: 0.9960 - val_loss: 0.0275 - val_my_score: 0.9725\n",
      "Epoch 137/300\n",
      "12/12 [==============================] - 2s 185ms/step - loss: 0.0040 - my_score: 0.9960 - val_loss: 0.0265 - val_my_score: 0.9735\n",
      "Epoch 138/300\n",
      "12/12 [==============================] - 2s 184ms/step - loss: 0.0036 - my_score: 0.9964 - val_loss: 0.0283 - val_my_score: 0.9717\n",
      "Epoch 139/300\n"
     ]
    },
    {
     "name": "stdout",
     "output_type": "stream",
     "text": [
      "12/12 [==============================] - 2s 185ms/step - loss: 0.0038 - my_score: 0.9962 - val_loss: 0.0258 - val_my_score: 0.9742\n",
      "Epoch 140/300\n",
      "12/12 [==============================] - 2s 184ms/step - loss: 0.0037 - my_score: 0.9963 - val_loss: 0.0276 - val_my_score: 0.9724\n",
      "Epoch 141/300\n",
      "12/12 [==============================] - 2s 184ms/step - loss: 0.0039 - my_score: 0.9961 - val_loss: 0.0275 - val_my_score: 0.9725\n",
      "Epoch 142/300\n",
      "12/12 [==============================] - 2s 184ms/step - loss: 0.0034 - my_score: 0.9966 - val_loss: 0.0266 - val_my_score: 0.9734\n",
      "Epoch 143/300\n",
      "12/12 [==============================] - 2s 185ms/step - loss: 0.0037 - my_score: 0.9963 - val_loss: 0.0268 - val_my_score: 0.9732\n",
      "Epoch 144/300\n",
      "12/12 [==============================] - 2s 183ms/step - loss: 0.0037 - my_score: 0.9963 - val_loss: 0.0264 - val_my_score: 0.9736\n",
      "Epoch 145/300\n",
      "12/12 [==============================] - 2s 185ms/step - loss: 0.0036 - my_score: 0.9964 - val_loss: 0.0269 - val_my_score: 0.9731\n",
      "Epoch 146/300\n",
      "12/12 [==============================] - 2s 182ms/step - loss: 0.0037 - my_score: 0.9963 - val_loss: 0.0268 - val_my_score: 0.9732\n",
      "Epoch 147/300\n",
      "12/12 [==============================] - 2s 185ms/step - loss: 0.0034 - my_score: 0.9966 - val_loss: 0.0270 - val_my_score: 0.9730\n",
      "Epoch 148/300\n",
      "12/12 [==============================] - 2s 186ms/step - loss: 0.0031 - my_score: 0.9969 - val_loss: 0.0267 - val_my_score: 0.9733\n",
      "Epoch 149/300\n",
      "12/12 [==============================] - 2s 187ms/step - loss: 0.0034 - my_score: 0.9966 - val_loss: 0.0268 - val_my_score: 0.9732\n",
      "Epoch 150/300\n",
      "12/12 [==============================] - 2s 184ms/step - loss: 0.0034 - my_score: 0.9966 - val_loss: 0.0262 - val_my_score: 0.9738\n",
      "Epoch 151/300\n",
      "12/12 [==============================] - 2s 184ms/step - loss: 0.0033 - my_score: 0.9967 - val_loss: 0.0275 - val_my_score: 0.9725\n",
      "Epoch 152/300\n",
      "12/12 [==============================] - 2s 184ms/step - loss: 0.0033 - my_score: 0.9967 - val_loss: 0.0265 - val_my_score: 0.9735\n",
      "Epoch 153/300\n",
      "12/12 [==============================] - 2s 186ms/step - loss: 0.0032 - my_score: 0.9968 - val_loss: 0.0267 - val_my_score: 0.9733\n",
      "Epoch 154/300\n",
      "12/12 [==============================] - 2s 184ms/step - loss: 0.0031 - my_score: 0.9969 - val_loss: 0.0260 - val_my_score: 0.9740\n",
      "Epoch 155/300\n",
      "12/12 [==============================] - 2s 184ms/step - loss: 0.0031 - my_score: 0.9969 - val_loss: 0.0262 - val_my_score: 0.9738\n",
      "Epoch 156/300\n",
      "12/12 [==============================] - 2s 184ms/step - loss: 0.0030 - my_score: 0.9970 - val_loss: 0.0266 - val_my_score: 0.9734\n",
      "Epoch 157/300\n",
      "12/12 [==============================] - 2s 184ms/step - loss: 0.0032 - my_score: 0.9968 - val_loss: 0.0274 - val_my_score: 0.9726\n",
      "Epoch 158/300\n",
      "12/12 [==============================] - 2s 185ms/step - loss: 0.0031 - my_score: 0.9969 - val_loss: 0.0270 - val_my_score: 0.9730\n",
      "Epoch 159/300\n",
      "12/12 [==============================] - 2s 184ms/step - loss: 0.0029 - my_score: 0.9971 - val_loss: 0.0271 - val_my_score: 0.9729\n"
     ]
    },
    {
     "data": {
      "text/plain": [
       "<tensorflow.python.keras.callbacks.History at 0x7f65e0586748>"
      ]
     },
     "execution_count": 180,
     "metadata": {},
     "output_type": "execute_result"
    }
   ],
   "source": [
    "model = textcnn(maxlen)\n",
    "model.summary()\n",
    "\n",
    "log_dir = \"logs/fit/\" + datetime.datetime.now().strftime(\"%Y%m%d-%H%M%S\")\n",
    "tensorboard_callback = tf.keras.callbacks.TensorBoard(log_dir=log_dir, histogram_freq=1)\n",
    "earlystop_callback = EarlyStopping(monitor='val_loss', patience=20)\n",
    "\n",
    "model.compile(loss='binary_crossentropy', optimizer='adam', metrics=[my_score])\n",
    "model.fit(train_data_padded_seqs, label, epochs=300, batch_size=800,validation_split=0.1,\n",
    "          callbacks=[tensorboard_callback, earlystop_callback])"
   ]
  },
  {
   "cell_type": "code",
   "execution_count": 182,
   "id": "cross-beatles",
   "metadata": {
    "ExecuteTime": {
     "end_time": "2021-03-08T09:21:12.244319Z",
     "start_time": "2021-03-08T09:13:36.093073Z"
    },
    "scrolled": true
   },
   "outputs": [
    {
     "name": "stdout",
     "output_type": "stream",
     "text": [
      "Epoch 1/200\n",
      "13/13 [==============================] - 3s 172ms/step - loss: 0.4926 - my_score: 0.5074\n",
      "Epoch 2/200\n",
      "13/13 [==============================] - 2s 171ms/step - loss: 0.2808 - my_score: 0.7192\n",
      "Epoch 3/200\n",
      "13/13 [==============================] - 2s 172ms/step - loss: 0.2353 - my_score: 0.7647\n",
      "Epoch 4/200\n",
      "13/13 [==============================] - 2s 174ms/step - loss: 0.1947 - my_score: 0.8053\n",
      "Epoch 5/200\n",
      "13/13 [==============================] - 2s 172ms/step - loss: 0.1665 - my_score: 0.8335\n",
      "Epoch 6/200\n",
      "13/13 [==============================] - 2s 174ms/step - loss: 0.1475 - my_score: 0.8525\n",
      "Epoch 7/200\n",
      "13/13 [==============================] - 2s 171ms/step - loss: 0.1318 - my_score: 0.8682\n",
      "Epoch 8/200\n",
      "13/13 [==============================] - 2s 172ms/step - loss: 0.1205 - my_score: 0.8795\n",
      "Epoch 9/200\n",
      "13/13 [==============================] - 2s 175ms/step - loss: 0.1131 - my_score: 0.8869\n",
      "Epoch 10/200\n",
      "13/13 [==============================] - 2s 173ms/step - loss: 0.1062 - my_score: 0.8938\n",
      "Epoch 11/200\n",
      "13/13 [==============================] - 2s 173ms/step - loss: 0.1003 - my_score: 0.8997\n",
      "Epoch 12/200\n",
      "13/13 [==============================] - 2s 175ms/step - loss: 0.0949 - my_score: 0.9051\n",
      "Epoch 13/200\n",
      "13/13 [==============================] - 2s 175ms/step - loss: 0.0891 - my_score: 0.9109\n",
      "Epoch 14/200\n",
      "13/13 [==============================] - 2s 174ms/step - loss: 0.0846 - my_score: 0.9154\n",
      "Epoch 15/200\n",
      "13/13 [==============================] - 2s 176ms/step - loss: 0.0795 - my_score: 0.9205\n",
      "Epoch 16/200\n",
      "13/13 [==============================] - 2s 175ms/step - loss: 0.0770 - my_score: 0.9230\n",
      "Epoch 17/200\n",
      "13/13 [==============================] - 2s 176ms/step - loss: 0.0730 - my_score: 0.9270\n",
      "Epoch 18/200\n",
      "13/13 [==============================] - 2s 174ms/step - loss: 0.0695 - my_score: 0.9305\n",
      "Epoch 19/200\n",
      "13/13 [==============================] - 2s 175ms/step - loss: 0.0662 - my_score: 0.9338\n",
      "Epoch 20/200\n",
      "13/13 [==============================] - 2s 174ms/step - loss: 0.0651 - my_score: 0.9349\n",
      "Epoch 21/200\n",
      "13/13 [==============================] - 2s 175ms/step - loss: 0.0615 - my_score: 0.9385\n",
      "Epoch 22/200\n",
      "13/13 [==============================] - 2s 175ms/step - loss: 0.0580 - my_score: 0.9420\n",
      "Epoch 23/200\n",
      "13/13 [==============================] - 2s 175ms/step - loss: 0.0565 - my_score: 0.9435\n",
      "Epoch 24/200\n",
      "13/13 [==============================] - 2s 174ms/step - loss: 0.0537 - my_score: 0.9463\n",
      "Epoch 25/200\n",
      "13/13 [==============================] - 2s 173ms/step - loss: 0.0524 - my_score: 0.9476\n",
      "Epoch 26/200\n",
      "13/13 [==============================] - 2s 174ms/step - loss: 0.0494 - my_score: 0.9506\n",
      "Epoch 27/200\n",
      "13/13 [==============================] - 2s 175ms/step - loss: 0.0476 - my_score: 0.9524\n",
      "Epoch 28/200\n",
      "13/13 [==============================] - 2s 175ms/step - loss: 0.0456 - my_score: 0.9544\n",
      "Epoch 29/200\n",
      "13/13 [==============================] - 2s 176ms/step - loss: 0.0445 - my_score: 0.9555\n",
      "Epoch 30/200\n",
      "13/13 [==============================] - 2s 174ms/step - loss: 0.0426 - my_score: 0.9574\n",
      "Epoch 31/200\n",
      "13/13 [==============================] - 2s 173ms/step - loss: 0.0407 - my_score: 0.9593\n",
      "Epoch 32/200\n",
      "13/13 [==============================] - 2s 176ms/step - loss: 0.0391 - my_score: 0.9609\n",
      "Epoch 33/200\n",
      "13/13 [==============================] - 2s 175ms/step - loss: 0.0378 - my_score: 0.9622\n",
      "Epoch 34/200\n",
      "13/13 [==============================] - 2s 173ms/step - loss: 0.0361 - my_score: 0.9639\n",
      "Epoch 35/200\n",
      "13/13 [==============================] - 2s 175ms/step - loss: 0.0353 - my_score: 0.9647\n",
      "Epoch 36/200\n",
      "13/13 [==============================] - 2s 177ms/step - loss: 0.0339 - my_score: 0.9661\n",
      "Epoch 37/200\n",
      "13/13 [==============================] - 2s 177ms/step - loss: 0.0316 - my_score: 0.9684\n",
      "Epoch 38/200\n",
      "13/13 [==============================] - 2s 178ms/step - loss: 0.0314 - my_score: 0.9686\n",
      "Epoch 39/200\n",
      "13/13 [==============================] - 2s 177ms/step - loss: 0.0299 - my_score: 0.9701\n",
      "Epoch 40/200\n",
      "13/13 [==============================] - 2s 177ms/step - loss: 0.0290 - my_score: 0.9710\n",
      "Epoch 41/200\n",
      "13/13 [==============================] - 2s 177ms/step - loss: 0.0282 - my_score: 0.9718\n",
      "Epoch 42/200\n",
      "13/13 [==============================] - 2s 178ms/step - loss: 0.0272 - my_score: 0.9728\n",
      "Epoch 43/200\n",
      "13/13 [==============================] - 2s 179ms/step - loss: 0.0264 - my_score: 0.9736\n",
      "Epoch 44/200\n",
      "13/13 [==============================] - 2s 178ms/step - loss: 0.0256 - my_score: 0.9744\n",
      "Epoch 45/200\n",
      "13/13 [==============================] - 2s 177ms/step - loss: 0.0248 - my_score: 0.9752\n",
      "Epoch 46/200\n",
      "13/13 [==============================] - 2s 177ms/step - loss: 0.0242 - my_score: 0.9758\n",
      "Epoch 47/200\n",
      "13/13 [==============================] - 2s 177ms/step - loss: 0.0229 - my_score: 0.9771\n",
      "Epoch 48/200\n",
      "13/13 [==============================] - 2s 177ms/step - loss: 0.0221 - my_score: 0.9779\n",
      "Epoch 49/200\n",
      "13/13 [==============================] - 2s 175ms/step - loss: 0.0211 - my_score: 0.9789\n",
      "Epoch 50/200\n",
      "13/13 [==============================] - 2s 177ms/step - loss: 0.0211 - my_score: 0.9789\n",
      "Epoch 51/200\n",
      "13/13 [==============================] - 2s 175ms/step - loss: 0.0207 - my_score: 0.9793\n",
      "Epoch 52/200\n",
      "13/13 [==============================] - 2s 177ms/step - loss: 0.0193 - my_score: 0.9807\n",
      "Epoch 53/200\n",
      "13/13 [==============================] - 2s 177ms/step - loss: 0.0188 - my_score: 0.9812\n",
      "Epoch 54/200\n",
      "13/13 [==============================] - 2s 175ms/step - loss: 0.0185 - my_score: 0.9815\n",
      "Epoch 55/200\n",
      "13/13 [==============================] - 2s 176ms/step - loss: 0.0176 - my_score: 0.9824\n",
      "Epoch 56/200\n",
      "13/13 [==============================] - 2s 178ms/step - loss: 0.0173 - my_score: 0.9827\n",
      "Epoch 57/200\n",
      "13/13 [==============================] - 2s 178ms/step - loss: 0.0166 - my_score: 0.9834\n",
      "Epoch 58/200\n",
      "13/13 [==============================] - 2s 180ms/step - loss: 0.0164 - my_score: 0.9836\n",
      "Epoch 59/200\n",
      "13/13 [==============================] - 2s 176ms/step - loss: 0.0159 - my_score: 0.9841\n",
      "Epoch 60/200\n",
      "13/13 [==============================] - 2s 175ms/step - loss: 0.0150 - my_score: 0.9850\n",
      "Epoch 61/200\n",
      "13/13 [==============================] - 2s 174ms/step - loss: 0.0152 - my_score: 0.9848\n",
      "Epoch 62/200\n",
      "13/13 [==============================] - 2s 175ms/step - loss: 0.0144 - my_score: 0.9856\n",
      "Epoch 63/200\n",
      "13/13 [==============================] - 2s 174ms/step - loss: 0.0142 - my_score: 0.9858\n",
      "Epoch 64/200\n",
      "13/13 [==============================] - 2s 175ms/step - loss: 0.0138 - my_score: 0.9862\n",
      "Epoch 65/200\n",
      "13/13 [==============================] - 2s 175ms/step - loss: 0.0135 - my_score: 0.9865\n",
      "Epoch 66/200\n",
      "13/13 [==============================] - 2s 175ms/step - loss: 0.0124 - my_score: 0.9876\n",
      "Epoch 67/200\n",
      "13/13 [==============================] - 2s 175ms/step - loss: 0.0130 - my_score: 0.9870\n",
      "Epoch 68/200\n",
      "13/13 [==============================] - 2s 175ms/step - loss: 0.0121 - my_score: 0.9879\n",
      "Epoch 69/200\n",
      "13/13 [==============================] - 2s 174ms/step - loss: 0.0122 - my_score: 0.9878\n",
      "Epoch 70/200\n",
      "13/13 [==============================] - 2s 175ms/step - loss: 0.0118 - my_score: 0.9882\n",
      "Epoch 71/200\n",
      "13/13 [==============================] - 2s 174ms/step - loss: 0.0112 - my_score: 0.9888\n",
      "Epoch 72/200\n",
      "13/13 [==============================] - 2s 175ms/step - loss: 0.0110 - my_score: 0.9890\n",
      "Epoch 73/200\n",
      "13/13 [==============================] - 2s 175ms/step - loss: 0.0107 - my_score: 0.9893\n",
      "Epoch 74/200\n",
      "13/13 [==============================] - 2s 175ms/step - loss: 0.0104 - my_score: 0.9896\n",
      "Epoch 75/200\n",
      "13/13 [==============================] - 2s 174ms/step - loss: 0.0097 - my_score: 0.9903\n",
      "Epoch 76/200\n",
      "13/13 [==============================] - 2s 174ms/step - loss: 0.0099 - my_score: 0.9901\n",
      "Epoch 77/200\n",
      "13/13 [==============================] - 2s 174ms/step - loss: 0.0099 - my_score: 0.9901\n",
      "Epoch 78/200\n",
      "13/13 [==============================] - 2s 174ms/step - loss: 0.0095 - my_score: 0.9905\n",
      "Epoch 79/200\n",
      "13/13 [==============================] - 2s 174ms/step - loss: 0.0092 - my_score: 0.9908\n",
      "Epoch 80/200\n",
      "13/13 [==============================] - 2s 174ms/step - loss: 0.0088 - my_score: 0.9912\n",
      "Epoch 81/200\n"
     ]
    },
    {
     "name": "stdout",
     "output_type": "stream",
     "text": [
      "13/13 [==============================] - 2s 174ms/step - loss: 0.0093 - my_score: 0.9907\n",
      "Epoch 82/200\n",
      "13/13 [==============================] - 2s 174ms/step - loss: 0.0088 - my_score: 0.9912\n",
      "Epoch 83/200\n",
      "13/13 [==============================] - 2s 174ms/step - loss: 0.0091 - my_score: 0.9909\n",
      "Epoch 84/200\n",
      "13/13 [==============================] - 2s 174ms/step - loss: 0.0084 - my_score: 0.9916\n",
      "Epoch 85/200\n",
      "13/13 [==============================] - 2s 174ms/step - loss: 0.0083 - my_score: 0.9917\n",
      "Epoch 86/200\n",
      "13/13 [==============================] - 2s 174ms/step - loss: 0.0081 - my_score: 0.9919\n",
      "Epoch 87/200\n",
      "13/13 [==============================] - 2s 175ms/step - loss: 0.0075 - my_score: 0.9925\n",
      "Epoch 88/200\n",
      "13/13 [==============================] - 2s 174ms/step - loss: 0.0078 - my_score: 0.9922\n",
      "Epoch 89/200\n",
      "13/13 [==============================] - 2s 174ms/step - loss: 0.0074 - my_score: 0.9926\n",
      "Epoch 90/200\n",
      "13/13 [==============================] - 2s 174ms/step - loss: 0.0073 - my_score: 0.9927\n",
      "Epoch 91/200\n",
      "13/13 [==============================] - 2s 174ms/step - loss: 0.0072 - my_score: 0.9928\n",
      "Epoch 92/200\n",
      "13/13 [==============================] - 2s 174ms/step - loss: 0.0069 - my_score: 0.9931\n",
      "Epoch 93/200\n",
      "13/13 [==============================] - 2s 174ms/step - loss: 0.0068 - my_score: 0.9932\n",
      "Epoch 94/200\n",
      "13/13 [==============================] - 2s 174ms/step - loss: 0.0067 - my_score: 0.9933\n",
      "Epoch 95/200\n",
      "13/13 [==============================] - 2s 174ms/step - loss: 0.0067 - my_score: 0.9933\n",
      "Epoch 96/200\n",
      "13/13 [==============================] - 2s 174ms/step - loss: 0.0065 - my_score: 0.9935\n",
      "Epoch 97/200\n",
      "13/13 [==============================] - 2s 174ms/step - loss: 0.0061 - my_score: 0.9939\n",
      "Epoch 98/200\n",
      "13/13 [==============================] - 2s 174ms/step - loss: 0.0063 - my_score: 0.9937\n",
      "Epoch 99/200\n",
      "13/13 [==============================] - 2s 174ms/step - loss: 0.0062 - my_score: 0.9938\n",
      "Epoch 100/200\n",
      "13/13 [==============================] - 2s 174ms/step - loss: 0.0063 - my_score: 0.9937\n",
      "Epoch 101/200\n",
      "13/13 [==============================] - 2s 174ms/step - loss: 0.0060 - my_score: 0.9940\n",
      "Epoch 102/200\n",
      "13/13 [==============================] - 2s 174ms/step - loss: 0.0058 - my_score: 0.9942\n",
      "Epoch 103/200\n",
      "13/13 [==============================] - 2s 174ms/step - loss: 0.0055 - my_score: 0.9945\n",
      "Epoch 104/200\n",
      "13/13 [==============================] - 2s 174ms/step - loss: 0.0055 - my_score: 0.9945\n",
      "Epoch 105/200\n",
      "13/13 [==============================] - 2s 174ms/step - loss: 0.0056 - my_score: 0.9944\n",
      "Epoch 106/200\n",
      "13/13 [==============================] - 2s 174ms/step - loss: 0.0055 - my_score: 0.9945\n",
      "Epoch 107/200\n",
      "13/13 [==============================] - 2s 174ms/step - loss: 0.0056 - my_score: 0.9944\n",
      "Epoch 108/200\n",
      "13/13 [==============================] - 2s 174ms/step - loss: 0.0055 - my_score: 0.9945\n",
      "Epoch 109/200\n",
      "13/13 [==============================] - 2s 175ms/step - loss: 0.0052 - my_score: 0.9948\n",
      "Epoch 110/200\n",
      "13/13 [==============================] - 2s 174ms/step - loss: 0.0052 - my_score: 0.9948\n",
      "Epoch 111/200\n",
      "13/13 [==============================] - 2s 174ms/step - loss: 0.0051 - my_score: 0.9949\n",
      "Epoch 112/200\n",
      "13/13 [==============================] - 2s 174ms/step - loss: 0.0048 - my_score: 0.9952\n",
      "Epoch 113/200\n",
      "13/13 [==============================] - 2s 174ms/step - loss: 0.0048 - my_score: 0.9952\n",
      "Epoch 114/200\n",
      "13/13 [==============================] - 2s 174ms/step - loss: 0.0045 - my_score: 0.9955\n",
      "Epoch 115/200\n",
      "13/13 [==============================] - 2s 174ms/step - loss: 0.0046 - my_score: 0.9954\n",
      "Epoch 116/200\n",
      "13/13 [==============================] - 2s 174ms/step - loss: 0.0045 - my_score: 0.9955\n",
      "Epoch 117/200\n",
      "13/13 [==============================] - 2s 174ms/step - loss: 0.0045 - my_score: 0.9955\n",
      "Epoch 118/200\n",
      "13/13 [==============================] - 2s 174ms/step - loss: 0.0047 - my_score: 0.9953\n",
      "Epoch 119/200\n",
      "13/13 [==============================] - 2s 174ms/step - loss: 0.0042 - my_score: 0.9958\n",
      "Epoch 120/200\n",
      "13/13 [==============================] - 2s 174ms/step - loss: 0.0042 - my_score: 0.9958\n",
      "Epoch 121/200\n",
      "13/13 [==============================] - 2s 174ms/step - loss: 0.0042 - my_score: 0.9958\n",
      "Epoch 122/200\n",
      "13/13 [==============================] - 2s 174ms/step - loss: 0.0043 - my_score: 0.9957\n",
      "Epoch 123/200\n",
      "13/13 [==============================] - 2s 175ms/step - loss: 0.0040 - my_score: 0.9960\n",
      "Epoch 124/200\n",
      "13/13 [==============================] - 2s 174ms/step - loss: 0.0038 - my_score: 0.9962\n",
      "Epoch 125/200\n",
      "13/13 [==============================] - 2s 174ms/step - loss: 0.0041 - my_score: 0.9959\n",
      "Epoch 126/200\n",
      "13/13 [==============================] - 2s 174ms/step - loss: 0.0039 - my_score: 0.9961\n",
      "Epoch 127/200\n",
      "13/13 [==============================] - 2s 174ms/step - loss: 0.0037 - my_score: 0.9963\n",
      "Epoch 128/200\n",
      "13/13 [==============================] - 2s 174ms/step - loss: 0.0037 - my_score: 0.9963\n",
      "Epoch 129/200\n",
      "13/13 [==============================] - 2s 174ms/step - loss: 0.0037 - my_score: 0.9963\n",
      "Epoch 130/200\n",
      "13/13 [==============================] - 2s 174ms/step - loss: 0.0037 - my_score: 0.9963\n",
      "Epoch 131/200\n",
      "13/13 [==============================] - 2s 174ms/step - loss: 0.0035 - my_score: 0.9965\n",
      "Epoch 132/200\n",
      "13/13 [==============================] - 2s 174ms/step - loss: 0.0039 - my_score: 0.9961\n",
      "Epoch 133/200\n",
      "13/13 [==============================] - 2s 174ms/step - loss: 0.0034 - my_score: 0.9966\n",
      "Epoch 134/200\n",
      "13/13 [==============================] - 2s 174ms/step - loss: 0.0037 - my_score: 0.9963\n",
      "Epoch 135/200\n",
      "13/13 [==============================] - 2s 174ms/step - loss: 0.0032 - my_score: 0.9968\n",
      "Epoch 136/200\n",
      "13/13 [==============================] - 2s 174ms/step - loss: 0.0032 - my_score: 0.9968\n",
      "Epoch 137/200\n",
      "13/13 [==============================] - 2s 174ms/step - loss: 0.0033 - my_score: 0.9967\n",
      "Epoch 138/200\n",
      "13/13 [==============================] - 2s 175ms/step - loss: 0.0031 - my_score: 0.9969\n",
      "Epoch 139/200\n",
      "13/13 [==============================] - 2s 174ms/step - loss: 0.0032 - my_score: 0.9968\n",
      "Epoch 140/200\n",
      "13/13 [==============================] - 2s 174ms/step - loss: 0.0032 - my_score: 0.9968\n",
      "Epoch 141/200\n",
      "13/13 [==============================] - 2s 174ms/step - loss: 0.0032 - my_score: 0.9968\n",
      "Epoch 142/200\n",
      "13/13 [==============================] - 2s 174ms/step - loss: 0.0032 - my_score: 0.9968\n",
      "Epoch 143/200\n",
      "13/13 [==============================] - 2s 174ms/step - loss: 0.0031 - my_score: 0.9969\n",
      "Epoch 144/200\n",
      "13/13 [==============================] - 2s 174ms/step - loss: 0.0029 - my_score: 0.9971\n",
      "Epoch 145/200\n",
      "13/13 [==============================] - 2s 174ms/step - loss: 0.0030 - my_score: 0.9970\n",
      "Epoch 146/200\n",
      "13/13 [==============================] - 2s 175ms/step - loss: 0.0031 - my_score: 0.9969\n",
      "Epoch 147/200\n",
      "13/13 [==============================] - 2s 175ms/step - loss: 0.0030 - my_score: 0.9970\n",
      "Epoch 148/200\n",
      "13/13 [==============================] - 2s 174ms/step - loss: 0.0029 - my_score: 0.9971\n",
      "Epoch 149/200\n",
      "13/13 [==============================] - 2s 174ms/step - loss: 0.0027 - my_score: 0.9973\n",
      "Epoch 150/200\n",
      "13/13 [==============================] - 2s 174ms/step - loss: 0.0029 - my_score: 0.9971\n",
      "Epoch 151/200\n",
      "13/13 [==============================] - 2s 174ms/step - loss: 0.0027 - my_score: 0.9973\n",
      "Epoch 152/200\n",
      "13/13 [==============================] - 2s 174ms/step - loss: 0.0027 - my_score: 0.9973\n",
      "Epoch 153/200\n",
      "13/13 [==============================] - 2s 174ms/step - loss: 0.0029 - my_score: 0.9971\n",
      "Epoch 154/200\n",
      "13/13 [==============================] - 2s 174ms/step - loss: 0.0027 - my_score: 0.9973\n",
      "Epoch 155/200\n",
      "13/13 [==============================] - 2s 174ms/step - loss: 0.0027 - my_score: 0.9973\n",
      "Epoch 156/200\n",
      "13/13 [==============================] - 2s 174ms/step - loss: 0.0027 - my_score: 0.9973\n",
      "Epoch 157/200\n",
      "13/13 [==============================] - 2s 174ms/step - loss: 0.0026 - my_score: 0.9974\n",
      "Epoch 158/200\n",
      "13/13 [==============================] - 2s 174ms/step - loss: 0.0024 - my_score: 0.9976\n",
      "Epoch 159/200\n",
      "13/13 [==============================] - 2s 175ms/step - loss: 0.0027 - my_score: 0.9973\n",
      "Epoch 160/200\n"
     ]
    },
    {
     "name": "stdout",
     "output_type": "stream",
     "text": [
      "13/13 [==============================] - 2s 174ms/step - loss: 0.0027 - my_score: 0.9973\n",
      "Epoch 161/200\n",
      "13/13 [==============================] - 2s 174ms/step - loss: 0.0024 - my_score: 0.9976\n",
      "Epoch 162/200\n",
      "13/13 [==============================] - 2s 174ms/step - loss: 0.0024 - my_score: 0.9976\n",
      "Epoch 163/200\n",
      "13/13 [==============================] - 2s 174ms/step - loss: 0.0025 - my_score: 0.9975\n",
      "Epoch 164/200\n",
      "13/13 [==============================] - 2s 174ms/step - loss: 0.0022 - my_score: 0.9978\n",
      "Epoch 165/200\n",
      "13/13 [==============================] - 2s 174ms/step - loss: 0.0024 - my_score: 0.9976\n",
      "Epoch 166/200\n",
      "13/13 [==============================] - 2s 174ms/step - loss: 0.0024 - my_score: 0.9976\n",
      "Epoch 167/200\n",
      "13/13 [==============================] - 2s 174ms/step - loss: 0.0023 - my_score: 0.9977\n",
      "Epoch 168/200\n",
      "13/13 [==============================] - 2s 174ms/step - loss: 0.0022 - my_score: 0.9978\n",
      "Epoch 169/200\n",
      "13/13 [==============================] - 2s 174ms/step - loss: 0.0022 - my_score: 0.9978\n",
      "Epoch 170/200\n",
      "13/13 [==============================] - 2s 174ms/step - loss: 0.0022 - my_score: 0.9978\n",
      "Epoch 171/200\n",
      "13/13 [==============================] - 2s 174ms/step - loss: 0.0023 - my_score: 0.9977\n",
      "Epoch 172/200\n",
      "13/13 [==============================] - 2s 174ms/step - loss: 0.0020 - my_score: 0.9980\n",
      "Epoch 173/200\n",
      "13/13 [==============================] - 2s 174ms/step - loss: 0.0020 - my_score: 0.9980\n",
      "Epoch 174/200\n",
      "13/13 [==============================] - 2s 174ms/step - loss: 0.0021 - my_score: 0.9979\n",
      "Epoch 175/200\n",
      "13/13 [==============================] - 2s 174ms/step - loss: 0.0020 - my_score: 0.9980\n",
      "Epoch 176/200\n",
      "13/13 [==============================] - 2s 174ms/step - loss: 0.0020 - my_score: 0.9980\n",
      "Epoch 177/200\n",
      "13/13 [==============================] - 2s 174ms/step - loss: 0.0020 - my_score: 0.9980\n",
      "Epoch 178/200\n",
      "13/13 [==============================] - 2s 174ms/step - loss: 0.0021 - my_score: 0.9979\n",
      "Epoch 179/200\n",
      "13/13 [==============================] - 2s 174ms/step - loss: 0.0021 - my_score: 0.9979\n",
      "Epoch 180/200\n",
      "13/13 [==============================] - 2s 174ms/step - loss: 0.0021 - my_score: 0.9979\n",
      "Epoch 181/200\n",
      "13/13 [==============================] - 2s 174ms/step - loss: 0.0019 - my_score: 0.9981\n",
      "Epoch 182/200\n",
      "13/13 [==============================] - 2s 174ms/step - loss: 0.0018 - my_score: 0.9982\n",
      "Epoch 183/200\n",
      "13/13 [==============================] - 2s 174ms/step - loss: 0.0019 - my_score: 0.9981\n",
      "Epoch 184/200\n",
      "13/13 [==============================] - 2s 174ms/step - loss: 0.0018 - my_score: 0.9982\n",
      "Epoch 185/200\n",
      "13/13 [==============================] - 2s 174ms/step - loss: 0.0020 - my_score: 0.9980\n",
      "Epoch 186/200\n",
      "13/13 [==============================] - 2s 174ms/step - loss: 0.0018 - my_score: 0.9982\n",
      "Epoch 187/200\n",
      "13/13 [==============================] - 2s 174ms/step - loss: 0.0019 - my_score: 0.9981\n",
      "Epoch 188/200\n",
      "13/13 [==============================] - 2s 174ms/step - loss: 0.0019 - my_score: 0.9981\n",
      "Epoch 189/200\n",
      "13/13 [==============================] - 2s 174ms/step - loss: 0.0018 - my_score: 0.9982\n",
      "Epoch 190/200\n",
      "13/13 [==============================] - 2s 174ms/step - loss: 0.0019 - my_score: 0.9981\n",
      "Epoch 191/200\n",
      "13/13 [==============================] - 2s 174ms/step - loss: 0.0017 - my_score: 0.9983\n",
      "Epoch 192/200\n",
      "13/13 [==============================] - 2s 174ms/step - loss: 0.0018 - my_score: 0.9982\n",
      "Epoch 193/200\n",
      "13/13 [==============================] - 2s 174ms/step - loss: 0.0019 - my_score: 0.9981\n",
      "Epoch 194/200\n",
      "13/13 [==============================] - 2s 174ms/step - loss: 0.0017 - my_score: 0.9983\n",
      "Epoch 195/200\n",
      "13/13 [==============================] - 2s 174ms/step - loss: 0.0017 - my_score: 0.9983\n",
      "Epoch 196/200\n",
      "13/13 [==============================] - 2s 174ms/step - loss: 0.0017 - my_score: 0.9983\n",
      "Epoch 197/200\n",
      "13/13 [==============================] - 2s 175ms/step - loss: 0.0017 - my_score: 0.9983\n",
      "Epoch 198/200\n",
      "13/13 [==============================] - 2s 174ms/step - loss: 0.0017 - my_score: 0.9983\n",
      "Epoch 199/200\n",
      "13/13 [==============================] - 2s 174ms/step - loss: 0.0016 - my_score: 0.9984\n",
      "Epoch 200/200\n",
      "13/13 [==============================] - 2s 174ms/step - loss: 0.0016 - my_score: 0.9984\n"
     ]
    },
    {
     "data": {
      "text/plain": [
       "<tensorflow.python.keras.callbacks.History at 0x7f66101d7d68>"
      ]
     },
     "execution_count": 182,
     "metadata": {},
     "output_type": "execute_result"
    }
   ],
   "source": [
    "model = textcnn(maxlen)\n",
    "earlystop_callback = EarlyStopping(monitor='loss', patience=20)\n",
    "model.compile(loss='binary_crossentropy', optimizer='adam', metrics=[my_score])\n",
    "model.fit(train_data_padded_seqs, label, epochs=200, batch_size=800, callbacks=[earlystop_callback])"
   ]
  },
  {
   "cell_type": "code",
   "execution_count": 174,
   "id": "architectural-proxy",
   "metadata": {
    "ExecuteTime": {
     "end_time": "2021-03-08T08:35:15.379314Z",
     "start_time": "2021-03-08T08:35:13.251928Z"
    }
   },
   "outputs": [
    {
     "data": {
      "text/html": [
       "\n",
       "      <iframe id=\"tensorboard-frame-499362f058a95020\" width=\"100%\" height=\"800\" frameborder=\"0\">\n",
       "      </iframe>\n",
       "      <script>\n",
       "        (function() {\n",
       "          const frame = document.getElementById(\"tensorboard-frame-499362f058a95020\");\n",
       "          const url = new URL(\"/\", window.location);\n",
       "          const port = 6007;\n",
       "          if (port) {\n",
       "            url.port = port;\n",
       "          }\n",
       "          frame.src = url;\n",
       "        })();\n",
       "      </script>\n",
       "    "
      ],
      "text/plain": [
       "<IPython.core.display.HTML object>"
      ]
     },
     "metadata": {},
     "output_type": "display_data"
    }
   ],
   "source": [
    "%tensorboard --logdir logs/fit --host 0.0.0.0"
   ]
  },
  {
   "cell_type": "markdown",
   "id": "delayed-orange",
   "metadata": {},
   "source": [
    "### kfold"
   ]
  },
  {
   "cell_type": "code",
   "execution_count": null,
   "id": "dominant-dominican",
   "metadata": {
    "ExecuteTime": {
     "end_time": "2021-03-08T09:02:58.209074Z",
     "start_time": "2021-03-08T09:01:58.505695Z"
    }
   },
   "outputs": [],
   "source": [
    "kfold = StratifiedKFold(n_splits=5, shuffle=True, random_state=0)\n",
    "cvscores = []\n",
    "models = []\n",
    "\n",
    "for train, test in kfold.split(train_data_padded_seqs[:,0], label[:,0]):\n",
    "    model = textcnn(maxlen)\n",
    "    model.compile(loss='binary_crossentropy', optimizer='adam', metrics=[my_score])\n",
    "#     model.fit(train_data_padded_seqs, label, epochs=20, batch_size=800,validation_split=0.1)\n",
    "    model.fit(train_data_padded_seqs[train], label[train], epochs=50, batch_size=800, verbose=0)\n",
    "    scores = model.evaluate(train_data_padded_seqs[test], label[test], verbose=0)\n",
    "    models.append(model)\n",
    "    cvscores.append(scores)\n",
    "    print(\"%s: %.2f%%\" % (model.metrics_names[1], scores[1]*100))"
   ]
  },
  {
   "cell_type": "code",
   "execution_count": 128,
   "id": "limiting-speed",
   "metadata": {
    "ExecuteTime": {
     "end_time": "2021-03-08T08:01:35.997827Z",
     "start_time": "2021-03-08T08:01:35.994429Z"
    }
   },
   "outputs": [
    {
     "name": "stdout",
     "output_type": "stream",
     "text": [
      "[[0.032859619706869125, 0.9671404361724854], [0.03199091553688049, 0.9680091738700867], [0.03177975118160248, 0.9682203531265259], [0.035756807774305344, 0.9642431139945984], [0.03890657797455788, 0.9610933661460876], [0.03947802633047104, 0.9605220556259155], [0.03569938987493515, 0.9643005728721619], [0.03354867920279503, 0.9664511680603027], [0.03180423378944397, 0.9681957364082336], [0.032635584473609924, 0.9673644304275513]]\n"
     ]
    }
   ],
   "source": [
    "print(cvscores)"
   ]
  },
  {
   "cell_type": "markdown",
   "id": "competent-pantyhose",
   "metadata": {},
   "source": [
    "## Bilstm"
   ]
  },
  {
   "cell_type": "code",
   "execution_count": 76,
   "id": "million-instrumentation",
   "metadata": {
    "ExecuteTime": {
     "end_time": "2021-03-08T05:22:19.216665Z",
     "start_time": "2021-03-08T05:21:56.086413Z"
    }
   },
   "outputs": [
    {
     "name": "stdout",
     "output_type": "stream",
     "text": [
      "Model: \"model_4\"\n",
      "_________________________________________________________________\n",
      "Layer (type)                 Output Shape              Param #   \n",
      "=================================================================\n",
      "input_6 (InputLayer)         [(None, 100)]             0         \n",
      "_________________________________________________________________\n",
      "embedding_17 (Embedding)     (None, 100, 300)          257700    \n",
      "_________________________________________________________________\n",
      "bidirectional (Bidirectional (None, 100, 128)          186880    \n",
      "_________________________________________________________________\n",
      "bidirectional_1 (Bidirection (None, 128)               98816     \n",
      "_________________________________________________________________\n",
      "dense_28 (Dense)             (None, 17)                2193      \n",
      "=================================================================\n",
      "Total params: 545,589\n",
      "Trainable params: 287,889\n",
      "Non-trainable params: 257,700\n",
      "_________________________________________________________________\n",
      "Epoch 1/10\n",
      "45/45 [==============================] - 5s 60ms/step - loss: 0.4762 - my_score: 0.5238 - val_loss: 0.2677 - val_my_score: 0.7323\n",
      "Epoch 2/10\n",
      "45/45 [==============================] - 2s 41ms/step - loss: 0.2697 - my_score: 0.7303 - val_loss: 0.2675 - val_my_score: 0.7325\n",
      "Epoch 3/10\n",
      "45/45 [==============================] - 2s 42ms/step - loss: 0.2695 - my_score: 0.7305 - val_loss: 0.2677 - val_my_score: 0.7323\n",
      "Epoch 4/10\n",
      "45/45 [==============================] - 2s 42ms/step - loss: 0.2662 - my_score: 0.7338 - val_loss: 0.2675 - val_my_score: 0.7325\n",
      "Epoch 5/10\n",
      "45/45 [==============================] - 2s 41ms/step - loss: 0.2682 - my_score: 0.7318 - val_loss: 0.2605 - val_my_score: 0.7395\n",
      "Epoch 6/10\n",
      "45/45 [==============================] - 2s 42ms/step - loss: 0.2608 - my_score: 0.7392 - val_loss: 0.2523 - val_my_score: 0.7477\n",
      "Epoch 7/10\n",
      "45/45 [==============================] - 2s 41ms/step - loss: 0.2489 - my_score: 0.7511 - val_loss: 0.2346 - val_my_score: 0.7654\n",
      "Epoch 8/10\n",
      "45/45 [==============================] - 2s 42ms/step - loss: 0.2312 - my_score: 0.7688 - val_loss: 0.2258 - val_my_score: 0.7742\n",
      "Epoch 9/10\n",
      "45/45 [==============================] - 2s 48ms/step - loss: 0.2258 - my_score: 0.7742 - val_loss: 0.2210 - val_my_score: 0.7790\n",
      "Epoch 10/10\n",
      "45/45 [==============================] - 2s 42ms/step - loss: 0.2198 - my_score: 0.7802 - val_loss: 0.2166 - val_my_score: 0.7834\n"
     ]
    },
    {
     "data": {
      "text/plain": [
       "<tensorflow.python.keras.callbacks.History at 0x7f66a05cfba8>"
      ]
     },
     "execution_count": 76,
     "metadata": {},
     "output_type": "execute_result"
    }
   ],
   "source": [
    "inputs = Input(shape=(100,), dtype='float64')\n",
    "embedder = Embedding(len(vocab) + 1, 300, input_length=100, trainable=False)\n",
    "embed = embedder(inputs)\n",
    "# Embed each integer in a 128-dimensional vector\n",
    "# Add 2 bidirectional LSTMs\n",
    "x = layers.Bidirectional(layers.LSTM(64, return_sequences=True))(embed)\n",
    "x = layers.Bidirectional(layers.LSTM(64))(x)\n",
    "# Add a classifier\n",
    "outputs = Dense(17, activation='softmax')(x)\n",
    "model = Model(inputs, outputs)\n",
    "model.summary()\n",
    "\n",
    "model.compile(loss='binary_crossentropy', optimizer='adam', metrics=[my_score])\n",
    "model.fit(train_data_padded_seqs, label, epochs=10, batch_size=200,validation_split=0.1)"
   ]
  },
  {
   "cell_type": "markdown",
   "id": "quick-trunk",
   "metadata": {},
   "source": [
    "## Transformer"
   ]
  },
  {
   "cell_type": "code",
   "execution_count": 87,
   "id": "subsequent-significance",
   "metadata": {
    "ExecuteTime": {
     "end_time": "2021-03-08T05:33:49.406238Z",
     "start_time": "2021-03-08T05:33:16.163557Z"
    }
   },
   "outputs": [
    {
     "name": "stdout",
     "output_type": "stream",
     "text": [
      "Model: \"model_15\"\n",
      "_________________________________________________________________\n",
      "Layer (type)                 Output Shape              Param #   \n",
      "=================================================================\n",
      "input_17 (InputLayer)        [(None, 100)]             0         \n",
      "_________________________________________________________________\n",
      "token_and_position_embedding (None, 100, 256)          245504    \n",
      "_________________________________________________________________\n",
      "transformer_block_9 (Transfo (None, 100, 256)          658688    \n",
      "_________________________________________________________________\n",
      "global_average_pooling1d_9 ( (None, 256)               0         \n",
      "_________________________________________________________________\n",
      "dropout_67 (Dropout)         (None, 256)               0         \n",
      "_________________________________________________________________\n",
      "dense_68 (Dense)             (None, 100)               25700     \n",
      "_________________________________________________________________\n",
      "dropout_68 (Dropout)         (None, 100)               0         \n",
      "_________________________________________________________________\n",
      "dense_69 (Dense)             (None, 17)                1717      \n",
      "=================================================================\n",
      "Total params: 931,609\n",
      "Trainable params: 931,609\n",
      "Non-trainable params: 0\n",
      "_________________________________________________________________\n",
      "Epoch 1/20\n",
      "50/50 [==============================] - 2s 33ms/step - loss: 0.4066 - my_score: 0.5934\n",
      "Epoch 2/20\n",
      "50/50 [==============================] - 2s 32ms/step - loss: 0.2639 - my_score: 0.7361\n",
      "Epoch 3/20\n",
      "50/50 [==============================] - 2s 32ms/step - loss: 0.2064 - my_score: 0.7936\n",
      "Epoch 4/20\n",
      "50/50 [==============================] - 2s 32ms/step - loss: 0.1619 - my_score: 0.8381\n",
      "Epoch 5/20\n",
      "50/50 [==============================] - 2s 32ms/step - loss: 0.1284 - my_score: 0.8716\n",
      "Epoch 6/20\n",
      "50/50 [==============================] - 2s 32ms/step - loss: 0.1111 - my_score: 0.8889\n",
      "Epoch 7/20\n",
      "50/50 [==============================] - 2s 32ms/step - loss: 0.0977 - my_score: 0.9023\n",
      "Epoch 8/20\n",
      "50/50 [==============================] - 2s 32ms/step - loss: 0.0873 - my_score: 0.9127\n",
      "Epoch 9/20\n",
      "50/50 [==============================] - 2s 32ms/step - loss: 0.0770 - my_score: 0.9230\n",
      "Epoch 10/20\n",
      "50/50 [==============================] - 2s 33ms/step - loss: 0.0751 - my_score: 0.9249\n",
      "Epoch 11/20\n",
      "50/50 [==============================] - 2s 32ms/step - loss: 0.0696 - my_score: 0.9304\n",
      "Epoch 12/20\n",
      "50/50 [==============================] - 2s 32ms/step - loss: 0.0637 - my_score: 0.9363\n",
      "Epoch 13/20\n",
      "50/50 [==============================] - 2s 32ms/step - loss: 0.0589 - my_score: 0.9411\n",
      "Epoch 14/20\n",
      "50/50 [==============================] - 2s 32ms/step - loss: 0.0570 - my_score: 0.9430\n",
      "Epoch 15/20\n",
      "50/50 [==============================] - 2s 32ms/step - loss: 0.0504 - my_score: 0.9496\n",
      "Epoch 16/20\n",
      "50/50 [==============================] - 2s 32ms/step - loss: 0.0462 - my_score: 0.9538\n",
      "Epoch 17/20\n",
      "50/50 [==============================] - 2s 32ms/step - loss: 0.0452 - my_score: 0.9548\n",
      "Epoch 18/20\n",
      "50/50 [==============================] - 2s 31ms/step - loss: 0.0406 - my_score: 0.9594\n",
      "Epoch 19/20\n",
      "50/50 [==============================] - 2s 32ms/step - loss: 0.0372 - my_score: 0.9628\n",
      "Epoch 20/20\n",
      "50/50 [==============================] - 2s 32ms/step - loss: 0.0347 - my_score: 0.9653\n"
     ]
    },
    {
     "data": {
      "text/plain": [
       "<tensorflow.python.keras.callbacks.History at 0x7f66243225f8>"
      ]
     },
     "execution_count": 87,
     "metadata": {},
     "output_type": "execute_result"
    }
   ],
   "source": [
    "class TransformerBlock(layers.Layer):\n",
    "    def __init__(self, embed_dim, num_heads, ff_dim, rate=0.1):\n",
    "        super(TransformerBlock, self).__init__()\n",
    "        self.att = layers.MultiHeadAttention(num_heads=num_heads, key_dim=embed_dim)\n",
    "        self.ffn = keras.Sequential(\n",
    "            [layers.Dense(ff_dim, activation=\"relu\"), layers.Dense(embed_dim),]\n",
    "        )\n",
    "        self.layernorm1 = layers.LayerNormalization(epsilon=1e-6)\n",
    "        self.layernorm2 = layers.LayerNormalization(epsilon=1e-6)\n",
    "        self.dropout1 = layers.Dropout(rate)\n",
    "        self.dropout2 = layers.Dropout(rate)\n",
    "\n",
    "    def call(self, inputs, training):\n",
    "        attn_output = self.att(inputs, inputs)\n",
    "        attn_output = self.dropout1(attn_output, training=training)\n",
    "        out1 = self.layernorm1(inputs + attn_output)\n",
    "        ffn_output = self.ffn(out1)\n",
    "        ffn_output = self.dropout2(ffn_output, training=training)\n",
    "        return self.layernorm2(out1 + ffn_output)\n",
    "\n",
    "class TokenAndPositionEmbedding(layers.Layer):\n",
    "    def __init__(self, maxlen, vocab_size, embed_dim):\n",
    "        super(TokenAndPositionEmbedding, self).__init__()\n",
    "        self.token_emb = layers.Embedding(input_dim=vocab_size, output_dim=embed_dim)\n",
    "        self.pos_emb = layers.Embedding(input_dim=maxlen, output_dim=embed_dim)\n",
    "\n",
    "    def call(self, x):\n",
    "        maxlen = tf.shape(x)[-1]\n",
    "        positions = tf.range(start=0, limit=maxlen, delta=1)\n",
    "        positions = self.pos_emb(positions)\n",
    "        x = self.token_emb(x)\n",
    "        return x + positions\n",
    "\n",
    "embed_dim = 256  # Embedding size for each token\n",
    "num_heads = 2  # Number of attention heads\n",
    "ff_dim = 256  # Hidden layer size in feed forward network inside transformer\n",
    "maxlen=100\n",
    "vocab_size = len(vocab) + 1\n",
    "\n",
    "inputs = layers.Input(shape=(maxlen,))\n",
    "embedding_layer = TokenAndPositionEmbedding(maxlen, vocab_size, embed_dim)\n",
    "x = embedding_layer(inputs)\n",
    "transformer_block = TransformerBlock(embed_dim, num_heads, ff_dim)\n",
    "x = transformer_block(x)\n",
    "x = layers.GlobalAveragePooling1D()(x)\n",
    "x = layers.Dropout(0.3)(x)\n",
    "x = layers.Dense(100, activation=\"relu\")(x)\n",
    "x = layers.Dropout(0.3)(x)\n",
    "outputs = layers.Dense(17, activation=\"softmax\")(x)\n",
    "\n",
    "model = keras.Model(inputs=inputs, outputs=outputs)\n",
    "model.summary()\n",
    "\n",
    "\n",
    "model.compile(loss='binary_crossentropy', optimizer='adam', metrics=[my_score])\n",
    "# model.fit(train_data_padded_seqs, label, epochs=20, batch_size=200,validation_split=0.1)\n",
    "model.fit(train_data_padded_seqs, label, epochs=20, batch_size=200)"
   ]
  },
  {
   "cell_type": "code",
   "execution_count": null,
   "id": "imported-absorption",
   "metadata": {},
   "outputs": [],
   "source": []
  },
  {
   "cell_type": "code",
   "execution_count": null,
   "id": "buried-bryan",
   "metadata": {},
   "outputs": [],
   "source": []
  },
  {
   "cell_type": "markdown",
   "id": "restricted-number",
   "metadata": {},
   "source": [
    "## Prediction"
   ]
  },
  {
   "cell_type": "code",
   "execution_count": 184,
   "id": "distant-savage",
   "metadata": {
    "ExecuteTime": {
     "end_time": "2021-03-08T09:22:36.480202Z",
     "start_time": "2021-03-08T09:22:35.787628Z"
    }
   },
   "outputs": [],
   "source": [
    "test_pred = model.predict(test_data_padded_seqs)"
   ]
  },
  {
   "cell_type": "code",
   "execution_count": 185,
   "id": "fitting-trademark",
   "metadata": {
    "ExecuteTime": {
     "end_time": "2021-03-08T09:22:37.960748Z",
     "start_time": "2021-03-08T09:22:37.923936Z"
    }
   },
   "outputs": [],
   "source": [
    "result = ['|%s'%' '.join(['%.8f'%i for i in pred]) for pred in test_pred]"
   ]
  },
  {
   "cell_type": "code",
   "execution_count": 186,
   "id": "painful-charter",
   "metadata": {
    "ExecuteTime": {
     "end_time": "2021-03-08T09:22:38.902796Z",
     "start_time": "2021-03-08T09:22:38.897620Z"
    }
   },
   "outputs": [
    {
     "data": {
      "text/plain": [
       "'|0.00000003 0.00000013 0.00000001 0.00000000 0.00000000 0.00000000 0.00000000 0.98520273 0.00000898 0.01478814 0.00000002 0.00000000 0.00000000 0.00000000 0.00000000 0.00000001 0.00000000'"
      ]
     },
     "execution_count": 186,
     "metadata": {},
     "output_type": "execute_result"
    }
   ],
   "source": [
    "result[0]"
   ]
  },
  {
   "cell_type": "code",
   "execution_count": 187,
   "id": "recent-screw",
   "metadata": {
    "ExecuteTime": {
     "end_time": "2021-03-08T09:23:03.090776Z",
     "start_time": "2021-03-08T09:23:03.067160Z"
    }
   },
   "outputs": [
    {
     "data": {
      "text/html": [
       "<div>\n",
       "<style scoped>\n",
       "    .dataframe tbody tr th:only-of-type {\n",
       "        vertical-align: middle;\n",
       "    }\n",
       "\n",
       "    .dataframe tbody tr th {\n",
       "        vertical-align: top;\n",
       "    }\n",
       "\n",
       "    .dataframe thead th {\n",
       "        text-align: right;\n",
       "    }\n",
       "</style>\n",
       "<table border=\"1\" class=\"dataframe\">\n",
       "  <thead>\n",
       "    <tr style=\"text-align: right;\">\n",
       "      <th></th>\n",
       "      <th>report_id</th>\n",
       "      <th>description</th>\n",
       "      <th>words</th>\n",
       "      <th>report_ID</th>\n",
       "      <th>Prediction</th>\n",
       "    </tr>\n",
       "  </thead>\n",
       "  <tbody>\n",
       "    <tr>\n",
       "      <th>0</th>\n",
       "      <td>0</td>\n",
       "      <td>852 328 697 538 142 355 582 800 728 4 647 169 ...</td>\n",
       "      <td>[852, 328, 697, 538, 142, 355, 582, 800, 728, ...</td>\n",
       "      <td>0|</td>\n",
       "      <td>|0.00000003 0.00000013 0.00000001 0.00000000 0...</td>\n",
       "    </tr>\n",
       "    <tr>\n",
       "      <th>1</th>\n",
       "      <td>1</td>\n",
       "      <td>380 358 343 654 171 832 47 832 690 693 48 563 ...</td>\n",
       "      <td>[380, 358, 343, 654, 171, 832, 47, 832, 690, 6...</td>\n",
       "      <td>1|</td>\n",
       "      <td>|0.00225043 0.02840945 0.03147091 0.04229768 0...</td>\n",
       "    </tr>\n",
       "    <tr>\n",
       "      <th>2</th>\n",
       "      <td>2</td>\n",
       "      <td>751 335 834 582 717 583 585 693 623 328 107 38...</td>\n",
       "      <td>[751, 335, 834, 582, 717, 583, 585, 693, 623, ...</td>\n",
       "      <td>2|</td>\n",
       "      <td>|0.00000049 0.00000160 0.00000013 0.00000272 0...</td>\n",
       "    </tr>\n",
       "    <tr>\n",
       "      <th>3</th>\n",
       "      <td>3</td>\n",
       "      <td>623 328 649 582 488 12 578 623 538 382 382 265...</td>\n",
       "      <td>[623, 328, 649, 582, 488, 12, 578, 623, 538, 3...</td>\n",
       "      <td>3|</td>\n",
       "      <td>|0.01349525 0.00311254 0.09612284 0.00368371 0...</td>\n",
       "    </tr>\n",
       "    <tr>\n",
       "      <th>4</th>\n",
       "      <td>4</td>\n",
       "      <td>83 293 398 797 382 363 145 424 693 698 800 691...</td>\n",
       "      <td>[83, 293, 398, 797, 382, 363, 145, 424, 693, 6...</td>\n",
       "      <td>4|</td>\n",
       "      <td>|0.00000003 0.00000335 0.00000002 0.00000441 0...</td>\n",
       "    </tr>\n",
       "  </tbody>\n",
       "</table>\n",
       "</div>"
      ],
      "text/plain": [
       "  report_id                                        description  \\\n",
       "0         0  852 328 697 538 142 355 582 800 728 4 647 169 ...   \n",
       "1         1  380 358 343 654 171 832 47 832 690 693 48 563 ...   \n",
       "2         2  751 335 834 582 717 583 585 693 623 328 107 38...   \n",
       "3         3  623 328 649 582 488 12 578 623 538 382 382 265...   \n",
       "4         4  83 293 398 797 382 363 145 424 693 698 800 691...   \n",
       "\n",
       "                                               words report_ID  \\\n",
       "0  [852, 328, 697, 538, 142, 355, 582, 800, 728, ...        0|   \n",
       "1  [380, 358, 343, 654, 171, 832, 47, 832, 690, 6...        1|   \n",
       "2  [751, 335, 834, 582, 717, 583, 585, 693, 623, ...        2|   \n",
       "3  [623, 328, 649, 582, 488, 12, 578, 623, 538, 3...        3|   \n",
       "4  [83, 293, 398, 797, 382, 363, 145, 424, 693, 6...        4|   \n",
       "\n",
       "                                          Prediction  \n",
       "0  |0.00000003 0.00000013 0.00000001 0.00000000 0...  \n",
       "1  |0.00225043 0.02840945 0.03147091 0.04229768 0...  \n",
       "2  |0.00000049 0.00000160 0.00000013 0.00000272 0...  \n",
       "3  |0.01349525 0.00311254 0.09612284 0.00368371 0...  \n",
       "4  |0.00000003 0.00000335 0.00000002 0.00000441 0...  "
      ]
     },
     "execution_count": 187,
     "metadata": {},
     "output_type": "execute_result"
    }
   ],
   "source": [
    "test_dataset['report_ID'] = test_dataset['report_id'].apply(lambda x:'%s|'%x)\n",
    "test_dataset['Prediction'] =result\n",
    "test_dataset.head()"
   ]
  },
  {
   "cell_type": "code",
   "execution_count": 188,
   "id": "transparent-balloon",
   "metadata": {
    "ExecuteTime": {
     "end_time": "2021-03-08T09:23:05.253603Z",
     "start_time": "2021-03-08T09:23:05.223422Z"
    }
   },
   "outputs": [],
   "source": [
    "test_dataset[['report_ID','Prediction']].to_csv('output/submit_%d.csv'%(int(time.time())),\n",
    "                                                index = False,header=None)"
   ]
  },
  {
   "cell_type": "markdown",
   "id": "introductory-portsmouth",
   "metadata": {},
   "source": [
    "## Prediction2"
   ]
  },
  {
   "cell_type": "code",
   "execution_count": 131,
   "id": "global-closer",
   "metadata": {
    "ExecuteTime": {
     "end_time": "2021-03-08T08:05:10.144183Z",
     "start_time": "2021-03-08T08:05:04.638050Z"
    }
   },
   "outputs": [],
   "source": [
    "test_pred = []\n",
    "for model in models:\n",
    "    test_pred.append(model.predict(test_data_padded_seqs))\n",
    "test_pred = np.array(test_pred).mean(axis = 0)"
   ]
  },
  {
   "cell_type": "code",
   "execution_count": 132,
   "id": "about-yukon",
   "metadata": {
    "ExecuteTime": {
     "end_time": "2021-03-08T08:05:11.621359Z",
     "start_time": "2021-03-08T08:05:11.577956Z"
    }
   },
   "outputs": [],
   "source": [
    "result = ['|%s'%' '.join(['%.8f'%i for i in pred]) for pred in test_pred]"
   ]
  },
  {
   "cell_type": "code",
   "execution_count": 133,
   "id": "ordinary-wisconsin",
   "metadata": {
    "ExecuteTime": {
     "end_time": "2021-03-08T08:05:12.660476Z",
     "start_time": "2021-03-08T08:05:12.655118Z"
    }
   },
   "outputs": [
    {
     "data": {
      "text/plain": [
       "'|0.00000001 0.00000001 0.00000001 0.00000000 0.00000000 0.00000000 0.00000000 0.99086821 0.00000419 0.00912758 0.00000004 0.00000000 0.00000000 0.00000000 0.00000000 0.00000000 0.00000000'"
      ]
     },
     "execution_count": 133,
     "metadata": {},
     "output_type": "execute_result"
    }
   ],
   "source": [
    "result[0]"
   ]
  },
  {
   "cell_type": "code",
   "execution_count": 134,
   "id": "broad-hardware",
   "metadata": {
    "ExecuteTime": {
     "end_time": "2021-03-08T08:05:22.148783Z",
     "start_time": "2021-03-08T08:05:22.130767Z"
    }
   },
   "outputs": [
    {
     "data": {
      "text/html": [
       "<div>\n",
       "<style scoped>\n",
       "    .dataframe tbody tr th:only-of-type {\n",
       "        vertical-align: middle;\n",
       "    }\n",
       "\n",
       "    .dataframe tbody tr th {\n",
       "        vertical-align: top;\n",
       "    }\n",
       "\n",
       "    .dataframe thead th {\n",
       "        text-align: right;\n",
       "    }\n",
       "</style>\n",
       "<table border=\"1\" class=\"dataframe\">\n",
       "  <thead>\n",
       "    <tr style=\"text-align: right;\">\n",
       "      <th></th>\n",
       "      <th>report_id</th>\n",
       "      <th>description</th>\n",
       "      <th>words</th>\n",
       "      <th>report_ID</th>\n",
       "      <th>Prediction</th>\n",
       "    </tr>\n",
       "  </thead>\n",
       "  <tbody>\n",
       "    <tr>\n",
       "      <th>0</th>\n",
       "      <td>0</td>\n",
       "      <td>852 328 697 538 142 355 582 800 728 4 647 169 ...</td>\n",
       "      <td>[852, 328, 697, 538, 142, 355, 582, 800, 728, ...</td>\n",
       "      <td>0|</td>\n",
       "      <td>|0.00000001 0.00000001 0.00000001 0.00000000 0...</td>\n",
       "    </tr>\n",
       "    <tr>\n",
       "      <th>1</th>\n",
       "      <td>1</td>\n",
       "      <td>380 358 343 654 171 832 47 832 690 693 48 563 ...</td>\n",
       "      <td>[380, 358, 343, 654, 171, 832, 47, 832, 690, 6...</td>\n",
       "      <td>1|</td>\n",
       "      <td>|0.00194085 0.00767052 0.00348932 0.03106930 0...</td>\n",
       "    </tr>\n",
       "    <tr>\n",
       "      <th>2</th>\n",
       "      <td>2</td>\n",
       "      <td>751 335 834 582 717 583 585 693 623 328 107 38...</td>\n",
       "      <td>[751, 335, 834, 582, 717, 583, 585, 693, 623, ...</td>\n",
       "      <td>2|</td>\n",
       "      <td>|0.00000038 0.00000087 0.00000012 0.00000024 0...</td>\n",
       "    </tr>\n",
       "    <tr>\n",
       "      <th>3</th>\n",
       "      <td>3</td>\n",
       "      <td>623 328 649 582 488 12 578 623 538 382 382 265...</td>\n",
       "      <td>[623, 328, 649, 582, 488, 12, 578, 623, 538, 3...</td>\n",
       "      <td>3|</td>\n",
       "      <td>|0.00518915 0.00369618 0.07828070 0.00305524 0...</td>\n",
       "    </tr>\n",
       "    <tr>\n",
       "      <th>4</th>\n",
       "      <td>4</td>\n",
       "      <td>83 293 398 797 382 363 145 424 693 698 800 691...</td>\n",
       "      <td>[83, 293, 398, 797, 382, 363, 145, 424, 693, 6...</td>\n",
       "      <td>4|</td>\n",
       "      <td>|0.00000000 0.00000615 0.00000000 0.00002002 0...</td>\n",
       "    </tr>\n",
       "  </tbody>\n",
       "</table>\n",
       "</div>"
      ],
      "text/plain": [
       "  report_id                                        description  \\\n",
       "0         0  852 328 697 538 142 355 582 800 728 4 647 169 ...   \n",
       "1         1  380 358 343 654 171 832 47 832 690 693 48 563 ...   \n",
       "2         2  751 335 834 582 717 583 585 693 623 328 107 38...   \n",
       "3         3  623 328 649 582 488 12 578 623 538 382 382 265...   \n",
       "4         4  83 293 398 797 382 363 145 424 693 698 800 691...   \n",
       "\n",
       "                                               words report_ID  \\\n",
       "0  [852, 328, 697, 538, 142, 355, 582, 800, 728, ...        0|   \n",
       "1  [380, 358, 343, 654, 171, 832, 47, 832, 690, 6...        1|   \n",
       "2  [751, 335, 834, 582, 717, 583, 585, 693, 623, ...        2|   \n",
       "3  [623, 328, 649, 582, 488, 12, 578, 623, 538, 3...        3|   \n",
       "4  [83, 293, 398, 797, 382, 363, 145, 424, 693, 6...        4|   \n",
       "\n",
       "                                          Prediction  \n",
       "0  |0.00000001 0.00000001 0.00000001 0.00000000 0...  \n",
       "1  |0.00194085 0.00767052 0.00348932 0.03106930 0...  \n",
       "2  |0.00000038 0.00000087 0.00000012 0.00000024 0...  \n",
       "3  |0.00518915 0.00369618 0.07828070 0.00305524 0...  \n",
       "4  |0.00000000 0.00000615 0.00000000 0.00002002 0...  "
      ]
     },
     "execution_count": 134,
     "metadata": {},
     "output_type": "execute_result"
    }
   ],
   "source": [
    "test_dataset['report_ID'] = test_dataset['report_id'].apply(lambda x:'%s|'%x)\n",
    "test_dataset['Prediction'] =result\n",
    "test_dataset.head()"
   ]
  },
  {
   "cell_type": "code",
   "execution_count": 140,
   "id": "loose-speaker",
   "metadata": {
    "ExecuteTime": {
     "end_time": "2021-03-08T08:06:40.073776Z",
     "start_time": "2021-03-08T08:06:40.039242Z"
    }
   },
   "outputs": [],
   "source": [
    "test_dataset[['report_ID','Prediction']].to_csv('output/submit_%d.csv'%(int(time.time())),\n",
    "                                                index = False,header=None)"
   ]
  }
 ],
 "metadata": {
  "kernelspec": {
   "display_name": "Python 3",
   "language": "python",
   "name": "python3"
  },
  "language_info": {
   "codemirror_mode": {
    "name": "ipython",
    "version": 3
   },
   "file_extension": ".py",
   "mimetype": "text/x-python",
   "name": "python",
   "nbconvert_exporter": "python",
   "pygments_lexer": "ipython3",
   "version": "3.6.9"
  },
  "toc": {
   "base_numbering": 1,
   "nav_menu": {},
   "number_sections": true,
   "sideBar": true,
   "skip_h1_title": false,
   "title_cell": "Table of Contents",
   "title_sidebar": "Contents",
   "toc_cell": false,
   "toc_position": {
    "height": "calc(100% - 180px)",
    "left": "10px",
    "top": "150px",
    "width": "370.594px"
   },
   "toc_section_display": true,
   "toc_window_display": true
  },
  "varInspector": {
   "cols": {
    "lenName": 16,
    "lenType": 16,
    "lenVar": 40
   },
   "kernels_config": {
    "python": {
     "delete_cmd_postfix": "",
     "delete_cmd_prefix": "del ",
     "library": "var_list.py",
     "varRefreshCmd": "print(var_dic_list())"
    },
    "r": {
     "delete_cmd_postfix": ") ",
     "delete_cmd_prefix": "rm(",
     "library": "var_list.r",
     "varRefreshCmd": "cat(var_dic_list()) "
    }
   },
   "types_to_exclude": [
    "module",
    "function",
    "builtin_function_or_method",
    "instance",
    "_Feature"
   ],
   "window_display": false
  }
 },
 "nbformat": 4,
 "nbformat_minor": 5
}

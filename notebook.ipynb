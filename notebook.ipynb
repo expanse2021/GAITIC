{
 "cells": [
  {
   "cell_type": "markdown",
   "id": "spread-russian",
   "metadata": {},
   "source": [
    "# xxx"
   ]
  },
  {
   "cell_type": "code",
   "execution_count": 3,
   "id": "weighted-ballet",
   "metadata": {
    "ExecuteTime": {
     "end_time": "2021-03-08T03:00:06.970247Z",
     "start_time": "2021-03-08T03:00:06.444221Z"
    }
   },
   "outputs": [],
   "source": [
    "from tqdm import tqdm\n",
    "import numpy as np\n",
    "import seaborn as sns\n",
    "import pandas as pd\n",
    "import matplotlib.pyplot as plt\n",
    "\n",
    "\n",
    "def set_style():\n",
    "    sns.set_style('white')\n",
    "    plt.rcParams['font.sans-serif'] = ['SimHei']\n",
    "    plt.rcParams['axes.unicode_minus'] = False\n",
    "    plt.rcParams['figure.figsize'] = [10, 10]\n",
    "\n",
    "    pd.options.display.max_columns = 300\n",
    "    pd.options.display.max_rows = 1000\n",
    "    # plt.rcParams['figure.dpi'] = 200\n",
    "    sns.set_palette('muted')  # 调色板颜色温和\n",
    "    sns.set_context(\"notebook\", font_scale=1.2, rc={\"lines.linewidth\": 1})\n",
    "\n",
    "set_style()\n",
    "import sys"
   ]
  },
  {
   "cell_type": "code",
   "execution_count": 75,
   "id": "distributed-superior",
   "metadata": {
    "ExecuteTime": {
     "end_time": "2021-03-08T05:21:43.760138Z",
     "start_time": "2021-03-08T05:21:43.749942Z"
    }
   },
   "outputs": [
    {
     "name": "stdout",
     "output_type": "stream",
     "text": [
      "2.4.0\n"
     ]
    }
   ],
   "source": [
    "from sklearn import metrics\n",
    "from sklearn.preprocessing import LabelEncoder,OneHotEncoder\n",
    "\n",
    "import tensorflow as tf\n",
    "print(tf.__version__)\n",
    "physical_devices = tf.config.list_physical_devices('GPU')\n",
    "tf.config.experimental.set_memory_growth(physical_devices[0], True)\n",
    "\n",
    "import keras\n",
    "from keras import layers\n",
    "from keras.models import Model\n",
    "from keras.layers import LSTM, Activation, Dense, Dropout, Input, Embedding\n",
    "from keras.optimizers import RMSprop\n",
    "from keras.preprocessing.text import Tokenizer\n",
    "from keras.preprocessing import sequence\n",
    "from keras.callbacks import EarlyStopping\n",
    "from keras import Sequential"
   ]
  },
  {
   "cell_type": "code",
   "execution_count": 5,
   "id": "linear-grammar",
   "metadata": {
    "ExecuteTime": {
     "end_time": "2021-03-08T03:00:10.525569Z",
     "start_time": "2021-03-08T03:00:10.510173Z"
    }
   },
   "outputs": [],
   "source": [
    "from sklearn.preprocessing import MultiLabelBinarizer\n",
    "from sklearn.model_selection import train_test_split\n",
    "from keras.preprocessing.text import Tokenizer\n",
    "from keras.preprocessing.sequence import pad_sequences\n",
    "\n",
    "from keras.layers import Conv1D,MaxPooling1D, Flatten, BatchNormalization\n",
    "from keras.layers import concatenate"
   ]
  },
  {
   "cell_type": "code",
   "execution_count": 6,
   "id": "danish-feeling",
   "metadata": {
    "ExecuteTime": {
     "end_time": "2021-03-08T03:00:15.423834Z",
     "start_time": "2021-03-08T03:00:15.297770Z"
    }
   },
   "outputs": [
    {
     "name": "stdout",
     "output_type": "stream",
     "text": [
      "track1_round1_testA_20210222.csv  track1_round1_train_20210222.csv\r\n"
     ]
    }
   ],
   "source": [
    "!ls data"
   ]
  },
  {
   "cell_type": "code",
   "execution_count": 7,
   "id": "finnish-curtis",
   "metadata": {
    "ExecuteTime": {
     "end_time": "2021-03-08T03:00:18.128687Z",
     "start_time": "2021-03-08T03:00:18.072697Z"
    }
   },
   "outputs": [
    {
     "data": {
      "text/html": [
       "<div>\n",
       "<style scoped>\n",
       "    .dataframe tbody tr th:only-of-type {\n",
       "        vertical-align: middle;\n",
       "    }\n",
       "\n",
       "    .dataframe tbody tr th {\n",
       "        vertical-align: top;\n",
       "    }\n",
       "\n",
       "    .dataframe thead th {\n",
       "        text-align: right;\n",
       "    }\n",
       "</style>\n",
       "<table border=\"1\" class=\"dataframe\">\n",
       "  <thead>\n",
       "    <tr style=\"text-align: right;\">\n",
       "      <th></th>\n",
       "      <th>report_id</th>\n",
       "      <th>description</th>\n",
       "      <th>words</th>\n",
       "    </tr>\n",
       "  </thead>\n",
       "  <tbody>\n",
       "    <tr>\n",
       "      <th>0</th>\n",
       "      <td>0</td>\n",
       "      <td>852 328 697 538 142 355 582 800 728 4 647 169 ...</td>\n",
       "      <td>[852, 328, 697, 538, 142, 355, 582, 800, 728, ...</td>\n",
       "    </tr>\n",
       "    <tr>\n",
       "      <th>1</th>\n",
       "      <td>1</td>\n",
       "      <td>380 358 343 654 171 832 47 832 690 693 48 563 ...</td>\n",
       "      <td>[380, 358, 343, 654, 171, 832, 47, 832, 690, 6...</td>\n",
       "    </tr>\n",
       "    <tr>\n",
       "      <th>2</th>\n",
       "      <td>2</td>\n",
       "      <td>751 335 834 582 717 583 585 693 623 328 107 38...</td>\n",
       "      <td>[751, 335, 834, 582, 717, 583, 585, 693, 623, ...</td>\n",
       "    </tr>\n",
       "    <tr>\n",
       "      <th>3</th>\n",
       "      <td>3</td>\n",
       "      <td>623 328 649 582 488 12 578 623 538 382 382 265...</td>\n",
       "      <td>[623, 328, 649, 582, 488, 12, 578, 623, 538, 3...</td>\n",
       "    </tr>\n",
       "    <tr>\n",
       "      <th>4</th>\n",
       "      <td>4</td>\n",
       "      <td>83 293 398 797 382 363 145 424 693 698 800 691...</td>\n",
       "      <td>[83, 293, 398, 797, 382, 363, 145, 424, 693, 6...</td>\n",
       "    </tr>\n",
       "  </tbody>\n",
       "</table>\n",
       "</div>"
      ],
      "text/plain": [
       "  report_id                                        description  \\\n",
       "0         0  852 328 697 538 142 355 582 800 728 4 647 169 ...   \n",
       "1         1  380 358 343 654 171 832 47 832 690 693 48 563 ...   \n",
       "2         2  751 335 834 582 717 583 585 693 623 328 107 38...   \n",
       "3         3  623 328 649 582 488 12 578 623 538 382 382 265...   \n",
       "4         4  83 293 398 797 382 363 145 424 693 698 800 691...   \n",
       "\n",
       "                                               words  \n",
       "0  [852, 328, 697, 538, 142, 355, 582, 800, 728, ...  \n",
       "1  [380, 358, 343, 654, 171, 832, 47, 832, 690, 6...  \n",
       "2  [751, 335, 834, 582, 717, 583, 585, 693, 623, ...  \n",
       "3  [623, 328, 649, 582, 488, 12, 578, 623, 538, 3...  \n",
       "4  [83, 293, 398, 797, 382, 363, 145, 424, 693, 6...  "
      ]
     },
     "execution_count": 7,
     "metadata": {},
     "output_type": "execute_result"
    }
   ],
   "source": [
    "test_data = open('data/track1_round1_testA_20210222.csv').readlines()\n",
    "test_data = [data.strip().split('|,|') for data in test_data]\n",
    "test_dataset = pd.DataFrame(test_data, columns=['report_id', 'description'])\n",
    "test_dataset['words'] = test_dataset.description.apply(lambda x:x.split())\n",
    "\n",
    "test_dataset.head()"
   ]
  },
  {
   "cell_type": "code",
   "execution_count": 8,
   "id": "permanent-jordan",
   "metadata": {
    "ExecuteTime": {
     "end_time": "2021-03-08T03:00:19.106204Z",
     "start_time": "2021-03-08T03:00:19.031995Z"
    }
   },
   "outputs": [
    {
     "data": {
      "text/html": [
       "<div>\n",
       "<style scoped>\n",
       "    .dataframe tbody tr th:only-of-type {\n",
       "        vertical-align: middle;\n",
       "    }\n",
       "\n",
       "    .dataframe tbody tr th {\n",
       "        vertical-align: top;\n",
       "    }\n",
       "\n",
       "    .dataframe thead th {\n",
       "        text-align: right;\n",
       "    }\n",
       "</style>\n",
       "<table border=\"1\" class=\"dataframe\">\n",
       "  <thead>\n",
       "    <tr style=\"text-align: right;\">\n",
       "      <th></th>\n",
       "      <th>report_id</th>\n",
       "      <th>description</th>\n",
       "      <th>label</th>\n",
       "      <th>words</th>\n",
       "    </tr>\n",
       "  </thead>\n",
       "  <tbody>\n",
       "    <tr>\n",
       "      <th>0</th>\n",
       "      <td>0</td>\n",
       "      <td>623 328 538 382 399 400 478 842 698 137 492 26...</td>\n",
       "      <td>2</td>\n",
       "      <td>[623, 328, 538, 382, 399, 400, 478, 842, 698, ...</td>\n",
       "    </tr>\n",
       "    <tr>\n",
       "      <th>1</th>\n",
       "      <td>1</td>\n",
       "      <td>48 328 538 382 809 623 434 355 382 382 363 145...</td>\n",
       "      <td></td>\n",
       "      <td>[48, 328, 538, 382, 809, 623, 434, 355, 382, 3...</td>\n",
       "    </tr>\n",
       "    <tr>\n",
       "      <th>2</th>\n",
       "      <td>2</td>\n",
       "      <td>623 656 293 851 636 842 698 493 338 266 369 69...</td>\n",
       "      <td>15</td>\n",
       "      <td>[623, 656, 293, 851, 636, 842, 698, 493, 338, ...</td>\n",
       "    </tr>\n",
       "    <tr>\n",
       "      <th>3</th>\n",
       "      <td>3</td>\n",
       "      <td>48 328 380 259 439 107 380 265 172 470 290 693...</td>\n",
       "      <td></td>\n",
       "      <td>[48, 328, 380, 259, 439, 107, 380, 265, 172, 4...</td>\n",
       "    </tr>\n",
       "    <tr>\n",
       "      <th>4</th>\n",
       "      <td>4</td>\n",
       "      <td>623 328 399 698 493 338 266 14 177 415 511 647...</td>\n",
       "      <td>16</td>\n",
       "      <td>[623, 328, 399, 698, 493, 338, 266, 14, 177, 4...</td>\n",
       "    </tr>\n",
       "  </tbody>\n",
       "</table>\n",
       "</div>"
      ],
      "text/plain": [
       "  report_id                                        description label  \\\n",
       "0         0  623 328 538 382 399 400 478 842 698 137 492 26...     2   \n",
       "1         1  48 328 538 382 809 623 434 355 382 382 363 145...         \n",
       "2         2  623 656 293 851 636 842 698 493 338 266 369 69...    15   \n",
       "3         3  48 328 380 259 439 107 380 265 172 470 290 693...         \n",
       "4         4  623 328 399 698 493 338 266 14 177 415 511 647...    16   \n",
       "\n",
       "                                               words  \n",
       "0  [623, 328, 538, 382, 399, 400, 478, 842, 698, ...  \n",
       "1  [48, 328, 538, 382, 809, 623, 434, 355, 382, 3...  \n",
       "2  [623, 656, 293, 851, 636, 842, 698, 493, 338, ...  \n",
       "3  [48, 328, 380, 259, 439, 107, 380, 265, 172, 4...  \n",
       "4  [623, 328, 399, 698, 493, 338, 266, 14, 177, 4...  "
      ]
     },
     "execution_count": 8,
     "metadata": {},
     "output_type": "execute_result"
    }
   ],
   "source": [
    "train_data = open('data/track1_round1_train_20210222.csv','r').readlines()\n",
    "\n",
    "train_data = [data.strip().split('|,|')  for data in train_data]\n",
    "\n",
    "train_dataset = pd.DataFrame(train_data,columns=['report_id','description','label'])\n",
    "train_dataset['words'] = train_dataset.description.apply(lambda x:x.split())\n",
    "\n",
    "train_dataset.head()"
   ]
  },
  {
   "cell_type": "code",
   "execution_count": 9,
   "id": "bigger-activation",
   "metadata": {
    "ExecuteTime": {
     "end_time": "2021-03-08T03:00:21.800631Z",
     "start_time": "2021-03-08T03:00:21.768220Z"
    }
   },
   "outputs": [
    {
     "data": {
      "text/html": [
       "<div>\n",
       "<style scoped>\n",
       "    .dataframe tbody tr th:only-of-type {\n",
       "        vertical-align: middle;\n",
       "    }\n",
       "\n",
       "    .dataframe tbody tr th {\n",
       "        vertical-align: top;\n",
       "    }\n",
       "\n",
       "    .dataframe thead th {\n",
       "        text-align: right;\n",
       "    }\n",
       "</style>\n",
       "<table border=\"1\" class=\"dataframe\">\n",
       "  <thead>\n",
       "    <tr style=\"text-align: right;\">\n",
       "      <th></th>\n",
       "      <th>report_id</th>\n",
       "      <th>description</th>\n",
       "      <th>label</th>\n",
       "      <th>words</th>\n",
       "    </tr>\n",
       "  </thead>\n",
       "  <tbody>\n",
       "    <tr>\n",
       "      <th>0</th>\n",
       "      <td>0</td>\n",
       "      <td>623 328 538 382 399 400 478 842 698 137 492 26...</td>\n",
       "      <td>2</td>\n",
       "      <td>[623, 328, 538, 382, 399, 400, 478, 842, 698, ...</td>\n",
       "    </tr>\n",
       "    <tr>\n",
       "      <th>1</th>\n",
       "      <td>1</td>\n",
       "      <td>48 328 538 382 809 623 434 355 382 382 363 145...</td>\n",
       "      <td></td>\n",
       "      <td>[48, 328, 538, 382, 809, 623, 434, 355, 382, 3...</td>\n",
       "    </tr>\n",
       "    <tr>\n",
       "      <th>2</th>\n",
       "      <td>2</td>\n",
       "      <td>623 656 293 851 636 842 698 493 338 266 369 69...</td>\n",
       "      <td>15</td>\n",
       "      <td>[623, 656, 293, 851, 636, 842, 698, 493, 338, ...</td>\n",
       "    </tr>\n",
       "    <tr>\n",
       "      <th>3</th>\n",
       "      <td>3</td>\n",
       "      <td>48 328 380 259 439 107 380 265 172 470 290 693...</td>\n",
       "      <td></td>\n",
       "      <td>[48, 328, 380, 259, 439, 107, 380, 265, 172, 4...</td>\n",
       "    </tr>\n",
       "    <tr>\n",
       "      <th>4</th>\n",
       "      <td>4</td>\n",
       "      <td>623 328 399 698 493 338 266 14 177 415 511 647...</td>\n",
       "      <td>16</td>\n",
       "      <td>[623, 328, 399, 698, 493, 338, 266, 14, 177, 4...</td>\n",
       "    </tr>\n",
       "  </tbody>\n",
       "</table>\n",
       "</div>"
      ],
      "text/plain": [
       "  report_id                                        description label  \\\n",
       "0         0  623 328 538 382 399 400 478 842 698 137 492 26...     2   \n",
       "1         1  48 328 538 382 809 623 434 355 382 382 363 145...         \n",
       "2         2  623 656 293 851 636 842 698 493 338 266 369 69...    15   \n",
       "3         3  48 328 380 259 439 107 380 265 172 470 290 693...         \n",
       "4         4  623 328 399 698 493 338 266 14 177 415 511 647...    16   \n",
       "\n",
       "                                               words  \n",
       "0  [623, 328, 538, 382, 399, 400, 478, 842, 698, ...  \n",
       "1  [48, 328, 538, 382, 809, 623, 434, 355, 382, 3...  \n",
       "2  [623, 656, 293, 851, 636, 842, 698, 493, 338, ...  \n",
       "3  [48, 328, 380, 259, 439, 107, 380, 265, 172, 4...  \n",
       "4  [623, 328, 399, 698, 493, 338, 266, 14, 177, 4...  "
      ]
     },
     "execution_count": 9,
     "metadata": {},
     "output_type": "execute_result"
    }
   ],
   "source": [
    "dataset = train_dataset.append(test_dataset)\n",
    "dataset.head()"
   ]
  },
  {
   "cell_type": "code",
   "execution_count": 14,
   "id": "cloudy-arizona",
   "metadata": {
    "ExecuteTime": {
     "end_time": "2021-03-08T03:01:41.665172Z",
     "start_time": "2021-03-08T03:01:41.519765Z"
    }
   },
   "outputs": [
    {
     "data": {
      "text/plain": [
       "(10000, 17)"
      ]
     },
     "execution_count": 14,
     "metadata": {},
     "output_type": "execute_result"
    }
   ],
   "source": [
    "mlb = MultiLabelBinarizer()\n",
    "\n",
    "df_label = pd.DataFrame(mlb.fit_transform(train_dataset.label.apply(lambda x:x.split())))\n",
    "df_label.columns = mlb.classes_\n",
    "\n",
    "\n",
    "label = df_label[[str(i) for i in range(17)]].values\n",
    "label.shape"
   ]
  },
  {
   "cell_type": "code",
   "execution_count": 16,
   "id": "micro-berkeley",
   "metadata": {
    "ExecuteTime": {
     "end_time": "2021-03-08T03:01:54.889640Z",
     "start_time": "2021-03-08T03:01:54.872902Z"
    }
   },
   "outputs": [
    {
     "data": {
      "text/html": [
       "<div>\n",
       "<style scoped>\n",
       "    .dataframe tbody tr th:only-of-type {\n",
       "        vertical-align: middle;\n",
       "    }\n",
       "\n",
       "    .dataframe tbody tr th {\n",
       "        vertical-align: top;\n",
       "    }\n",
       "\n",
       "    .dataframe thead th {\n",
       "        text-align: right;\n",
       "    }\n",
       "</style>\n",
       "<table border=\"1\" class=\"dataframe\">\n",
       "  <thead>\n",
       "    <tr style=\"text-align: right;\">\n",
       "      <th></th>\n",
       "      <th>0</th>\n",
       "      <th>1</th>\n",
       "      <th>2</th>\n",
       "      <th>3</th>\n",
       "      <th>4</th>\n",
       "      <th>5</th>\n",
       "      <th>6</th>\n",
       "      <th>7</th>\n",
       "      <th>8</th>\n",
       "      <th>9</th>\n",
       "      <th>10</th>\n",
       "      <th>11</th>\n",
       "      <th>12</th>\n",
       "      <th>13</th>\n",
       "      <th>14</th>\n",
       "      <th>15</th>\n",
       "      <th>16</th>\n",
       "    </tr>\n",
       "  </thead>\n",
       "  <tbody>\n",
       "    <tr>\n",
       "      <th>0</th>\n",
       "      <td>0</td>\n",
       "      <td>0</td>\n",
       "      <td>1</td>\n",
       "      <td>0</td>\n",
       "      <td>0</td>\n",
       "      <td>0</td>\n",
       "      <td>0</td>\n",
       "      <td>0</td>\n",
       "      <td>0</td>\n",
       "      <td>0</td>\n",
       "      <td>0</td>\n",
       "      <td>0</td>\n",
       "      <td>0</td>\n",
       "      <td>0</td>\n",
       "      <td>0</td>\n",
       "      <td>0</td>\n",
       "      <td>0</td>\n",
       "    </tr>\n",
       "    <tr>\n",
       "      <th>1</th>\n",
       "      <td>0</td>\n",
       "      <td>0</td>\n",
       "      <td>0</td>\n",
       "      <td>0</td>\n",
       "      <td>0</td>\n",
       "      <td>0</td>\n",
       "      <td>0</td>\n",
       "      <td>0</td>\n",
       "      <td>0</td>\n",
       "      <td>0</td>\n",
       "      <td>0</td>\n",
       "      <td>0</td>\n",
       "      <td>0</td>\n",
       "      <td>0</td>\n",
       "      <td>0</td>\n",
       "      <td>0</td>\n",
       "      <td>0</td>\n",
       "    </tr>\n",
       "    <tr>\n",
       "      <th>2</th>\n",
       "      <td>0</td>\n",
       "      <td>0</td>\n",
       "      <td>0</td>\n",
       "      <td>0</td>\n",
       "      <td>0</td>\n",
       "      <td>0</td>\n",
       "      <td>0</td>\n",
       "      <td>0</td>\n",
       "      <td>0</td>\n",
       "      <td>0</td>\n",
       "      <td>0</td>\n",
       "      <td>0</td>\n",
       "      <td>0</td>\n",
       "      <td>0</td>\n",
       "      <td>0</td>\n",
       "      <td>1</td>\n",
       "      <td>0</td>\n",
       "    </tr>\n",
       "    <tr>\n",
       "      <th>3</th>\n",
       "      <td>0</td>\n",
       "      <td>0</td>\n",
       "      <td>0</td>\n",
       "      <td>0</td>\n",
       "      <td>0</td>\n",
       "      <td>0</td>\n",
       "      <td>0</td>\n",
       "      <td>0</td>\n",
       "      <td>0</td>\n",
       "      <td>0</td>\n",
       "      <td>0</td>\n",
       "      <td>0</td>\n",
       "      <td>0</td>\n",
       "      <td>0</td>\n",
       "      <td>0</td>\n",
       "      <td>0</td>\n",
       "      <td>0</td>\n",
       "    </tr>\n",
       "    <tr>\n",
       "      <th>4</th>\n",
       "      <td>0</td>\n",
       "      <td>0</td>\n",
       "      <td>0</td>\n",
       "      <td>0</td>\n",
       "      <td>0</td>\n",
       "      <td>0</td>\n",
       "      <td>0</td>\n",
       "      <td>0</td>\n",
       "      <td>0</td>\n",
       "      <td>0</td>\n",
       "      <td>0</td>\n",
       "      <td>0</td>\n",
       "      <td>0</td>\n",
       "      <td>0</td>\n",
       "      <td>0</td>\n",
       "      <td>0</td>\n",
       "      <td>1</td>\n",
       "    </tr>\n",
       "  </tbody>\n",
       "</table>\n",
       "</div>"
      ],
      "text/plain": [
       "   0  1  2  3  4  5  6  7  8  9  10  11  12  13  14  15  16\n",
       "0  0  0  1  0  0  0  0  0  0  0   0   0   0   0   0   0   0\n",
       "1  0  0  0  0  0  0  0  0  0  0   0   0   0   0   0   0   0\n",
       "2  0  0  0  0  0  0  0  0  0  0   0   0   0   0   0   1   0\n",
       "3  0  0  0  0  0  0  0  0  0  0   0   0   0   0   0   0   0\n",
       "4  0  0  0  0  0  0  0  0  0  0   0   0   0   0   0   0   1"
      ]
     },
     "execution_count": 16,
     "metadata": {},
     "output_type": "execute_result"
    }
   ],
   "source": [
    "df_label[[str(i) for i in range(17)]].head()"
   ]
  },
  {
   "cell_type": "code",
   "execution_count": 17,
   "id": "earned-disco",
   "metadata": {
    "ExecuteTime": {
     "end_time": "2021-03-08T03:02:19.100130Z",
     "start_time": "2021-03-08T03:02:18.868433Z"
    }
   },
   "outputs": [],
   "source": [
    "tokenizer=Tokenizer()  #创建一个Tokenizer对象\n",
    "#fit_on_texts函数可以将输入的文本中的每个词编号，编号是根据词频的，词频越大，编号越小\n",
    "tokenizer.fit_on_texts(dataset['words'])\n",
    "vocab=tokenizer.word_index #得到每个词的编号\n",
    "# 将每个样本中的每个词转换为数字列表，使用每个词的编号进行编号"
   ]
  },
  {
   "cell_type": "code",
   "execution_count": 103,
   "id": "appreciated-prophet",
   "metadata": {
    "ExecuteTime": {
     "end_time": "2021-03-08T06:01:31.620018Z",
     "start_time": "2021-03-08T06:01:31.384296Z"
    }
   },
   "outputs": [],
   "source": [
    "maxlen=100\n",
    "\n",
    "train_data =tokenizer.texts_to_sequences(train_dataset['words'])\n",
    "#将超过固定值的部分截掉，不足的在最前面用0填充\n",
    "train_data_padded_seqs = pad_sequences(train_data, maxlen=maxlen, value = len(vocab))\n",
    "\n",
    "test_data =tokenizer.texts_to_sequences(test_dataset['words'])\n",
    "#将超过固定值的部分截掉，不足的在最前面用0填充\n",
    "test_data_padded_seqs = pad_sequences(test_data, maxlen=maxlen, value = len(vocab))"
   ]
  },
  {
   "cell_type": "code",
   "execution_count": 104,
   "id": "cutting-tuner",
   "metadata": {
    "ExecuteTime": {
     "end_time": "2021-03-08T06:01:33.033848Z",
     "start_time": "2021-03-08T06:01:33.026921Z"
    }
   },
   "outputs": [
    {
     "data": {
      "text/plain": [
       "(10000, 100)"
      ]
     },
     "execution_count": 104,
     "metadata": {},
     "output_type": "execute_result"
    }
   ],
   "source": [
    "train_data_padded_seqs.shape"
   ]
  },
  {
   "cell_type": "markdown",
   "id": "polar-particular",
   "metadata": {},
   "source": [
    "## CNN"
   ]
  },
  {
   "cell_type": "code",
   "execution_count": 71,
   "id": "according-chaos",
   "metadata": {
    "ExecuteTime": {
     "end_time": "2021-03-08T05:20:13.783247Z",
     "start_time": "2021-03-08T05:20:13.778903Z"
    }
   },
   "outputs": [],
   "source": [
    "import keras\n",
    "\n",
    "def my_score(y_true,y_pred):\n",
    "    return 1 - keras.losses.binary_crossentropy(y_true, y_pred)"
   ]
  },
  {
   "cell_type": "code",
   "execution_count": 72,
   "id": "direct-gibraltar",
   "metadata": {
    "ExecuteTime": {
     "end_time": "2021-03-08T05:20:25.751949Z",
     "start_time": "2021-03-08T05:20:17.793883Z"
    },
    "scrolled": false
   },
   "outputs": [
    {
     "name": "stdout",
     "output_type": "stream",
     "text": [
      "Model: \"sequential_11\"\n",
      "_________________________________________________________________\n",
      "Layer (type)                 Output Shape              Param #   \n",
      "=================================================================\n",
      "embedding_14 (Embedding)     (None, 100, 300)          257700    \n",
      "_________________________________________________________________\n",
      "conv1d_46 (Conv1D)           (None, 100, 256)          384256    \n",
      "_________________________________________________________________\n",
      "max_pooling1d_35 (MaxPooling (None, 34, 256)           0         \n",
      "_________________________________________________________________\n",
      "conv1d_47 (Conv1D)           (None, 34, 128)           163968    \n",
      "_________________________________________________________________\n",
      "max_pooling1d_36 (MaxPooling (None, 12, 128)           0         \n",
      "_________________________________________________________________\n",
      "conv1d_48 (Conv1D)           (None, 12, 64)            24640     \n",
      "_________________________________________________________________\n",
      "flatten_14 (Flatten)         (None, 768)               0         \n",
      "_________________________________________________________________\n",
      "dropout_25 (Dropout)         (None, 768)               0         \n",
      "_________________________________________________________________\n",
      "batch_normalization_11 (Batc (None, 768)               3072      \n",
      "_________________________________________________________________\n",
      "dense_25 (Dense)             (None, 256)               196864    \n",
      "_________________________________________________________________\n",
      "dropout_26 (Dropout)         (None, 256)               0         \n",
      "_________________________________________________________________\n",
      "dense_26 (Dense)             (None, 17)                4369      \n",
      "=================================================================\n",
      "Total params: 1,034,869\n",
      "Trainable params: 1,033,333\n",
      "Non-trainable params: 1,536\n",
      "_________________________________________________________________\n",
      "Epoch 1/5\n",
      "71/71 [==============================] - 2s 22ms/step - loss: 0.3967 - my_score: 0.6033 - val_loss: 0.4069 - val_my_score: 0.5931\n",
      "Epoch 2/5\n",
      "71/71 [==============================] - 1s 20ms/step - loss: 0.1358 - my_score: 0.8642 - val_loss: 0.4273 - val_my_score: 0.5727\n",
      "Epoch 3/5\n",
      "71/71 [==============================] - 1s 20ms/step - loss: 0.0553 - my_score: 0.9447 - val_loss: 0.2400 - val_my_score: 0.7600\n",
      "Epoch 4/5\n",
      "71/71 [==============================] - 1s 20ms/step - loss: 0.0254 - my_score: 0.9746 - val_loss: 0.1103 - val_my_score: 0.8897\n",
      "Epoch 5/5\n",
      "71/71 [==============================] - 1s 20ms/step - loss: 0.0125 - my_score: 0.9875 - val_loss: 0.0955 - val_my_score: 0.9045\n"
     ]
    },
    {
     "data": {
      "text/plain": [
       "<tensorflow.python.keras.callbacks.History at 0x7f66a858b128>"
      ]
     },
     "execution_count": 72,
     "metadata": {},
     "output_type": "execute_result"
    }
   ],
   "source": [
    "model = Sequential()\n",
    "model.add(Embedding(len(vocab) + 1, 300, input_length=100)) #使用Embeeding层将每个词编码转换为词向量\n",
    "model.add(Conv1D(256, 5, padding='same'))\n",
    "model.add(MaxPooling1D(3, 3, padding='same'))\n",
    "model.add(Conv1D(128, 5, padding='same'))\n",
    "model.add(MaxPooling1D(3, 3, padding='same'))\n",
    "model.add(Conv1D(64, 3, padding='same'))\n",
    "model.add(Flatten())\n",
    "model.add(Dropout(0.1))\n",
    "model.add(BatchNormalization())  # (批)规范化层\n",
    "model.add(Dense(256, activation='relu'))\n",
    "model.add(Dropout(0.1))\n",
    "model.add(Dense(17, activation='softmax'))\n",
    "model.summary()\n",
    "\n",
    "model.compile(loss='binary_crossentropy',optimizer='adam',metrics=[my_score])\n",
    "model.fit(train_data_padded_seqs, label, epochs=5, batch_size=128, validation_split=0.1)\n",
    "# y_predict = model.predict_classes(x_test_padded_seqs)  # 预测的是类别，结果就是类别号\n",
    "# y_predict = list(map(str, y_predict))\n",
    "# print('准确率', metrics.accuracy_score(y_test, y_predict))\n",
    "# print('平均f1-score:', metrics.f1_score(y_test, y_predict, average='weighted'))\n"
   ]
  },
  {
   "cell_type": "markdown",
   "id": "architectural-alcohol",
   "metadata": {},
   "source": [
    "## textCnn"
   ]
  },
  {
   "cell_type": "code",
   "execution_count": 105,
   "id": "instrumental-multiple",
   "metadata": {
    "ExecuteTime": {
     "end_time": "2021-03-08T06:02:26.136870Z",
     "start_time": "2021-03-08T06:01:38.163815Z"
    },
    "scrolled": false
   },
   "outputs": [
    {
     "name": "stdout",
     "output_type": "stream",
     "text": [
      "Model: \"model_20\"\n",
      "__________________________________________________________________________________________________\n",
      "Layer (type)                    Output Shape         Param #     Connected to                     \n",
      "==================================================================================================\n",
      "input_23 (InputLayer)           [(None, 100)]        0                                            \n",
      "__________________________________________________________________________________________________\n",
      "embedding_44 (Embedding)        (None, 100, 512)     439808      input_23[0][0]                   \n",
      "__________________________________________________________________________________________________\n",
      "conv1d_86 (Conv1D)              (None, 100, 256)     131328      embedding_44[0][0]               \n",
      "__________________________________________________________________________________________________\n",
      "conv1d_87 (Conv1D)              (None, 100, 256)     262400      embedding_44[0][0]               \n",
      "__________________________________________________________________________________________________\n",
      "conv1d_88 (Conv1D)              (None, 100, 256)     393472      embedding_44[0][0]               \n",
      "__________________________________________________________________________________________________\n",
      "conv1d_89 (Conv1D)              (None, 100, 256)     524544      embedding_44[0][0]               \n",
      "__________________________________________________________________________________________________\n",
      "conv1d_90 (Conv1D)              (None, 100, 256)     655616      embedding_44[0][0]               \n",
      "__________________________________________________________________________________________________\n",
      "conv1d_91 (Conv1D)              (None, 100, 256)     786688      embedding_44[0][0]               \n",
      "__________________________________________________________________________________________________\n",
      "max_pooling1d_74 (MaxPooling1D) (None, 1, 256)       0           conv1d_86[0][0]                  \n",
      "__________________________________________________________________________________________________\n",
      "max_pooling1d_75 (MaxPooling1D) (None, 1, 256)       0           conv1d_87[0][0]                  \n",
      "__________________________________________________________________________________________________\n",
      "max_pooling1d_76 (MaxPooling1D) (None, 1, 256)       0           conv1d_88[0][0]                  \n",
      "__________________________________________________________________________________________________\n",
      "max_pooling1d_77 (MaxPooling1D) (None, 1, 256)       0           conv1d_89[0][0]                  \n",
      "__________________________________________________________________________________________________\n",
      "max_pooling1d_78 (MaxPooling1D) (None, 1, 256)       0           conv1d_90[0][0]                  \n",
      "__________________________________________________________________________________________________\n",
      "max_pooling1d_79 (MaxPooling1D) (None, 1, 256)       0           conv1d_91[0][0]                  \n",
      "__________________________________________________________________________________________________\n",
      "concatenate_9 (Concatenate)     (None, 1, 1536)      0           max_pooling1d_74[0][0]           \n",
      "                                                                 max_pooling1d_75[0][0]           \n",
      "                                                                 max_pooling1d_76[0][0]           \n",
      "                                                                 max_pooling1d_77[0][0]           \n",
      "                                                                 max_pooling1d_78[0][0]           \n",
      "                                                                 max_pooling1d_79[0][0]           \n",
      "__________________________________________________________________________________________________\n",
      "flatten_21 (Flatten)            (None, 1536)         0           concatenate_9[0][0]              \n",
      "__________________________________________________________________________________________________\n",
      "dropout_73 (Dropout)            (None, 1536)         0           flatten_21[0][0]                 \n",
      "__________________________________________________________________________________________________\n",
      "dense_74 (Dense)                (None, 17)           26129       dropout_73[0][0]                 \n",
      "==================================================================================================\n",
      "Total params: 3,219,985\n",
      "Trainable params: 2,780,177\n",
      "Non-trainable params: 439,808\n",
      "__________________________________________________________________________________________________\n",
      "Epoch 1/20\n",
      "12/12 [==============================] - 7s 372ms/step - loss: 0.5127 - my_score: 0.4873 - val_loss: 0.2918 - val_my_score: 0.7082\n",
      "Epoch 2/20\n",
      "12/12 [==============================] - 2s 179ms/step - loss: 0.2864 - my_score: 0.7136 - val_loss: 0.2498 - val_my_score: 0.7502\n",
      "Epoch 3/20\n",
      "12/12 [==============================] - 2s 178ms/step - loss: 0.2405 - my_score: 0.7595 - val_loss: 0.2134 - val_my_score: 0.7866\n",
      "Epoch 4/20\n",
      "12/12 [==============================] - 2s 179ms/step - loss: 0.2024 - my_score: 0.7976 - val_loss: 0.1803 - val_my_score: 0.8197\n",
      "Epoch 5/20\n",
      "12/12 [==============================] - 2s 179ms/step - loss: 0.1705 - my_score: 0.8295 - val_loss: 0.1552 - val_my_score: 0.8448\n",
      "Epoch 6/20\n",
      "12/12 [==============================] - 2s 180ms/step - loss: 0.1478 - my_score: 0.8522 - val_loss: 0.1377 - val_my_score: 0.8623\n",
      "Epoch 7/20\n",
      "12/12 [==============================] - 2s 180ms/step - loss: 0.1324 - my_score: 0.8676 - val_loss: 0.1243 - val_my_score: 0.8757\n",
      "Epoch 8/20\n",
      "12/12 [==============================] - 2s 179ms/step - loss: 0.1197 - my_score: 0.8803 - val_loss: 0.1139 - val_my_score: 0.8861\n",
      "Epoch 9/20\n",
      "12/12 [==============================] - 2s 180ms/step - loss: 0.1084 - my_score: 0.8916 - val_loss: 0.1055 - val_my_score: 0.8945\n",
      "Epoch 10/20\n",
      "12/12 [==============================] - 2s 180ms/step - loss: 0.1018 - my_score: 0.8982 - val_loss: 0.0984 - val_my_score: 0.9016\n",
      "Epoch 11/20\n",
      "12/12 [==============================] - 2s 180ms/step - loss: 0.0938 - my_score: 0.9062 - val_loss: 0.0930 - val_my_score: 0.9070\n",
      "Epoch 12/20\n",
      "12/12 [==============================] - 2s 180ms/step - loss: 0.0885 - my_score: 0.9115 - val_loss: 0.0873 - val_my_score: 0.9127\n",
      "Epoch 13/20\n",
      "12/12 [==============================] - 2s 180ms/step - loss: 0.0835 - my_score: 0.9165 - val_loss: 0.0828 - val_my_score: 0.9172\n",
      "Epoch 14/20\n",
      "12/12 [==============================] - 2s 180ms/step - loss: 0.0771 - my_score: 0.9229 - val_loss: 0.0789 - val_my_score: 0.9211\n",
      "Epoch 15/20\n",
      "12/12 [==============================] - 2s 180ms/step - loss: 0.0722 - my_score: 0.9278 - val_loss: 0.0754 - val_my_score: 0.9246\n",
      "Epoch 16/20\n",
      "12/12 [==============================] - 2s 181ms/step - loss: 0.0685 - my_score: 0.9315 - val_loss: 0.0719 - val_my_score: 0.9281\n",
      "Epoch 17/20\n",
      "12/12 [==============================] - 2s 183ms/step - loss: 0.0654 - my_score: 0.9346 - val_loss: 0.0694 - val_my_score: 0.9306\n",
      "Epoch 18/20\n",
      "12/12 [==============================] - 2s 182ms/step - loss: 0.0599 - my_score: 0.9401 - val_loss: 0.0660 - val_my_score: 0.9340\n",
      "Epoch 19/20\n",
      "12/12 [==============================] - 2s 182ms/step - loss: 0.0572 - my_score: 0.9428 - val_loss: 0.0638 - val_my_score: 0.9362\n",
      "Epoch 20/20\n",
      "12/12 [==============================] - 2s 181ms/step - loss: 0.0551 - my_score: 0.9449 - val_loss: 0.0610 - val_my_score: 0.9390\n"
     ]
    },
    {
     "data": {
      "text/plain": [
       "<tensorflow.python.keras.callbacks.History at 0x7f66a86f7b00>"
      ]
     },
     "execution_count": 105,
     "metadata": {},
     "output_type": "execute_result"
    }
   ],
   "source": [
    "main_input = Input(shape=(maxlen,), dtype='float64')\n",
    "# 词嵌入（使用预训练的词向量）\n",
    "embedder = Embedding(len(vocab) + 1, 512, input_length=maxlen, trainable=False)\n",
    "embed = embedder(main_input)\n",
    "# 词窗大小分别为3,4,5\n",
    "cnn_ = Conv1D(256, 1, padding='same', strides=1, activation='relu')(embed)\n",
    "cnn_ = MaxPooling1D(pool_size=maxlen)(cnn_)\n",
    "\n",
    "cnn0 = Conv1D(256, 2, padding='same', strides=1, activation='relu')(embed)\n",
    "cnn0 = MaxPooling1D(pool_size=maxlen-1)(cnn0)\n",
    "cnn1 = Conv1D(256, 3, padding='same', strides=1, activation='relu')(embed)\n",
    "cnn1 = MaxPooling1D(pool_size=maxlen-2)(cnn1)\n",
    "cnn2 = Conv1D(256, 4, padding='same', strides=1, activation='relu')(embed)\n",
    "cnn2 = MaxPooling1D(pool_size=maxlen-3)(cnn2)\n",
    "cnn3 = Conv1D(256, 5, padding='same', strides=1, activation='relu')(embed)\n",
    "cnn3 = MaxPooling1D(pool_size=maxlen-4)(cnn3)\n",
    "\n",
    "cnn4 = Conv1D(256, 6, padding='same', strides=1, activation='relu')(embed)\n",
    "cnn4 = MaxPooling1D(pool_size=maxlen-5)(cnn4)\n",
    "# 合并三个模型的输出向量\n",
    "cnn = concatenate([cnn_, cnn0, cnn1, cnn2, cnn3, cnn4], axis=-1)\n",
    "flat = Flatten()(cnn)\n",
    "drop = Dropout(0.2)(flat)\n",
    "main_output = Dense(17, activation='softmax')(drop)\n",
    "model = Model(inputs=main_input, outputs=main_output)\n",
    "model.summary()\n",
    "model.compile(loss='binary_crossentropy', optimizer='adam', metrics=[my_score])\n",
    "model.fit(train_data_padded_seqs, label, epochs=20, batch_size=800,validation_split=0.1)\n"
   ]
  },
  {
   "cell_type": "code",
   "execution_count": 108,
   "id": "leading-remedy",
   "metadata": {
    "ExecuteTime": {
     "end_time": "2021-03-08T06:05:03.471903Z",
     "start_time": "2021-03-08T06:04:19.296615Z"
    }
   },
   "outputs": [
    {
     "name": "stdout",
     "output_type": "stream",
     "text": [
      "Epoch 1/20\n",
      "12/12 [==============================] - 2s 187ms/step - loss: 0.0082 - my_score: 0.9918 - val_loss: 0.0314 - val_my_score: 0.9686\n",
      "Epoch 2/20\n",
      "12/12 [==============================] - 2s 182ms/step - loss: 0.0078 - my_score: 0.9922 - val_loss: 0.0311 - val_my_score: 0.9689\n",
      "Epoch 3/20\n",
      "12/12 [==============================] - 2s 183ms/step - loss: 0.0077 - my_score: 0.9923 - val_loss: 0.0306 - val_my_score: 0.9694\n",
      "Epoch 4/20\n",
      "12/12 [==============================] - 2s 182ms/step - loss: 0.0073 - my_score: 0.9927 - val_loss: 0.0305 - val_my_score: 0.9695\n",
      "Epoch 5/20\n",
      "12/12 [==============================] - 2s 182ms/step - loss: 0.0072 - my_score: 0.9928 - val_loss: 0.0304 - val_my_score: 0.9696\n",
      "Epoch 6/20\n",
      "12/12 [==============================] - 2s 182ms/step - loss: 0.0069 - my_score: 0.9931 - val_loss: 0.0300 - val_my_score: 0.9700\n",
      "Epoch 7/20\n",
      "12/12 [==============================] - 2s 205ms/step - loss: 0.0068 - my_score: 0.9932 - val_loss: 0.0316 - val_my_score: 0.9684\n",
      "Epoch 8/20\n",
      "12/12 [==============================] - 2s 182ms/step - loss: 0.0066 - my_score: 0.9934 - val_loss: 0.0303 - val_my_score: 0.9697\n",
      "Epoch 9/20\n",
      "12/12 [==============================] - 2s 183ms/step - loss: 0.0062 - my_score: 0.9938 - val_loss: 0.0296 - val_my_score: 0.9704\n",
      "Epoch 10/20\n",
      "12/12 [==============================] - 2s 182ms/step - loss: 0.0060 - my_score: 0.9940 - val_loss: 0.0299 - val_my_score: 0.9701\n",
      "Epoch 11/20\n",
      "12/12 [==============================] - 2s 182ms/step - loss: 0.0058 - my_score: 0.9942 - val_loss: 0.0296 - val_my_score: 0.9704\n",
      "Epoch 12/20\n",
      "12/12 [==============================] - 2s 182ms/step - loss: 0.0055 - my_score: 0.9945 - val_loss: 0.0297 - val_my_score: 0.9703\n",
      "Epoch 13/20\n",
      "12/12 [==============================] - 2s 183ms/step - loss: 0.0055 - my_score: 0.9945 - val_loss: 0.0303 - val_my_score: 0.9697\n",
      "Epoch 14/20\n",
      "12/12 [==============================] - 2s 182ms/step - loss: 0.0054 - my_score: 0.9946 - val_loss: 0.0296 - val_my_score: 0.9704\n",
      "Epoch 15/20\n",
      "12/12 [==============================] - 2s 182ms/step - loss: 0.0053 - my_score: 0.9947 - val_loss: 0.0288 - val_my_score: 0.9712\n",
      "Epoch 16/20\n",
      "12/12 [==============================] - 2s 182ms/step - loss: 0.0050 - my_score: 0.9950 - val_loss: 0.0294 - val_my_score: 0.9706\n",
      "Epoch 17/20\n",
      "12/12 [==============================] - 2s 183ms/step - loss: 0.0050 - my_score: 0.9950 - val_loss: 0.0295 - val_my_score: 0.9705\n",
      "Epoch 18/20\n",
      "12/12 [==============================] - 2s 182ms/step - loss: 0.0047 - my_score: 0.9953 - val_loss: 0.0292 - val_my_score: 0.9708\n",
      "Epoch 19/20\n",
      "12/12 [==============================] - 2s 182ms/step - loss: 0.0046 - my_score: 0.9954 - val_loss: 0.0293 - val_my_score: 0.9707\n",
      "Epoch 20/20\n",
      "12/12 [==============================] - 2s 182ms/step - loss: 0.0046 - my_score: 0.9954 - val_loss: 0.0295 - val_my_score: 0.9705\n"
     ]
    },
    {
     "data": {
      "text/plain": [
       "<tensorflow.python.keras.callbacks.History at 0x7f67aaecc278>"
      ]
     },
     "execution_count": 108,
     "metadata": {},
     "output_type": "execute_result"
    }
   ],
   "source": [
    "model.fit(train_data_padded_seqs, label, epochs=20, batch_size=800,validation_split=0.1)"
   ]
  },
  {
   "cell_type": "code",
   "execution_count": null,
   "id": "cubic-karaoke",
   "metadata": {},
   "outputs": [],
   "source": []
  },
  {
   "cell_type": "markdown",
   "id": "competent-pantyhose",
   "metadata": {},
   "source": [
    "## Bilstm"
   ]
  },
  {
   "cell_type": "code",
   "execution_count": 76,
   "id": "million-instrumentation",
   "metadata": {
    "ExecuteTime": {
     "end_time": "2021-03-08T05:22:19.216665Z",
     "start_time": "2021-03-08T05:21:56.086413Z"
    }
   },
   "outputs": [
    {
     "name": "stdout",
     "output_type": "stream",
     "text": [
      "Model: \"model_4\"\n",
      "_________________________________________________________________\n",
      "Layer (type)                 Output Shape              Param #   \n",
      "=================================================================\n",
      "input_6 (InputLayer)         [(None, 100)]             0         \n",
      "_________________________________________________________________\n",
      "embedding_17 (Embedding)     (None, 100, 300)          257700    \n",
      "_________________________________________________________________\n",
      "bidirectional (Bidirectional (None, 100, 128)          186880    \n",
      "_________________________________________________________________\n",
      "bidirectional_1 (Bidirection (None, 128)               98816     \n",
      "_________________________________________________________________\n",
      "dense_28 (Dense)             (None, 17)                2193      \n",
      "=================================================================\n",
      "Total params: 545,589\n",
      "Trainable params: 287,889\n",
      "Non-trainable params: 257,700\n",
      "_________________________________________________________________\n",
      "Epoch 1/10\n",
      "45/45 [==============================] - 5s 60ms/step - loss: 0.4762 - my_score: 0.5238 - val_loss: 0.2677 - val_my_score: 0.7323\n",
      "Epoch 2/10\n",
      "45/45 [==============================] - 2s 41ms/step - loss: 0.2697 - my_score: 0.7303 - val_loss: 0.2675 - val_my_score: 0.7325\n",
      "Epoch 3/10\n",
      "45/45 [==============================] - 2s 42ms/step - loss: 0.2695 - my_score: 0.7305 - val_loss: 0.2677 - val_my_score: 0.7323\n",
      "Epoch 4/10\n",
      "45/45 [==============================] - 2s 42ms/step - loss: 0.2662 - my_score: 0.7338 - val_loss: 0.2675 - val_my_score: 0.7325\n",
      "Epoch 5/10\n",
      "45/45 [==============================] - 2s 41ms/step - loss: 0.2682 - my_score: 0.7318 - val_loss: 0.2605 - val_my_score: 0.7395\n",
      "Epoch 6/10\n",
      "45/45 [==============================] - 2s 42ms/step - loss: 0.2608 - my_score: 0.7392 - val_loss: 0.2523 - val_my_score: 0.7477\n",
      "Epoch 7/10\n",
      "45/45 [==============================] - 2s 41ms/step - loss: 0.2489 - my_score: 0.7511 - val_loss: 0.2346 - val_my_score: 0.7654\n",
      "Epoch 8/10\n",
      "45/45 [==============================] - 2s 42ms/step - loss: 0.2312 - my_score: 0.7688 - val_loss: 0.2258 - val_my_score: 0.7742\n",
      "Epoch 9/10\n",
      "45/45 [==============================] - 2s 48ms/step - loss: 0.2258 - my_score: 0.7742 - val_loss: 0.2210 - val_my_score: 0.7790\n",
      "Epoch 10/10\n",
      "45/45 [==============================] - 2s 42ms/step - loss: 0.2198 - my_score: 0.7802 - val_loss: 0.2166 - val_my_score: 0.7834\n"
     ]
    },
    {
     "data": {
      "text/plain": [
       "<tensorflow.python.keras.callbacks.History at 0x7f66a05cfba8>"
      ]
     },
     "execution_count": 76,
     "metadata": {},
     "output_type": "execute_result"
    }
   ],
   "source": [
    "inputs = Input(shape=(100,), dtype='float64')\n",
    "embedder = Embedding(len(vocab) + 1, 300, input_length=100, trainable=False)\n",
    "embed = embedder(inputs)\n",
    "# Embed each integer in a 128-dimensional vector\n",
    "# Add 2 bidirectional LSTMs\n",
    "x = layers.Bidirectional(layers.LSTM(64, return_sequences=True))(embed)\n",
    "x = layers.Bidirectional(layers.LSTM(64))(x)\n",
    "# Add a classifier\n",
    "outputs = Dense(17, activation='softmax')(x)\n",
    "model = Model(inputs, outputs)\n",
    "model.summary()\n",
    "\n",
    "model.compile(loss='binary_crossentropy', optimizer='adam', metrics=[my_score])\n",
    "model.fit(train_data_padded_seqs, label, epochs=10, batch_size=200,validation_split=0.1)"
   ]
  },
  {
   "cell_type": "markdown",
   "id": "quick-trunk",
   "metadata": {},
   "source": [
    "## Transformer"
   ]
  },
  {
   "cell_type": "code",
   "execution_count": 87,
   "id": "subsequent-significance",
   "metadata": {
    "ExecuteTime": {
     "end_time": "2021-03-08T05:33:49.406238Z",
     "start_time": "2021-03-08T05:33:16.163557Z"
    }
   },
   "outputs": [
    {
     "name": "stdout",
     "output_type": "stream",
     "text": [
      "Model: \"model_15\"\n",
      "_________________________________________________________________\n",
      "Layer (type)                 Output Shape              Param #   \n",
      "=================================================================\n",
      "input_17 (InputLayer)        [(None, 100)]             0         \n",
      "_________________________________________________________________\n",
      "token_and_position_embedding (None, 100, 256)          245504    \n",
      "_________________________________________________________________\n",
      "transformer_block_9 (Transfo (None, 100, 256)          658688    \n",
      "_________________________________________________________________\n",
      "global_average_pooling1d_9 ( (None, 256)               0         \n",
      "_________________________________________________________________\n",
      "dropout_67 (Dropout)         (None, 256)               0         \n",
      "_________________________________________________________________\n",
      "dense_68 (Dense)             (None, 100)               25700     \n",
      "_________________________________________________________________\n",
      "dropout_68 (Dropout)         (None, 100)               0         \n",
      "_________________________________________________________________\n",
      "dense_69 (Dense)             (None, 17)                1717      \n",
      "=================================================================\n",
      "Total params: 931,609\n",
      "Trainable params: 931,609\n",
      "Non-trainable params: 0\n",
      "_________________________________________________________________\n",
      "Epoch 1/20\n",
      "50/50 [==============================] - 2s 33ms/step - loss: 0.4066 - my_score: 0.5934\n",
      "Epoch 2/20\n",
      "50/50 [==============================] - 2s 32ms/step - loss: 0.2639 - my_score: 0.7361\n",
      "Epoch 3/20\n",
      "50/50 [==============================] - 2s 32ms/step - loss: 0.2064 - my_score: 0.7936\n",
      "Epoch 4/20\n",
      "50/50 [==============================] - 2s 32ms/step - loss: 0.1619 - my_score: 0.8381\n",
      "Epoch 5/20\n",
      "50/50 [==============================] - 2s 32ms/step - loss: 0.1284 - my_score: 0.8716\n",
      "Epoch 6/20\n",
      "50/50 [==============================] - 2s 32ms/step - loss: 0.1111 - my_score: 0.8889\n",
      "Epoch 7/20\n",
      "50/50 [==============================] - 2s 32ms/step - loss: 0.0977 - my_score: 0.9023\n",
      "Epoch 8/20\n",
      "50/50 [==============================] - 2s 32ms/step - loss: 0.0873 - my_score: 0.9127\n",
      "Epoch 9/20\n",
      "50/50 [==============================] - 2s 32ms/step - loss: 0.0770 - my_score: 0.9230\n",
      "Epoch 10/20\n",
      "50/50 [==============================] - 2s 33ms/step - loss: 0.0751 - my_score: 0.9249\n",
      "Epoch 11/20\n",
      "50/50 [==============================] - 2s 32ms/step - loss: 0.0696 - my_score: 0.9304\n",
      "Epoch 12/20\n",
      "50/50 [==============================] - 2s 32ms/step - loss: 0.0637 - my_score: 0.9363\n",
      "Epoch 13/20\n",
      "50/50 [==============================] - 2s 32ms/step - loss: 0.0589 - my_score: 0.9411\n",
      "Epoch 14/20\n",
      "50/50 [==============================] - 2s 32ms/step - loss: 0.0570 - my_score: 0.9430\n",
      "Epoch 15/20\n",
      "50/50 [==============================] - 2s 32ms/step - loss: 0.0504 - my_score: 0.9496\n",
      "Epoch 16/20\n",
      "50/50 [==============================] - 2s 32ms/step - loss: 0.0462 - my_score: 0.9538\n",
      "Epoch 17/20\n",
      "50/50 [==============================] - 2s 32ms/step - loss: 0.0452 - my_score: 0.9548\n",
      "Epoch 18/20\n",
      "50/50 [==============================] - 2s 31ms/step - loss: 0.0406 - my_score: 0.9594\n",
      "Epoch 19/20\n",
      "50/50 [==============================] - 2s 32ms/step - loss: 0.0372 - my_score: 0.9628\n",
      "Epoch 20/20\n",
      "50/50 [==============================] - 2s 32ms/step - loss: 0.0347 - my_score: 0.9653\n"
     ]
    },
    {
     "data": {
      "text/plain": [
       "<tensorflow.python.keras.callbacks.History at 0x7f66243225f8>"
      ]
     },
     "execution_count": 87,
     "metadata": {},
     "output_type": "execute_result"
    }
   ],
   "source": [
    "class TransformerBlock(layers.Layer):\n",
    "    def __init__(self, embed_dim, num_heads, ff_dim, rate=0.1):\n",
    "        super(TransformerBlock, self).__init__()\n",
    "        self.att = layers.MultiHeadAttention(num_heads=num_heads, key_dim=embed_dim)\n",
    "        self.ffn = keras.Sequential(\n",
    "            [layers.Dense(ff_dim, activation=\"relu\"), layers.Dense(embed_dim),]\n",
    "        )\n",
    "        self.layernorm1 = layers.LayerNormalization(epsilon=1e-6)\n",
    "        self.layernorm2 = layers.LayerNormalization(epsilon=1e-6)\n",
    "        self.dropout1 = layers.Dropout(rate)\n",
    "        self.dropout2 = layers.Dropout(rate)\n",
    "\n",
    "    def call(self, inputs, training):\n",
    "        attn_output = self.att(inputs, inputs)\n",
    "        attn_output = self.dropout1(attn_output, training=training)\n",
    "        out1 = self.layernorm1(inputs + attn_output)\n",
    "        ffn_output = self.ffn(out1)\n",
    "        ffn_output = self.dropout2(ffn_output, training=training)\n",
    "        return self.layernorm2(out1 + ffn_output)\n",
    "\n",
    "class TokenAndPositionEmbedding(layers.Layer):\n",
    "    def __init__(self, maxlen, vocab_size, embed_dim):\n",
    "        super(TokenAndPositionEmbedding, self).__init__()\n",
    "        self.token_emb = layers.Embedding(input_dim=vocab_size, output_dim=embed_dim)\n",
    "        self.pos_emb = layers.Embedding(input_dim=maxlen, output_dim=embed_dim)\n",
    "\n",
    "    def call(self, x):\n",
    "        maxlen = tf.shape(x)[-1]\n",
    "        positions = tf.range(start=0, limit=maxlen, delta=1)\n",
    "        positions = self.pos_emb(positions)\n",
    "        x = self.token_emb(x)\n",
    "        return x + positions\n",
    "\n",
    "embed_dim = 256  # Embedding size for each token\n",
    "num_heads = 2  # Number of attention heads\n",
    "ff_dim = 256  # Hidden layer size in feed forward network inside transformer\n",
    "maxlen=100\n",
    "vocab_size = len(vocab) + 1\n",
    "\n",
    "inputs = layers.Input(shape=(maxlen,))\n",
    "embedding_layer = TokenAndPositionEmbedding(maxlen, vocab_size, embed_dim)\n",
    "x = embedding_layer(inputs)\n",
    "transformer_block = TransformerBlock(embed_dim, num_heads, ff_dim)\n",
    "x = transformer_block(x)\n",
    "x = layers.GlobalAveragePooling1D()(x)\n",
    "x = layers.Dropout(0.3)(x)\n",
    "x = layers.Dense(100, activation=\"relu\")(x)\n",
    "x = layers.Dropout(0.3)(x)\n",
    "outputs = layers.Dense(17, activation=\"softmax\")(x)\n",
    "\n",
    "model = keras.Model(inputs=inputs, outputs=outputs)\n",
    "model.summary()\n",
    "\n",
    "\n",
    "model.compile(loss='binary_crossentropy', optimizer='adam', metrics=[my_score])\n",
    "# model.fit(train_data_padded_seqs, label, epochs=20, batch_size=200,validation_split=0.1)\n",
    "model.fit(train_data_padded_seqs, label, epochs=20, batch_size=200)"
   ]
  },
  {
   "cell_type": "code",
   "execution_count": null,
   "id": "imported-absorption",
   "metadata": {},
   "outputs": [],
   "source": []
  },
  {
   "cell_type": "code",
   "execution_count": null,
   "id": "buried-bryan",
   "metadata": {},
   "outputs": [],
   "source": []
  },
  {
   "cell_type": "markdown",
   "id": "restricted-number",
   "metadata": {},
   "source": [
    "## Prediction"
   ]
  },
  {
   "cell_type": "code",
   "execution_count": 109,
   "id": "distant-savage",
   "metadata": {
    "ExecuteTime": {
     "end_time": "2021-03-08T06:05:15.044812Z",
     "start_time": "2021-03-08T06:05:12.379765Z"
    }
   },
   "outputs": [],
   "source": [
    "test_pred = model.predict(test_data_padded_seqs)"
   ]
  },
  {
   "cell_type": "code",
   "execution_count": 110,
   "id": "fitting-trademark",
   "metadata": {
    "ExecuteTime": {
     "end_time": "2021-03-08T06:05:15.070654Z",
     "start_time": "2021-03-08T06:05:15.048490Z"
    }
   },
   "outputs": [],
   "source": [
    "result = ['|%s'%' '.join(['%.8f'%i for i in pred]) for pred in test_pred]"
   ]
  },
  {
   "cell_type": "code",
   "execution_count": 111,
   "id": "painful-charter",
   "metadata": {
    "ExecuteTime": {
     "end_time": "2021-03-08T06:05:15.077585Z",
     "start_time": "2021-03-08T06:05:15.072057Z"
    }
   },
   "outputs": [
    {
     "data": {
      "text/plain": [
       "'|0.00000358 0.00000552 0.00000059 0.00000006 0.00000000 0.00000000 0.00000000 0.96056551 0.00033139 0.03908781 0.00000473 0.00000014 0.00000023 0.00000026 0.00000001 0.00000024 0.00000004'"
      ]
     },
     "execution_count": 111,
     "metadata": {},
     "output_type": "execute_result"
    }
   ],
   "source": [
    "result[0]"
   ]
  },
  {
   "cell_type": "code",
   "execution_count": 112,
   "id": "recent-screw",
   "metadata": {
    "ExecuteTime": {
     "end_time": "2021-03-08T06:05:15.090273Z",
     "start_time": "2021-03-08T06:05:15.079006Z"
    }
   },
   "outputs": [
    {
     "data": {
      "text/html": [
       "<div>\n",
       "<style scoped>\n",
       "    .dataframe tbody tr th:only-of-type {\n",
       "        vertical-align: middle;\n",
       "    }\n",
       "\n",
       "    .dataframe tbody tr th {\n",
       "        vertical-align: top;\n",
       "    }\n",
       "\n",
       "    .dataframe thead th {\n",
       "        text-align: right;\n",
       "    }\n",
       "</style>\n",
       "<table border=\"1\" class=\"dataframe\">\n",
       "  <thead>\n",
       "    <tr style=\"text-align: right;\">\n",
       "      <th></th>\n",
       "      <th>report_id</th>\n",
       "      <th>description</th>\n",
       "      <th>words</th>\n",
       "      <th>report_ID</th>\n",
       "      <th>Prediction</th>\n",
       "    </tr>\n",
       "  </thead>\n",
       "  <tbody>\n",
       "    <tr>\n",
       "      <th>0</th>\n",
       "      <td>0</td>\n",
       "      <td>852 328 697 538 142 355 582 800 728 4 647 169 ...</td>\n",
       "      <td>[852, 328, 697, 538, 142, 355, 582, 800, 728, ...</td>\n",
       "      <td>0|</td>\n",
       "      <td>|0.00000358 0.00000552 0.00000059 0.00000006 0...</td>\n",
       "    </tr>\n",
       "    <tr>\n",
       "      <th>1</th>\n",
       "      <td>1</td>\n",
       "      <td>380 358 343 654 171 832 47 832 690 693 48 563 ...</td>\n",
       "      <td>[380, 358, 343, 654, 171, 832, 47, 832, 690, 6...</td>\n",
       "      <td>1|</td>\n",
       "      <td>|0.02543110 0.02346166 0.02847567 0.06428396 0...</td>\n",
       "    </tr>\n",
       "    <tr>\n",
       "      <th>2</th>\n",
       "      <td>2</td>\n",
       "      <td>751 335 834 582 717 583 585 693 623 328 107 38...</td>\n",
       "      <td>[751, 335, 834, 582, 717, 583, 585, 693, 623, ...</td>\n",
       "      <td>2|</td>\n",
       "      <td>|0.00000646 0.00002015 0.00000131 0.00002256 0...</td>\n",
       "    </tr>\n",
       "    <tr>\n",
       "      <th>3</th>\n",
       "      <td>3</td>\n",
       "      <td>623 328 649 582 488 12 578 623 538 382 382 265...</td>\n",
       "      <td>[623, 328, 649, 582, 488, 12, 578, 623, 538, 3...</td>\n",
       "      <td>3|</td>\n",
       "      <td>|0.01057643 0.00877395 0.01170924 0.01446421 0...</td>\n",
       "    </tr>\n",
       "    <tr>\n",
       "      <th>4</th>\n",
       "      <td>4</td>\n",
       "      <td>83 293 398 797 382 363 145 424 693 698 800 691...</td>\n",
       "      <td>[83, 293, 398, 797, 382, 363, 145, 424, 693, 6...</td>\n",
       "      <td>4|</td>\n",
       "      <td>|0.00000294 0.00009296 0.00000019 0.00032965 0...</td>\n",
       "    </tr>\n",
       "  </tbody>\n",
       "</table>\n",
       "</div>"
      ],
      "text/plain": [
       "  report_id                                        description  \\\n",
       "0         0  852 328 697 538 142 355 582 800 728 4 647 169 ...   \n",
       "1         1  380 358 343 654 171 832 47 832 690 693 48 563 ...   \n",
       "2         2  751 335 834 582 717 583 585 693 623 328 107 38...   \n",
       "3         3  623 328 649 582 488 12 578 623 538 382 382 265...   \n",
       "4         4  83 293 398 797 382 363 145 424 693 698 800 691...   \n",
       "\n",
       "                                               words report_ID  \\\n",
       "0  [852, 328, 697, 538, 142, 355, 582, 800, 728, ...        0|   \n",
       "1  [380, 358, 343, 654, 171, 832, 47, 832, 690, 6...        1|   \n",
       "2  [751, 335, 834, 582, 717, 583, 585, 693, 623, ...        2|   \n",
       "3  [623, 328, 649, 582, 488, 12, 578, 623, 538, 3...        3|   \n",
       "4  [83, 293, 398, 797, 382, 363, 145, 424, 693, 6...        4|   \n",
       "\n",
       "                                          Prediction  \n",
       "0  |0.00000358 0.00000552 0.00000059 0.00000006 0...  \n",
       "1  |0.02543110 0.02346166 0.02847567 0.06428396 0...  \n",
       "2  |0.00000646 0.00002015 0.00000131 0.00002256 0...  \n",
       "3  |0.01057643 0.00877395 0.01170924 0.01446421 0...  \n",
       "4  |0.00000294 0.00009296 0.00000019 0.00032965 0...  "
      ]
     },
     "execution_count": 112,
     "metadata": {},
     "output_type": "execute_result"
    }
   ],
   "source": [
    "test_dataset['report_ID'] = test_dataset['report_id'].apply(lambda x:'%s|'%x)\n",
    "test_dataset['Prediction'] =result\n",
    "test_dataset.head()"
   ]
  },
  {
   "cell_type": "code",
   "execution_count": 113,
   "id": "transparent-balloon",
   "metadata": {
    "ExecuteTime": {
     "end_time": "2021-03-08T06:05:15.104613Z",
     "start_time": "2021-03-08T06:05:15.091362Z"
    }
   },
   "outputs": [],
   "source": [
    "test_dataset[['report_ID','Prediction']].to_csv('submit.csv',index = False,header=None)"
   ]
  },
  {
   "cell_type": "code",
   "execution_count": null,
   "id": "sacred-supply",
   "metadata": {},
   "outputs": [],
   "source": []
  }
 ],
 "metadata": {
  "kernelspec": {
   "display_name": "Python 3",
   "language": "python",
   "name": "python3"
  },
  "language_info": {
   "codemirror_mode": {
    "name": "ipython",
    "version": 3
   },
   "file_extension": ".py",
   "mimetype": "text/x-python",
   "name": "python",
   "nbconvert_exporter": "python",
   "pygments_lexer": "ipython3",
   "version": "3.6.9"
  },
  "toc": {
   "base_numbering": 1,
   "nav_menu": {},
   "number_sections": true,
   "sideBar": true,
   "skip_h1_title": false,
   "title_cell": "Table of Contents",
   "title_sidebar": "Contents",
   "toc_cell": false,
   "toc_position": {
    "height": "calc(100% - 180px)",
    "left": "10px",
    "top": "150px",
    "width": "370.594px"
   },
   "toc_section_display": true,
   "toc_window_display": true
  },
  "varInspector": {
   "cols": {
    "lenName": 16,
    "lenType": 16,
    "lenVar": 40
   },
   "kernels_config": {
    "python": {
     "delete_cmd_postfix": "",
     "delete_cmd_prefix": "del ",
     "library": "var_list.py",
     "varRefreshCmd": "print(var_dic_list())"
    },
    "r": {
     "delete_cmd_postfix": ") ",
     "delete_cmd_prefix": "rm(",
     "library": "var_list.r",
     "varRefreshCmd": "cat(var_dic_list()) "
    }
   },
   "types_to_exclude": [
    "module",
    "function",
    "builtin_function_or_method",
    "instance",
    "_Feature"
   ],
   "window_display": false
  }
 },
 "nbformat": 4,
 "nbformat_minor": 5
}

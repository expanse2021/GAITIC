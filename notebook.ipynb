{
 "cells": [
  {
   "cell_type": "code",
   "execution_count": 1,
   "id": "weighted-ballet",
   "metadata": {
    "ExecuteTime": {
     "end_time": "2021-03-05T07:21:48.558544Z",
     "start_time": "2021-03-05T07:21:48.050070Z"
    }
   },
   "outputs": [],
   "source": [
    "from tqdm import tqdm\n",
    "import numpy as np\n",
    "import seaborn as sns\n",
    "import pandas as pd\n",
    "import matplotlib.pyplot as plt\n",
    "\n",
    "\n",
    "def set_style():\n",
    "    sns.set_style('white')\n",
    "    plt.rcParams['font.sans-serif'] = ['SimHei']\n",
    "    plt.rcParams['axes.unicode_minus'] = False\n",
    "    plt.rcParams['figure.figsize'] = [10, 10]\n",
    "\n",
    "    pd.options.display.max_columns = 300\n",
    "    pd.options.display.max_rows = 1000\n",
    "    # plt.rcParams['figure.dpi'] = 200\n",
    "    sns.set_palette('muted')  # 调色板颜色温和\n",
    "    sns.set_context(\"notebook\", font_scale=1.2, rc={\"lines.linewidth\": 1})\n",
    "\n",
    "set_style()\n",
    "import sys"
   ]
  },
  {
   "cell_type": "code",
   "execution_count": null,
   "id": "distributed-superior",
   "metadata": {
    "ExecuteTime": {
     "end_time": "2021-03-05T08:04:34.328517Z",
     "start_time": "2021-03-05T08:04:32.949480Z"
    }
   },
   "outputs": [],
   "source": [
    "from sklearn import metrics\n",
    "from sklearn.preprocessing import LabelEncoder,OneHotEncoder\n",
    "\n",
    "import tensorflow as tf\n",
    "print(tf.__version__)\n",
    "physical_devices = tf.config.list_physical_devices('GPU')\n",
    "tf.config.experimental.set_memory_growth(physical_devices[0], True)\n",
    "\n",
    "from keras.models import Model\n",
    "from keras.layers import LSTM, Activation, Dense, Dropout, Input, Embedding\n",
    "from keras.optimizers import RMSprop\n",
    "from keras.preprocessing.text import Tokenizer\n",
    "from keras.preprocessing import sequence\n",
    "from keras.callbacks import EarlyStopping\n",
    "from keras import Sequential"
   ]
  },
  {
   "cell_type": "code",
   "execution_count": 3,
   "id": "linear-grammar",
   "metadata": {
    "ExecuteTime": {
     "end_time": "2021-03-05T07:21:49.706894Z",
     "start_time": "2021-03-05T07:21:49.698126Z"
    }
   },
   "outputs": [],
   "source": [
    "from sklearn.preprocessing import MultiLabelBinarizer\n",
    "from sklearn.model_selection import train_test_split\n",
    "from keras.preprocessing.text import Tokenizer\n",
    "from keras.preprocessing.sequence import pad_sequences\n",
    "\n",
    "from keras.layers import Conv1D,MaxPooling1D, Flatten, BatchNormalization\n",
    "from keras.layers import concatenate"
   ]
  },
  {
   "cell_type": "code",
   "execution_count": 4,
   "id": "danish-feeling",
   "metadata": {
    "ExecuteTime": {
     "end_time": "2021-03-05T07:21:49.841595Z",
     "start_time": "2021-03-05T07:21:49.715496Z"
    }
   },
   "outputs": [
    {
     "name": "stdout",
     "output_type": "stream",
     "text": [
      "track1_round1_testA_20210222.csv  track1_round1_train_20210222.csv\r\n"
     ]
    }
   ],
   "source": [
    "!ls data"
   ]
  },
  {
   "cell_type": "code",
   "execution_count": 5,
   "id": "finnish-curtis",
   "metadata": {
    "ExecuteTime": {
     "end_time": "2021-03-05T07:21:49.914993Z",
     "start_time": "2021-03-05T07:21:49.861154Z"
    }
   },
   "outputs": [
    {
     "data": {
      "text/html": [
       "<div>\n",
       "<style scoped>\n",
       "    .dataframe tbody tr th:only-of-type {\n",
       "        vertical-align: middle;\n",
       "    }\n",
       "\n",
       "    .dataframe tbody tr th {\n",
       "        vertical-align: top;\n",
       "    }\n",
       "\n",
       "    .dataframe thead th {\n",
       "        text-align: right;\n",
       "    }\n",
       "</style>\n",
       "<table border=\"1\" class=\"dataframe\">\n",
       "  <thead>\n",
       "    <tr style=\"text-align: right;\">\n",
       "      <th></th>\n",
       "      <th>report_id</th>\n",
       "      <th>description</th>\n",
       "      <th>words</th>\n",
       "    </tr>\n",
       "  </thead>\n",
       "  <tbody>\n",
       "    <tr>\n",
       "      <th>0</th>\n",
       "      <td>0</td>\n",
       "      <td>852 328 697 538 142 355 582 800 728 4 647 169 ...</td>\n",
       "      <td>[852, 328, 697, 538, 142, 355, 582, 800, 728, ...</td>\n",
       "    </tr>\n",
       "    <tr>\n",
       "      <th>1</th>\n",
       "      <td>1</td>\n",
       "      <td>380 358 343 654 171 832 47 832 690 693 48 563 ...</td>\n",
       "      <td>[380, 358, 343, 654, 171, 832, 47, 832, 690, 6...</td>\n",
       "    </tr>\n",
       "    <tr>\n",
       "      <th>2</th>\n",
       "      <td>2</td>\n",
       "      <td>751 335 834 582 717 583 585 693 623 328 107 38...</td>\n",
       "      <td>[751, 335, 834, 582, 717, 583, 585, 693, 623, ...</td>\n",
       "    </tr>\n",
       "    <tr>\n",
       "      <th>3</th>\n",
       "      <td>3</td>\n",
       "      <td>623 328 649 582 488 12 578 623 538 382 382 265...</td>\n",
       "      <td>[623, 328, 649, 582, 488, 12, 578, 623, 538, 3...</td>\n",
       "    </tr>\n",
       "    <tr>\n",
       "      <th>4</th>\n",
       "      <td>4</td>\n",
       "      <td>83 293 398 797 382 363 145 424 693 698 800 691...</td>\n",
       "      <td>[83, 293, 398, 797, 382, 363, 145, 424, 693, 6...</td>\n",
       "    </tr>\n",
       "  </tbody>\n",
       "</table>\n",
       "</div>"
      ],
      "text/plain": [
       "  report_id                                        description  \\\n",
       "0         0  852 328 697 538 142 355 582 800 728 4 647 169 ...   \n",
       "1         1  380 358 343 654 171 832 47 832 690 693 48 563 ...   \n",
       "2         2  751 335 834 582 717 583 585 693 623 328 107 38...   \n",
       "3         3  623 328 649 582 488 12 578 623 538 382 382 265...   \n",
       "4         4  83 293 398 797 382 363 145 424 693 698 800 691...   \n",
       "\n",
       "                                               words  \n",
       "0  [852, 328, 697, 538, 142, 355, 582, 800, 728, ...  \n",
       "1  [380, 358, 343, 654, 171, 832, 47, 832, 690, 6...  \n",
       "2  [751, 335, 834, 582, 717, 583, 585, 693, 623, ...  \n",
       "3  [623, 328, 649, 582, 488, 12, 578, 623, 538, 3...  \n",
       "4  [83, 293, 398, 797, 382, 363, 145, 424, 693, 6...  "
      ]
     },
     "execution_count": 5,
     "metadata": {},
     "output_type": "execute_result"
    }
   ],
   "source": [
    "test_data = open('data/track1_round1_testA_20210222.csv').readlines()\n",
    "test_data = [data.strip().split('|,|') for data in test_data]\n",
    "test_dataset = pd.DataFrame(test_data, columns=['report_id', 'description'])\n",
    "test_dataset['words'] = test_dataset.description.apply(lambda x:x.split())\n",
    "\n",
    "test_dataset.head()"
   ]
  },
  {
   "cell_type": "code",
   "execution_count": 6,
   "id": "permanent-jordan",
   "metadata": {
    "ExecuteTime": {
     "end_time": "2021-03-05T07:21:50.017982Z",
     "start_time": "2021-03-05T07:21:49.964265Z"
    }
   },
   "outputs": [
    {
     "data": {
      "text/html": [
       "<div>\n",
       "<style scoped>\n",
       "    .dataframe tbody tr th:only-of-type {\n",
       "        vertical-align: middle;\n",
       "    }\n",
       "\n",
       "    .dataframe tbody tr th {\n",
       "        vertical-align: top;\n",
       "    }\n",
       "\n",
       "    .dataframe thead th {\n",
       "        text-align: right;\n",
       "    }\n",
       "</style>\n",
       "<table border=\"1\" class=\"dataframe\">\n",
       "  <thead>\n",
       "    <tr style=\"text-align: right;\">\n",
       "      <th></th>\n",
       "      <th>report_id</th>\n",
       "      <th>description</th>\n",
       "      <th>label</th>\n",
       "      <th>words</th>\n",
       "    </tr>\n",
       "  </thead>\n",
       "  <tbody>\n",
       "    <tr>\n",
       "      <th>0</th>\n",
       "      <td>0</td>\n",
       "      <td>623 328 538 382 399 400 478 842 698 137 492 26...</td>\n",
       "      <td>2</td>\n",
       "      <td>[623, 328, 538, 382, 399, 400, 478, 842, 698, ...</td>\n",
       "    </tr>\n",
       "    <tr>\n",
       "      <th>1</th>\n",
       "      <td>1</td>\n",
       "      <td>48 328 538 382 809 623 434 355 382 382 363 145...</td>\n",
       "      <td></td>\n",
       "      <td>[48, 328, 538, 382, 809, 623, 434, 355, 382, 3...</td>\n",
       "    </tr>\n",
       "    <tr>\n",
       "      <th>2</th>\n",
       "      <td>2</td>\n",
       "      <td>623 656 293 851 636 842 698 493 338 266 369 69...</td>\n",
       "      <td>15</td>\n",
       "      <td>[623, 656, 293, 851, 636, 842, 698, 493, 338, ...</td>\n",
       "    </tr>\n",
       "    <tr>\n",
       "      <th>3</th>\n",
       "      <td>3</td>\n",
       "      <td>48 328 380 259 439 107 380 265 172 470 290 693...</td>\n",
       "      <td></td>\n",
       "      <td>[48, 328, 380, 259, 439, 107, 380, 265, 172, 4...</td>\n",
       "    </tr>\n",
       "    <tr>\n",
       "      <th>4</th>\n",
       "      <td>4</td>\n",
       "      <td>623 328 399 698 493 338 266 14 177 415 511 647...</td>\n",
       "      <td>16</td>\n",
       "      <td>[623, 328, 399, 698, 493, 338, 266, 14, 177, 4...</td>\n",
       "    </tr>\n",
       "  </tbody>\n",
       "</table>\n",
       "</div>"
      ],
      "text/plain": [
       "  report_id                                        description label  \\\n",
       "0         0  623 328 538 382 399 400 478 842 698 137 492 26...     2   \n",
       "1         1  48 328 538 382 809 623 434 355 382 382 363 145...         \n",
       "2         2  623 656 293 851 636 842 698 493 338 266 369 69...    15   \n",
       "3         3  48 328 380 259 439 107 380 265 172 470 290 693...         \n",
       "4         4  623 328 399 698 493 338 266 14 177 415 511 647...    16   \n",
       "\n",
       "                                               words  \n",
       "0  [623, 328, 538, 382, 399, 400, 478, 842, 698, ...  \n",
       "1  [48, 328, 538, 382, 809, 623, 434, 355, 382, 3...  \n",
       "2  [623, 656, 293, 851, 636, 842, 698, 493, 338, ...  \n",
       "3  [48, 328, 380, 259, 439, 107, 380, 265, 172, 4...  \n",
       "4  [623, 328, 399, 698, 493, 338, 266, 14, 177, 4...  "
      ]
     },
     "execution_count": 6,
     "metadata": {},
     "output_type": "execute_result"
    }
   ],
   "source": [
    "train_data = open('data/track1_round1_train_20210222.csv','r').readlines()\n",
    "\n",
    "train_data = [data.strip().split('|,|')  for data in train_data]\n",
    "\n",
    "train_dataset = pd.DataFrame(train_data,columns=['report_id','description','label'])\n",
    "train_dataset['words'] = train_dataset.description.apply(lambda x:x.split())\n",
    "\n",
    "train_dataset.head()"
   ]
  },
  {
   "cell_type": "code",
   "execution_count": 7,
   "id": "bigger-activation",
   "metadata": {
    "ExecuteTime": {
     "end_time": "2021-03-05T07:21:50.083168Z",
     "start_time": "2021-03-05T07:21:50.062260Z"
    }
   },
   "outputs": [
    {
     "data": {
      "text/html": [
       "<div>\n",
       "<style scoped>\n",
       "    .dataframe tbody tr th:only-of-type {\n",
       "        vertical-align: middle;\n",
       "    }\n",
       "\n",
       "    .dataframe tbody tr th {\n",
       "        vertical-align: top;\n",
       "    }\n",
       "\n",
       "    .dataframe thead th {\n",
       "        text-align: right;\n",
       "    }\n",
       "</style>\n",
       "<table border=\"1\" class=\"dataframe\">\n",
       "  <thead>\n",
       "    <tr style=\"text-align: right;\">\n",
       "      <th></th>\n",
       "      <th>report_id</th>\n",
       "      <th>description</th>\n",
       "      <th>label</th>\n",
       "      <th>words</th>\n",
       "    </tr>\n",
       "  </thead>\n",
       "  <tbody>\n",
       "    <tr>\n",
       "      <th>0</th>\n",
       "      <td>0</td>\n",
       "      <td>623 328 538 382 399 400 478 842 698 137 492 26...</td>\n",
       "      <td>2</td>\n",
       "      <td>[623, 328, 538, 382, 399, 400, 478, 842, 698, ...</td>\n",
       "    </tr>\n",
       "    <tr>\n",
       "      <th>1</th>\n",
       "      <td>1</td>\n",
       "      <td>48 328 538 382 809 623 434 355 382 382 363 145...</td>\n",
       "      <td></td>\n",
       "      <td>[48, 328, 538, 382, 809, 623, 434, 355, 382, 3...</td>\n",
       "    </tr>\n",
       "    <tr>\n",
       "      <th>2</th>\n",
       "      <td>2</td>\n",
       "      <td>623 656 293 851 636 842 698 493 338 266 369 69...</td>\n",
       "      <td>15</td>\n",
       "      <td>[623, 656, 293, 851, 636, 842, 698, 493, 338, ...</td>\n",
       "    </tr>\n",
       "    <tr>\n",
       "      <th>3</th>\n",
       "      <td>3</td>\n",
       "      <td>48 328 380 259 439 107 380 265 172 470 290 693...</td>\n",
       "      <td></td>\n",
       "      <td>[48, 328, 380, 259, 439, 107, 380, 265, 172, 4...</td>\n",
       "    </tr>\n",
       "    <tr>\n",
       "      <th>4</th>\n",
       "      <td>4</td>\n",
       "      <td>623 328 399 698 493 338 266 14 177 415 511 647...</td>\n",
       "      <td>16</td>\n",
       "      <td>[623, 328, 399, 698, 493, 338, 266, 14, 177, 4...</td>\n",
       "    </tr>\n",
       "  </tbody>\n",
       "</table>\n",
       "</div>"
      ],
      "text/plain": [
       "  report_id                                        description label  \\\n",
       "0         0  623 328 538 382 399 400 478 842 698 137 492 26...     2   \n",
       "1         1  48 328 538 382 809 623 434 355 382 382 363 145...         \n",
       "2         2  623 656 293 851 636 842 698 493 338 266 369 69...    15   \n",
       "3         3  48 328 380 259 439 107 380 265 172 470 290 693...         \n",
       "4         4  623 328 399 698 493 338 266 14 177 415 511 647...    16   \n",
       "\n",
       "                                               words  \n",
       "0  [623, 328, 538, 382, 399, 400, 478, 842, 698, ...  \n",
       "1  [48, 328, 538, 382, 809, 623, 434, 355, 382, 3...  \n",
       "2  [623, 656, 293, 851, 636, 842, 698, 493, 338, ...  \n",
       "3  [48, 328, 380, 259, 439, 107, 380, 265, 172, 4...  \n",
       "4  [623, 328, 399, 698, 493, 338, 266, 14, 177, 4...  "
      ]
     },
     "execution_count": 7,
     "metadata": {},
     "output_type": "execute_result"
    }
   ],
   "source": [
    "dataset = train_dataset.append(test_dataset)\n",
    "dataset.head()"
   ]
  },
  {
   "cell_type": "code",
   "execution_count": 8,
   "id": "cloudy-arizona",
   "metadata": {
    "ExecuteTime": {
     "end_time": "2021-03-05T07:21:50.165692Z",
     "start_time": "2021-03-05T07:21:50.135659Z"
    }
   },
   "outputs": [
    {
     "data": {
      "text/plain": [
       "(10000, 17)"
      ]
     },
     "execution_count": 8,
     "metadata": {},
     "output_type": "execute_result"
    }
   ],
   "source": [
    "mlb = MultiLabelBinarizer()\n",
    "\n",
    "label = mlb.fit_transform(train_dataset.label.apply(lambda x:x.split()))\n",
    "\n",
    "label.shape"
   ]
  },
  {
   "cell_type": "code",
   "execution_count": 9,
   "id": "earned-disco",
   "metadata": {
    "ExecuteTime": {
     "end_time": "2021-03-05T07:21:50.467822Z",
     "start_time": "2021-03-05T07:21:50.254905Z"
    }
   },
   "outputs": [],
   "source": [
    "tokenizer=Tokenizer()  #创建一个Tokenizer对象\n",
    "#fit_on_texts函数可以将输入的文本中的每个词编号，编号是根据词频的，词频越大，编号越小\n",
    "tokenizer.fit_on_texts(dataset['words'])\n",
    "vocab=tokenizer.word_index #得到每个词的编号\n",
    "# 将每个样本中的每个词转换为数字列表，使用每个词的编号进行编号"
   ]
  },
  {
   "cell_type": "code",
   "execution_count": 10,
   "id": "latin-disposal",
   "metadata": {
    "ExecuteTime": {
     "end_time": "2021-03-05T07:21:50.727291Z",
     "start_time": "2021-03-05T07:21:50.527011Z"
    }
   },
   "outputs": [],
   "source": [
    "train_data =tokenizer.texts_to_sequences(train_dataset['words'])\n",
    "#将超过固定值的部分截掉，不足的在最前面用0填充\n",
    "train_data_padded_seqs = pad_sequences(train_data, maxlen=100, value = len(vocab))\n",
    "\n",
    "test_data =tokenizer.texts_to_sequences(test_dataset['words'])\n",
    "#将超过固定值的部分截掉，不足的在最前面用0填充\n",
    "test_data_padded_seqs = pad_sequences(test_data, maxlen=100, value = len(vocab))"
   ]
  },
  {
   "cell_type": "code",
   "execution_count": 11,
   "id": "cutting-tuner",
   "metadata": {
    "ExecuteTime": {
     "end_time": "2021-03-05T07:21:50.825738Z",
     "start_time": "2021-03-05T07:21:50.822360Z"
    }
   },
   "outputs": [
    {
     "data": {
      "text/plain": [
       "(10000, 100)"
      ]
     },
     "execution_count": 11,
     "metadata": {},
     "output_type": "execute_result"
    }
   ],
   "source": [
    "train_data_padded_seqs.shape"
   ]
  },
  {
   "cell_type": "markdown",
   "id": "polar-particular",
   "metadata": {},
   "source": [
    "## CNN"
   ]
  },
  {
   "cell_type": "code",
   "execution_count": 12,
   "id": "direct-gibraltar",
   "metadata": {
    "ExecuteTime": {
     "end_time": "2021-03-05T07:22:13.865993Z",
     "start_time": "2021-03-05T07:21:50.939787Z"
    },
    "scrolled": true
   },
   "outputs": [
    {
     "name": "stdout",
     "output_type": "stream",
     "text": [
      "Model: \"sequential\"\n",
      "_________________________________________________________________\n",
      "Layer (type)                 Output Shape              Param #   \n",
      "=================================================================\n",
      "embedding (Embedding)        (None, 100, 300)          257700    \n",
      "_________________________________________________________________\n",
      "conv1d (Conv1D)              (None, 100, 256)          384256    \n",
      "_________________________________________________________________\n",
      "max_pooling1d (MaxPooling1D) (None, 34, 256)           0         \n",
      "_________________________________________________________________\n",
      "conv1d_1 (Conv1D)            (None, 34, 128)           163968    \n",
      "_________________________________________________________________\n",
      "max_pooling1d_1 (MaxPooling1 (None, 12, 128)           0         \n",
      "_________________________________________________________________\n",
      "conv1d_2 (Conv1D)            (None, 12, 64)            24640     \n",
      "_________________________________________________________________\n",
      "flatten (Flatten)            (None, 768)               0         \n",
      "_________________________________________________________________\n",
      "dropout (Dropout)            (None, 768)               0         \n",
      "_________________________________________________________________\n",
      "batch_normalization (BatchNo (None, 768)               3072      \n",
      "_________________________________________________________________\n",
      "dense (Dense)                (None, 256)               196864    \n",
      "_________________________________________________________________\n",
      "dropout_1 (Dropout)          (None, 256)               0         \n",
      "_________________________________________________________________\n",
      "dense_1 (Dense)              (None, 17)                4369      \n",
      "=================================================================\n",
      "Total params: 1,034,869\n",
      "Trainable params: 1,033,333\n",
      "Non-trainable params: 1,536\n",
      "_________________________________________________________________\n",
      "Epoch 1/50\n",
      "71/71 [==============================] - 4s 60ms/step - loss: 0.2424 - accuracy: 0.2123 - val_loss: 0.2647 - val_accuracy: 0.2540\n",
      "Epoch 2/50\n",
      "71/71 [==============================] - 3s 38ms/step - loss: 0.1523 - accuracy: 0.4706 - val_loss: 0.2434 - val_accuracy: 0.3380\n",
      "Epoch 3/50\n",
      "71/71 [==============================] - 3s 38ms/step - loss: 0.1226 - accuracy: 0.5489 - val_loss: 0.2192 - val_accuracy: 0.3360\n",
      "Epoch 4/50\n",
      "71/71 [==============================] - 3s 38ms/step - loss: 0.1116 - accuracy: 0.5638 - val_loss: 0.2065 - val_accuracy: 0.4830\n",
      "Epoch 5/50\n",
      "71/71 [==============================] - 3s 37ms/step - loss: 0.1060 - accuracy: 0.5708 - val_loss: 0.1582 - val_accuracy: 0.4430\n",
      "Epoch 6/50\n",
      "69/71 [============================>.] - ETA: 0s - loss: 0.1016 - accuracy: 0.5739"
     ]
    },
    {
     "ename": "KeyboardInterrupt",
     "evalue": "",
     "output_type": "error",
     "traceback": [
      "\u001b[0;31m---------------------------------------------------------------------------\u001b[0m",
      "\u001b[0;31mKeyboardInterrupt\u001b[0m                         Traceback (most recent call last)",
      "\u001b[0;32m<ipython-input-12-2a6bf91d0ece>\u001b[0m in \u001b[0;36m<module>\u001b[0;34m\u001b[0m\n\u001b[1;32m     15\u001b[0m \u001b[0;34m\u001b[0m\u001b[0m\n\u001b[1;32m     16\u001b[0m \u001b[0mmodel\u001b[0m\u001b[0;34m.\u001b[0m\u001b[0mcompile\u001b[0m\u001b[0;34m(\u001b[0m\u001b[0mloss\u001b[0m\u001b[0;34m=\u001b[0m\u001b[0;34m'binary_crossentropy'\u001b[0m\u001b[0;34m,\u001b[0m\u001b[0moptimizer\u001b[0m\u001b[0;34m=\u001b[0m\u001b[0;34m'adam'\u001b[0m\u001b[0;34m,\u001b[0m\u001b[0mmetrics\u001b[0m\u001b[0;34m=\u001b[0m\u001b[0;34m[\u001b[0m\u001b[0;34m'accuracy'\u001b[0m\u001b[0;34m]\u001b[0m\u001b[0;34m)\u001b[0m\u001b[0;34m\u001b[0m\u001b[0;34m\u001b[0m\u001b[0m\n\u001b[0;32m---> 17\u001b[0;31m \u001b[0mmodel\u001b[0m\u001b[0;34m.\u001b[0m\u001b[0mfit\u001b[0m\u001b[0;34m(\u001b[0m\u001b[0mtrain_data_padded_seqs\u001b[0m\u001b[0;34m,\u001b[0m \u001b[0mlabel\u001b[0m\u001b[0;34m,\u001b[0m \u001b[0mepochs\u001b[0m\u001b[0;34m=\u001b[0m\u001b[0;36m50\u001b[0m\u001b[0;34m,\u001b[0m \u001b[0mbatch_size\u001b[0m\u001b[0;34m=\u001b[0m\u001b[0;36m128\u001b[0m\u001b[0;34m,\u001b[0m \u001b[0mvalidation_split\u001b[0m\u001b[0;34m=\u001b[0m\u001b[0;36m0.1\u001b[0m\u001b[0;34m)\u001b[0m\u001b[0;34m\u001b[0m\u001b[0;34m\u001b[0m\u001b[0m\n\u001b[0m\u001b[1;32m     18\u001b[0m \u001b[0;31m# y_predict = model.predict_classes(x_test_padded_seqs)  # 预测的是类别，结果就是类别号\u001b[0m\u001b[0;34m\u001b[0m\u001b[0;34m\u001b[0m\u001b[0;34m\u001b[0m\u001b[0m\n\u001b[1;32m     19\u001b[0m \u001b[0;31m# y_predict = list(map(str, y_predict))\u001b[0m\u001b[0;34m\u001b[0m\u001b[0;34m\u001b[0m\u001b[0;34m\u001b[0m\u001b[0m\n",
      "\u001b[0;32m~/Workplace/GAITIC/venv/lib/python3.6/site-packages/tensorflow/python/keras/engine/training.py\u001b[0m in \u001b[0;36m_method_wrapper\u001b[0;34m(self, *args, **kwargs)\u001b[0m\n\u001b[1;32m     64\u001b[0m   \u001b[0;32mdef\u001b[0m \u001b[0m_method_wrapper\u001b[0m\u001b[0;34m(\u001b[0m\u001b[0mself\u001b[0m\u001b[0;34m,\u001b[0m \u001b[0;34m*\u001b[0m\u001b[0margs\u001b[0m\u001b[0;34m,\u001b[0m \u001b[0;34m**\u001b[0m\u001b[0mkwargs\u001b[0m\u001b[0;34m)\u001b[0m\u001b[0;34m:\u001b[0m\u001b[0;34m\u001b[0m\u001b[0;34m\u001b[0m\u001b[0m\n\u001b[1;32m     65\u001b[0m     \u001b[0;32mif\u001b[0m \u001b[0;32mnot\u001b[0m \u001b[0mself\u001b[0m\u001b[0;34m.\u001b[0m\u001b[0m_in_multi_worker_mode\u001b[0m\u001b[0;34m(\u001b[0m\u001b[0;34m)\u001b[0m\u001b[0;34m:\u001b[0m  \u001b[0;31m# pylint: disable=protected-access\u001b[0m\u001b[0;34m\u001b[0m\u001b[0;34m\u001b[0m\u001b[0m\n\u001b[0;32m---> 66\u001b[0;31m       \u001b[0;32mreturn\u001b[0m \u001b[0mmethod\u001b[0m\u001b[0;34m(\u001b[0m\u001b[0mself\u001b[0m\u001b[0;34m,\u001b[0m \u001b[0;34m*\u001b[0m\u001b[0margs\u001b[0m\u001b[0;34m,\u001b[0m \u001b[0;34m**\u001b[0m\u001b[0mkwargs\u001b[0m\u001b[0;34m)\u001b[0m\u001b[0;34m\u001b[0m\u001b[0;34m\u001b[0m\u001b[0m\n\u001b[0m\u001b[1;32m     67\u001b[0m \u001b[0;34m\u001b[0m\u001b[0m\n\u001b[1;32m     68\u001b[0m     \u001b[0;31m# Running inside `run_distribute_coordinator` already.\u001b[0m\u001b[0;34m\u001b[0m\u001b[0;34m\u001b[0m\u001b[0;34m\u001b[0m\u001b[0m\n",
      "\u001b[0;32m~/Workplace/GAITIC/venv/lib/python3.6/site-packages/tensorflow/python/keras/engine/training.py\u001b[0m in \u001b[0;36mfit\u001b[0;34m(self, x, y, batch_size, epochs, verbose, callbacks, validation_split, validation_data, shuffle, class_weight, sample_weight, initial_epoch, steps_per_epoch, validation_steps, validation_batch_size, validation_freq, max_queue_size, workers, use_multiprocessing)\u001b[0m\n\u001b[1;32m    846\u001b[0m                 batch_size=batch_size):\n\u001b[1;32m    847\u001b[0m               \u001b[0mcallbacks\u001b[0m\u001b[0;34m.\u001b[0m\u001b[0mon_train_batch_begin\u001b[0m\u001b[0;34m(\u001b[0m\u001b[0mstep\u001b[0m\u001b[0;34m)\u001b[0m\u001b[0;34m\u001b[0m\u001b[0;34m\u001b[0m\u001b[0m\n\u001b[0;32m--> 848\u001b[0;31m               \u001b[0mtmp_logs\u001b[0m \u001b[0;34m=\u001b[0m \u001b[0mtrain_function\u001b[0m\u001b[0;34m(\u001b[0m\u001b[0miterator\u001b[0m\u001b[0;34m)\u001b[0m\u001b[0;34m\u001b[0m\u001b[0;34m\u001b[0m\u001b[0m\n\u001b[0m\u001b[1;32m    849\u001b[0m               \u001b[0;31m# Catch OutOfRangeError for Datasets of unknown size.\u001b[0m\u001b[0;34m\u001b[0m\u001b[0;34m\u001b[0m\u001b[0;34m\u001b[0m\u001b[0m\n\u001b[1;32m    850\u001b[0m               \u001b[0;31m# This blocks until the batch has finished executing.\u001b[0m\u001b[0;34m\u001b[0m\u001b[0;34m\u001b[0m\u001b[0;34m\u001b[0m\u001b[0m\n",
      "\u001b[0;32m~/Workplace/GAITIC/venv/lib/python3.6/site-packages/tensorflow/python/eager/def_function.py\u001b[0m in \u001b[0;36m__call__\u001b[0;34m(self, *args, **kwds)\u001b[0m\n\u001b[1;32m    578\u001b[0m         \u001b[0mxla_context\u001b[0m\u001b[0;34m.\u001b[0m\u001b[0mExit\u001b[0m\u001b[0;34m(\u001b[0m\u001b[0;34m)\u001b[0m\u001b[0;34m\u001b[0m\u001b[0;34m\u001b[0m\u001b[0m\n\u001b[1;32m    579\u001b[0m     \u001b[0;32melse\u001b[0m\u001b[0;34m:\u001b[0m\u001b[0;34m\u001b[0m\u001b[0;34m\u001b[0m\u001b[0m\n\u001b[0;32m--> 580\u001b[0;31m       \u001b[0mresult\u001b[0m \u001b[0;34m=\u001b[0m \u001b[0mself\u001b[0m\u001b[0;34m.\u001b[0m\u001b[0m_call\u001b[0m\u001b[0;34m(\u001b[0m\u001b[0;34m*\u001b[0m\u001b[0margs\u001b[0m\u001b[0;34m,\u001b[0m \u001b[0;34m**\u001b[0m\u001b[0mkwds\u001b[0m\u001b[0;34m)\u001b[0m\u001b[0;34m\u001b[0m\u001b[0;34m\u001b[0m\u001b[0m\n\u001b[0m\u001b[1;32m    581\u001b[0m \u001b[0;34m\u001b[0m\u001b[0m\n\u001b[1;32m    582\u001b[0m     \u001b[0;32mif\u001b[0m \u001b[0mtracing_count\u001b[0m \u001b[0;34m==\u001b[0m \u001b[0mself\u001b[0m\u001b[0;34m.\u001b[0m\u001b[0m_get_tracing_count\u001b[0m\u001b[0;34m(\u001b[0m\u001b[0;34m)\u001b[0m\u001b[0;34m:\u001b[0m\u001b[0;34m\u001b[0m\u001b[0;34m\u001b[0m\u001b[0m\n",
      "\u001b[0;32m~/Workplace/GAITIC/venv/lib/python3.6/site-packages/tensorflow/python/eager/def_function.py\u001b[0m in \u001b[0;36m_call\u001b[0;34m(self, *args, **kwds)\u001b[0m\n\u001b[1;32m    609\u001b[0m       \u001b[0;31m# In this case we have created variables on the first call, so we run the\u001b[0m\u001b[0;34m\u001b[0m\u001b[0;34m\u001b[0m\u001b[0;34m\u001b[0m\u001b[0m\n\u001b[1;32m    610\u001b[0m       \u001b[0;31m# defunned version which is guaranteed to never create variables.\u001b[0m\u001b[0;34m\u001b[0m\u001b[0;34m\u001b[0m\u001b[0;34m\u001b[0m\u001b[0m\n\u001b[0;32m--> 611\u001b[0;31m       \u001b[0;32mreturn\u001b[0m \u001b[0mself\u001b[0m\u001b[0;34m.\u001b[0m\u001b[0m_stateless_fn\u001b[0m\u001b[0;34m(\u001b[0m\u001b[0;34m*\u001b[0m\u001b[0margs\u001b[0m\u001b[0;34m,\u001b[0m \u001b[0;34m**\u001b[0m\u001b[0mkwds\u001b[0m\u001b[0;34m)\u001b[0m  \u001b[0;31m# pylint: disable=not-callable\u001b[0m\u001b[0;34m\u001b[0m\u001b[0;34m\u001b[0m\u001b[0m\n\u001b[0m\u001b[1;32m    612\u001b[0m     \u001b[0;32melif\u001b[0m \u001b[0mself\u001b[0m\u001b[0;34m.\u001b[0m\u001b[0m_stateful_fn\u001b[0m \u001b[0;32mis\u001b[0m \u001b[0;32mnot\u001b[0m \u001b[0;32mNone\u001b[0m\u001b[0;34m:\u001b[0m\u001b[0;34m\u001b[0m\u001b[0;34m\u001b[0m\u001b[0m\n\u001b[1;32m    613\u001b[0m       \u001b[0;31m# Release the lock early so that multiple threads can perform the call\u001b[0m\u001b[0;34m\u001b[0m\u001b[0;34m\u001b[0m\u001b[0;34m\u001b[0m\u001b[0m\n",
      "\u001b[0;32m~/Workplace/GAITIC/venv/lib/python3.6/site-packages/tensorflow/python/eager/function.py\u001b[0m in \u001b[0;36m__call__\u001b[0;34m(self, *args, **kwargs)\u001b[0m\n\u001b[1;32m   2418\u001b[0m     \u001b[0;32mwith\u001b[0m \u001b[0mself\u001b[0m\u001b[0;34m.\u001b[0m\u001b[0m_lock\u001b[0m\u001b[0;34m:\u001b[0m\u001b[0;34m\u001b[0m\u001b[0;34m\u001b[0m\u001b[0m\n\u001b[1;32m   2419\u001b[0m       \u001b[0mgraph_function\u001b[0m\u001b[0;34m,\u001b[0m \u001b[0margs\u001b[0m\u001b[0;34m,\u001b[0m \u001b[0mkwargs\u001b[0m \u001b[0;34m=\u001b[0m \u001b[0mself\u001b[0m\u001b[0;34m.\u001b[0m\u001b[0m_maybe_define_function\u001b[0m\u001b[0;34m(\u001b[0m\u001b[0margs\u001b[0m\u001b[0;34m,\u001b[0m \u001b[0mkwargs\u001b[0m\u001b[0;34m)\u001b[0m\u001b[0;34m\u001b[0m\u001b[0;34m\u001b[0m\u001b[0m\n\u001b[0;32m-> 2420\u001b[0;31m     \u001b[0;32mreturn\u001b[0m \u001b[0mgraph_function\u001b[0m\u001b[0;34m.\u001b[0m\u001b[0m_filtered_call\u001b[0m\u001b[0;34m(\u001b[0m\u001b[0margs\u001b[0m\u001b[0;34m,\u001b[0m \u001b[0mkwargs\u001b[0m\u001b[0;34m)\u001b[0m  \u001b[0;31m# pylint: disable=protected-access\u001b[0m\u001b[0;34m\u001b[0m\u001b[0;34m\u001b[0m\u001b[0m\n\u001b[0m\u001b[1;32m   2421\u001b[0m \u001b[0;34m\u001b[0m\u001b[0m\n\u001b[1;32m   2422\u001b[0m   \u001b[0;34m@\u001b[0m\u001b[0mproperty\u001b[0m\u001b[0;34m\u001b[0m\u001b[0;34m\u001b[0m\u001b[0m\n",
      "\u001b[0;32m~/Workplace/GAITIC/venv/lib/python3.6/site-packages/tensorflow/python/eager/function.py\u001b[0m in \u001b[0;36m_filtered_call\u001b[0;34m(self, args, kwargs)\u001b[0m\n\u001b[1;32m   1663\u001b[0m          if isinstance(t, (ops.Tensor,\n\u001b[1;32m   1664\u001b[0m                            resource_variable_ops.BaseResourceVariable))),\n\u001b[0;32m-> 1665\u001b[0;31m         self.captured_inputs)\n\u001b[0m\u001b[1;32m   1666\u001b[0m \u001b[0;34m\u001b[0m\u001b[0m\n\u001b[1;32m   1667\u001b[0m   \u001b[0;32mdef\u001b[0m \u001b[0m_call_flat\u001b[0m\u001b[0;34m(\u001b[0m\u001b[0mself\u001b[0m\u001b[0;34m,\u001b[0m \u001b[0margs\u001b[0m\u001b[0;34m,\u001b[0m \u001b[0mcaptured_inputs\u001b[0m\u001b[0;34m,\u001b[0m \u001b[0mcancellation_manager\u001b[0m\u001b[0;34m=\u001b[0m\u001b[0;32mNone\u001b[0m\u001b[0;34m)\u001b[0m\u001b[0;34m:\u001b[0m\u001b[0;34m\u001b[0m\u001b[0;34m\u001b[0m\u001b[0m\n",
      "\u001b[0;32m~/Workplace/GAITIC/venv/lib/python3.6/site-packages/tensorflow/python/eager/function.py\u001b[0m in \u001b[0;36m_call_flat\u001b[0;34m(self, args, captured_inputs, cancellation_manager)\u001b[0m\n\u001b[1;32m   1744\u001b[0m       \u001b[0;31m# No tape is watching; skip to running the function.\u001b[0m\u001b[0;34m\u001b[0m\u001b[0;34m\u001b[0m\u001b[0;34m\u001b[0m\u001b[0m\n\u001b[1;32m   1745\u001b[0m       return self._build_call_outputs(self._inference_function.call(\n\u001b[0;32m-> 1746\u001b[0;31m           ctx, args, cancellation_manager=cancellation_manager))\n\u001b[0m\u001b[1;32m   1747\u001b[0m     forward_backward = self._select_forward_and_backward_functions(\n\u001b[1;32m   1748\u001b[0m         \u001b[0margs\u001b[0m\u001b[0;34m,\u001b[0m\u001b[0;34m\u001b[0m\u001b[0;34m\u001b[0m\u001b[0m\n",
      "\u001b[0;32m~/Workplace/GAITIC/venv/lib/python3.6/site-packages/tensorflow/python/eager/function.py\u001b[0m in \u001b[0;36mcall\u001b[0;34m(self, ctx, args, cancellation_manager)\u001b[0m\n\u001b[1;32m    596\u001b[0m               \u001b[0minputs\u001b[0m\u001b[0;34m=\u001b[0m\u001b[0margs\u001b[0m\u001b[0;34m,\u001b[0m\u001b[0;34m\u001b[0m\u001b[0;34m\u001b[0m\u001b[0m\n\u001b[1;32m    597\u001b[0m               \u001b[0mattrs\u001b[0m\u001b[0;34m=\u001b[0m\u001b[0mattrs\u001b[0m\u001b[0;34m,\u001b[0m\u001b[0;34m\u001b[0m\u001b[0;34m\u001b[0m\u001b[0m\n\u001b[0;32m--> 598\u001b[0;31m               ctx=ctx)\n\u001b[0m\u001b[1;32m    599\u001b[0m         \u001b[0;32melse\u001b[0m\u001b[0;34m:\u001b[0m\u001b[0;34m\u001b[0m\u001b[0;34m\u001b[0m\u001b[0m\n\u001b[1;32m    600\u001b[0m           outputs = execute.execute_with_cancellation(\n",
      "\u001b[0;32m~/Workplace/GAITIC/venv/lib/python3.6/site-packages/tensorflow/python/eager/execute.py\u001b[0m in \u001b[0;36mquick_execute\u001b[0;34m(op_name, num_outputs, inputs, attrs, ctx, name)\u001b[0m\n\u001b[1;32m     58\u001b[0m     \u001b[0mctx\u001b[0m\u001b[0;34m.\u001b[0m\u001b[0mensure_initialized\u001b[0m\u001b[0;34m(\u001b[0m\u001b[0;34m)\u001b[0m\u001b[0;34m\u001b[0m\u001b[0;34m\u001b[0m\u001b[0m\n\u001b[1;32m     59\u001b[0m     tensors = pywrap_tfe.TFE_Py_Execute(ctx._handle, device_name, op_name,\n\u001b[0;32m---> 60\u001b[0;31m                                         inputs, attrs, num_outputs)\n\u001b[0m\u001b[1;32m     61\u001b[0m   \u001b[0;32mexcept\u001b[0m \u001b[0mcore\u001b[0m\u001b[0;34m.\u001b[0m\u001b[0m_NotOkStatusException\u001b[0m \u001b[0;32mas\u001b[0m \u001b[0me\u001b[0m\u001b[0;34m:\u001b[0m\u001b[0;34m\u001b[0m\u001b[0;34m\u001b[0m\u001b[0m\n\u001b[1;32m     62\u001b[0m     \u001b[0;32mif\u001b[0m \u001b[0mname\u001b[0m \u001b[0;32mis\u001b[0m \u001b[0;32mnot\u001b[0m \u001b[0;32mNone\u001b[0m\u001b[0;34m:\u001b[0m\u001b[0;34m\u001b[0m\u001b[0;34m\u001b[0m\u001b[0m\n",
      "\u001b[0;31mKeyboardInterrupt\u001b[0m: "
     ]
    }
   ],
   "source": [
    "model = Sequential()\n",
    "model.add(Embedding(len(vocab) + 1, 300, input_length=100)) #使用Embeeding层将每个词编码转换为词向量\n",
    "model.add(Conv1D(256, 5, padding='same'))\n",
    "model.add(MaxPooling1D(3, 3, padding='same'))\n",
    "model.add(Conv1D(128, 5, padding='same'))\n",
    "model.add(MaxPooling1D(3, 3, padding='same'))\n",
    "model.add(Conv1D(64, 3, padding='same'))\n",
    "model.add(Flatten())\n",
    "model.add(Dropout(0.1))\n",
    "model.add(BatchNormalization())  # (批)规范化层\n",
    "model.add(Dense(256, activation='relu'))\n",
    "model.add(Dropout(0.1))\n",
    "model.add(Dense(17, activation='softmax'))\n",
    "model.summary()\n",
    "\n",
    "model.compile(loss='binary_crossentropy',optimizer='adam',metrics=['accuracy'])\n",
    "model.fit(train_data_padded_seqs, label, epochs=50, batch_size=128, validation_split=0.1)\n",
    "# y_predict = model.predict_classes(x_test_padded_seqs)  # 预测的是类别，结果就是类别号\n",
    "# y_predict = list(map(str, y_predict))\n",
    "# print('准确率', metrics.accuracy_score(y_test, y_predict))\n",
    "# print('平均f1-score:', metrics.f1_score(y_test, y_predict, average='weighted'))\n"
   ]
  },
  {
   "cell_type": "markdown",
   "id": "architectural-alcohol",
   "metadata": {},
   "source": [
    "## textCnn"
   ]
  },
  {
   "cell_type": "code",
   "execution_count": null,
   "id": "instrumental-multiple",
   "metadata": {
    "ExecuteTime": {
     "end_time": "2021-03-05T07:22:13.872262Z",
     "start_time": "2021-03-05T07:21:50.318Z"
    },
    "scrolled": false
   },
   "outputs": [],
   "source": [
    "main_input = Input(shape=(100,), dtype='float64')\n",
    "# 词嵌入（使用预训练的词向量）\n",
    "embedder = Embedding(len(vocab) + 1, 300, input_length=100, trainable=False)\n",
    "embed = embedder(main_input)\n",
    "# 词窗大小分别为3,4,5\n",
    "cnn1 = Conv1D(256, 3, padding='same', strides=1, activation='relu')(embed)\n",
    "cnn1 = MaxPooling1D(pool_size=48)(cnn1)\n",
    "cnn2 = Conv1D(256, 4, padding='same', strides=1, activation='relu')(embed)\n",
    "cnn2 = MaxPooling1D(pool_size=47)(cnn2)\n",
    "cnn3 = Conv1D(256, 5, padding='same', strides=1, activation='relu')(embed)\n",
    "cnn3 = MaxPooling1D(pool_size=46)(cnn3)\n",
    "# 合并三个模型的输出向量\n",
    "cnn = concatenate([cnn1, cnn2, cnn3], axis=-1)\n",
    "flat = Flatten()(cnn)\n",
    "drop = Dropout(0.2)(flat)\n",
    "main_output = Dense(17, activation='softmax')(drop)\n",
    "model = Model(inputs=main_input, outputs=main_output)\n",
    "model.summary()\n",
    "model.compile(loss='binary_crossentropy', optimizer='adam', metrics=['accuracy'])\n",
    "model.fit(train_data_padded_seqs, label, epochs=50, batch_size=200,validation_split=0.1)\n"
   ]
  },
  {
   "cell_type": "markdown",
   "id": "competent-pantyhose",
   "metadata": {},
   "source": [
    "## Bilstm"
   ]
  },
  {
   "cell_type": "code",
   "execution_count": 15,
   "id": "julian-detector",
   "metadata": {
    "ExecuteTime": {
     "end_time": "2021-03-05T07:25:48.154791Z",
     "start_time": "2021-03-05T07:25:48.151624Z"
    }
   },
   "outputs": [],
   "source": [
    "from keras import layers"
   ]
  },
  {
   "cell_type": "code",
   "execution_count": 17,
   "id": "million-instrumentation",
   "metadata": {
    "ExecuteTime": {
     "end_time": "2021-03-05T07:25:58.240048Z",
     "start_time": "2021-03-05T07:25:57.546080Z"
    }
   },
   "outputs": [
    {
     "name": "stdout",
     "output_type": "stream",
     "text": [
      "Model: \"model\"\n",
      "_________________________________________________________________\n",
      "Layer (type)                 Output Shape              Param #   \n",
      "=================================================================\n",
      "input_4 (InputLayer)         [(None, 100)]             0         \n",
      "_________________________________________________________________\n",
      "embedding_4 (Embedding)      (None, 100, 300)          257700    \n",
      "_________________________________________________________________\n",
      "bidirectional_2 (Bidirection (None, 100, 128)          186880    \n",
      "_________________________________________________________________\n",
      "bidirectional_3 (Bidirection (None, 128)               98816     \n",
      "_________________________________________________________________\n",
      "dense_3 (Dense)              (None, 17)                2193      \n",
      "=================================================================\n",
      "Total params: 545,589\n",
      "Trainable params: 287,889\n",
      "Non-trainable params: 257,700\n",
      "_________________________________________________________________\n"
     ]
    }
   ],
   "source": [
    "inputs = Input(shape=(100,), dtype='float64')\n",
    "embedder = Embedding(len(vocab) + 1, 300, input_length=100, trainable=False)\n",
    "embed = embedder(inputs)\n",
    "# Embed each integer in a 128-dimensional vector\n",
    "# Add 2 bidirectional LSTMs\n",
    "x = layers.Bidirectional(layers.LSTM(64, return_sequences=True))(embed)\n",
    "x = layers.Bidirectional(layers.LSTM(64))(x)\n",
    "# Add a classifier\n",
    "outputs = Dense(17, activation='softmax')(x)\n",
    "model = Model(inputs, outputs)\n",
    "model.summary()"
   ]
  },
  {
   "cell_type": "code",
   "execution_count": 18,
   "id": "serial-rough",
   "metadata": {
    "ExecuteTime": {
     "end_time": "2021-03-05T07:28:51.998563Z",
     "start_time": "2021-03-05T07:26:15.366416Z"
    },
    "scrolled": true
   },
   "outputs": [
    {
     "name": "stdout",
     "output_type": "stream",
     "text": [
      "Epoch 1/50\n",
      "45/45 [==============================] - 4s 82ms/step - loss: 0.2742 - accuracy: 0.1030 - val_loss: 0.2703 - val_accuracy: 0.0800\n",
      "Epoch 2/50\n",
      "45/45 [==============================] - 3s 65ms/step - loss: 0.2632 - accuracy: 0.1170 - val_loss: 0.2527 - val_accuracy: 0.1080\n",
      "Epoch 3/50\n",
      "45/45 [==============================] - 3s 65ms/step - loss: 0.2516 - accuracy: 0.1198 - val_loss: 0.2482 - val_accuracy: 0.0870\n",
      "Epoch 4/50\n",
      "45/45 [==============================] - 3s 66ms/step - loss: 0.2423 - accuracy: 0.1240 - val_loss: 0.2387 - val_accuracy: 0.0970\n",
      "Epoch 5/50\n",
      "45/45 [==============================] - 3s 65ms/step - loss: 0.2313 - accuracy: 0.1599 - val_loss: 0.2260 - val_accuracy: 0.1580\n",
      "Epoch 6/50\n",
      "45/45 [==============================] - 3s 65ms/step - loss: 0.2240 - accuracy: 0.1904 - val_loss: 0.2251 - val_accuracy: 0.1990\n",
      "Epoch 7/50\n",
      "45/45 [==============================] - 3s 66ms/step - loss: 0.2196 - accuracy: 0.2000 - val_loss: 0.2247 - val_accuracy: 0.1320\n",
      "Epoch 8/50\n",
      "45/45 [==============================] - 3s 67ms/step - loss: 0.2192 - accuracy: 0.2054 - val_loss: 0.2159 - val_accuracy: 0.1930\n",
      "Epoch 9/50\n",
      "45/45 [==============================] - 3s 68ms/step - loss: 0.2177 - accuracy: 0.2179 - val_loss: 0.2194 - val_accuracy: 0.2050\n",
      "Epoch 10/50\n",
      "45/45 [==============================] - 3s 65ms/step - loss: 0.2137 - accuracy: 0.2321 - val_loss: 0.2154 - val_accuracy: 0.1800\n",
      "Epoch 11/50\n",
      "45/45 [==============================] - 3s 65ms/step - loss: 0.2145 - accuracy: 0.2212 - val_loss: 0.2135 - val_accuracy: 0.1790\n",
      "Epoch 12/50\n",
      "45/45 [==============================] - 3s 65ms/step - loss: 0.2082 - accuracy: 0.2463 - val_loss: 0.2087 - val_accuracy: 0.2210\n",
      "Epoch 13/50\n",
      "45/45 [==============================] - 3s 66ms/step - loss: 0.2025 - accuracy: 0.2573 - val_loss: 0.2072 - val_accuracy: 0.2420\n",
      "Epoch 14/50\n",
      "45/45 [==============================] - 3s 66ms/step - loss: 0.1985 - accuracy: 0.2790 - val_loss: 0.2012 - val_accuracy: 0.2760\n",
      "Epoch 15/50\n",
      "45/45 [==============================] - 3s 67ms/step - loss: 0.1965 - accuracy: 0.2870 - val_loss: 0.1998 - val_accuracy: 0.2860\n",
      "Epoch 16/50\n",
      "45/45 [==============================] - 3s 66ms/step - loss: 0.1926 - accuracy: 0.2930 - val_loss: 0.1972 - val_accuracy: 0.2800\n",
      "Epoch 17/50\n",
      "45/45 [==============================] - 3s 65ms/step - loss: 0.1897 - accuracy: 0.3048 - val_loss: 0.1956 - val_accuracy: 0.3040\n",
      "Epoch 18/50\n",
      "45/45 [==============================] - 3s 66ms/step - loss: 0.1859 - accuracy: 0.3247 - val_loss: 0.1939 - val_accuracy: 0.2450\n",
      "Epoch 19/50\n",
      "45/45 [==============================] - 3s 67ms/step - loss: 0.1849 - accuracy: 0.3390 - val_loss: 0.1887 - val_accuracy: 0.2910\n",
      "Epoch 20/50\n",
      "45/45 [==============================] - 3s 67ms/step - loss: 0.1825 - accuracy: 0.3416 - val_loss: 0.1932 - val_accuracy: 0.2980\n",
      "Epoch 21/50\n",
      "45/45 [==============================] - 3s 67ms/step - loss: 0.1788 - accuracy: 0.3670 - val_loss: 0.1889 - val_accuracy: 0.3250\n",
      "Epoch 22/50\n",
      "45/45 [==============================] - 3s 66ms/step - loss: 0.1748 - accuracy: 0.3746 - val_loss: 0.1829 - val_accuracy: 0.3490\n",
      "Epoch 23/50\n",
      "45/45 [==============================] - 3s 65ms/step - loss: 0.1697 - accuracy: 0.3986 - val_loss: 0.1761 - val_accuracy: 0.3470\n",
      "Epoch 24/50\n",
      "45/45 [==============================] - 3s 68ms/step - loss: 0.1690 - accuracy: 0.3970 - val_loss: 0.1780 - val_accuracy: 0.3450\n",
      "Epoch 25/50\n",
      "45/45 [==============================] - 3s 69ms/step - loss: 0.1636 - accuracy: 0.4209 - val_loss: 0.1760 - val_accuracy: 0.3570\n",
      "Epoch 26/50\n",
      "45/45 [==============================] - 3s 68ms/step - loss: 0.1648 - accuracy: 0.4123 - val_loss: 0.1703 - val_accuracy: 0.3770\n",
      "Epoch 27/50\n",
      "45/45 [==============================] - 3s 64ms/step - loss: 0.1611 - accuracy: 0.4219 - val_loss: 0.1706 - val_accuracy: 0.3660\n",
      "Epoch 28/50\n",
      "45/45 [==============================] - 3s 66ms/step - loss: 0.1585 - accuracy: 0.4341 - val_loss: 0.1667 - val_accuracy: 0.3800\n",
      "Epoch 29/50\n",
      "45/45 [==============================] - 3s 68ms/step - loss: 0.1565 - accuracy: 0.4291 - val_loss: 0.1665 - val_accuracy: 0.3830\n",
      "Epoch 30/50\n",
      "45/45 [==============================] - 3s 68ms/step - loss: 0.1526 - accuracy: 0.4468 - val_loss: 0.1638 - val_accuracy: 0.3900\n",
      "Epoch 31/50\n",
      "45/45 [==============================] - 3s 66ms/step - loss: 0.1502 - accuracy: 0.4514 - val_loss: 0.1659 - val_accuracy: 0.4060\n",
      "Epoch 32/50\n",
      "45/45 [==============================] - 3s 67ms/step - loss: 0.1568 - accuracy: 0.4413 - val_loss: 0.1630 - val_accuracy: 0.3990\n",
      "Epoch 33/50\n",
      "45/45 [==============================] - 3s 69ms/step - loss: 0.1457 - accuracy: 0.4667 - val_loss: 0.1559 - val_accuracy: 0.4310\n",
      "Epoch 34/50\n",
      "45/45 [==============================] - 3s 68ms/step - loss: 0.1559 - accuracy: 0.4463 - val_loss: 0.1640 - val_accuracy: 0.4280\n",
      "Epoch 35/50\n",
      "45/45 [==============================] - 3s 66ms/step - loss: 0.1480 - accuracy: 0.4557 - val_loss: 0.1609 - val_accuracy: 0.4040\n",
      "Epoch 36/50\n",
      "45/45 [==============================] - 3s 66ms/step - loss: 0.1411 - accuracy: 0.4651 - val_loss: 0.1539 - val_accuracy: 0.4400\n",
      "Epoch 37/50\n",
      "45/45 [==============================] - 3s 68ms/step - loss: 0.1414 - accuracy: 0.4722 - val_loss: 0.1564 - val_accuracy: 0.4330\n",
      "Epoch 38/50\n",
      "45/45 [==============================] - 3s 68ms/step - loss: 0.1624 - accuracy: 0.4186 - val_loss: 0.1611 - val_accuracy: 0.4040\n",
      "Epoch 39/50\n",
      "45/45 [==============================] - 3s 66ms/step - loss: 0.1449 - accuracy: 0.4558 - val_loss: 0.1550 - val_accuracy: 0.4210\n",
      "Epoch 40/50\n",
      "45/45 [==============================] - 3s 65ms/step - loss: 0.1378 - accuracy: 0.4790 - val_loss: 0.1502 - val_accuracy: 0.4270\n",
      "Epoch 41/50\n",
      "45/45 [==============================] - 3s 66ms/step - loss: 0.1341 - accuracy: 0.4880 - val_loss: 0.1454 - val_accuracy: 0.4730\n",
      "Epoch 42/50\n",
      "45/45 [==============================] - 3s 65ms/step - loss: 0.1309 - accuracy: 0.4938 - val_loss: 0.1459 - val_accuracy: 0.4610\n",
      "Epoch 43/50\n",
      "45/45 [==============================] - 3s 65ms/step - loss: 0.1371 - accuracy: 0.4913 - val_loss: 0.1714 - val_accuracy: 0.4210\n",
      "Epoch 44/50\n",
      "45/45 [==============================] - 3s 65ms/step - loss: 0.1447 - accuracy: 0.4601 - val_loss: 0.1489 - val_accuracy: 0.4340\n",
      "Epoch 45/50\n",
      "45/45 [==============================] - 3s 66ms/step - loss: 0.1351 - accuracy: 0.4803 - val_loss: 0.1553 - val_accuracy: 0.4110\n",
      "Epoch 46/50\n",
      "45/45 [==============================] - 3s 66ms/step - loss: 0.1380 - accuracy: 0.4707 - val_loss: 0.1438 - val_accuracy: 0.4630\n",
      "Epoch 47/50\n",
      "45/45 [==============================] - 3s 65ms/step - loss: 0.1294 - accuracy: 0.4922 - val_loss: 0.1444 - val_accuracy: 0.4520\n",
      "Epoch 48/50\n",
      "45/45 [==============================] - 3s 66ms/step - loss: 0.1268 - accuracy: 0.4927 - val_loss: 0.1428 - val_accuracy: 0.4370\n",
      "Epoch 49/50\n",
      "45/45 [==============================] - 3s 67ms/step - loss: 0.1273 - accuracy: 0.4912 - val_loss: 0.1424 - val_accuracy: 0.4570\n",
      "Epoch 50/50\n",
      "45/45 [==============================] - 3s 66ms/step - loss: 0.1241 - accuracy: 0.4967 - val_loss: 0.1370 - val_accuracy: 0.4640\n"
     ]
    },
    {
     "data": {
      "text/plain": [
       "<tensorflow.python.keras.callbacks.History at 0x7f0a0869e0b8>"
      ]
     },
     "execution_count": 18,
     "metadata": {},
     "output_type": "execute_result"
    }
   ],
   "source": [
    "model.compile(loss='binary_crossentropy', optimizer='adam', metrics=['accuracy'])\n",
    "model.fit(train_data_padded_seqs, label, epochs=50, batch_size=200,validation_split=0.1)"
   ]
  },
  {
   "cell_type": "markdown",
   "id": "quick-trunk",
   "metadata": {},
   "source": [
    "## Transformer"
   ]
  },
  {
   "cell_type": "code",
   "execution_count": 19,
   "id": "subsequent-significance",
   "metadata": {
    "ExecuteTime": {
     "end_time": "2021-03-05T07:32:22.992579Z",
     "start_time": "2021-03-05T07:32:22.979926Z"
    }
   },
   "outputs": [],
   "source": [
    "class TransformerBlock(layers.Layer):\n",
    "    def __init__(self, embed_dim, num_heads, ff_dim, rate=0.1):\n",
    "        super(TransformerBlock, self).__init__()\n",
    "        self.att = layers.MultiHeadAttention(num_heads=num_heads, key_dim=embed_dim)\n",
    "        self.ffn = keras.Sequential(\n",
    "            [layers.Dense(ff_dim, activation=\"relu\"), layers.Dense(embed_dim),]\n",
    "        )\n",
    "        self.layernorm1 = layers.LayerNormalization(epsilon=1e-6)\n",
    "        self.layernorm2 = layers.LayerNormalization(epsilon=1e-6)\n",
    "        self.dropout1 = layers.Dropout(rate)\n",
    "        self.dropout2 = layers.Dropout(rate)\n",
    "\n",
    "    def call(self, inputs, training):\n",
    "        attn_output = self.att(inputs, inputs)\n",
    "        attn_output = self.dropout1(attn_output, training=training)\n",
    "        out1 = self.layernorm1(inputs + attn_output)\n",
    "        ffn_output = self.ffn(out1)\n",
    "        ffn_output = self.dropout2(ffn_output, training=training)\n",
    "        return self.layernorm2(out1 + ffn_output)"
   ]
  },
  {
   "cell_type": "code",
   "execution_count": 20,
   "id": "accredited-williams",
   "metadata": {
    "ExecuteTime": {
     "end_time": "2021-03-05T07:32:47.117623Z",
     "start_time": "2021-03-05T07:32:47.108600Z"
    }
   },
   "outputs": [],
   "source": [
    "class TokenAndPositionEmbedding(layers.Layer):\n",
    "    def __init__(self, maxlen, vocab_size, embed_dim):\n",
    "        super(TokenAndPositionEmbedding, self).__init__()\n",
    "        self.token_emb = layers.Embedding(input_dim=vocab_size, output_dim=embed_dim)\n",
    "        self.pos_emb = layers.Embedding(input_dim=maxlen, output_dim=embed_dim)\n",
    "\n",
    "    def call(self, x):\n",
    "        maxlen = tf.shape(x)[-1]\n",
    "        positions = tf.range(start=0, limit=maxlen, delta=1)\n",
    "        positions = self.pos_emb(positions)\n",
    "        x = self.token_emb(x)\n",
    "        return x + positions"
   ]
  },
  {
   "cell_type": "code",
   "execution_count": null,
   "id": "emerging-height",
   "metadata": {},
   "outputs": [],
   "source": [
    "embedder = Embedding(len(vocab) + 1, 300, input_length=100, trainable=False)\n"
   ]
  },
  {
   "cell_type": "code",
   "execution_count": 21,
   "id": "stylish-result",
   "metadata": {
    "ExecuteTime": {
     "end_time": "2021-03-05T07:35:57.890388Z",
     "start_time": "2021-03-05T07:35:57.787624Z"
    }
   },
   "outputs": [
    {
     "ename": "AttributeError",
     "evalue": "module 'keras.layers' has no attribute 'MultiHeadAttention'",
     "output_type": "error",
     "traceback": [
      "\u001b[0;31m---------------------------------------------------------------------------\u001b[0m",
      "\u001b[0;31mAttributeError\u001b[0m                            Traceback (most recent call last)",
      "\u001b[0;32m<ipython-input-21-871d0fa193df>\u001b[0m in \u001b[0;36m<module>\u001b[0;34m\u001b[0m\n\u001b[1;32m      8\u001b[0m \u001b[0membedding_layer\u001b[0m \u001b[0;34m=\u001b[0m \u001b[0mTokenAndPositionEmbedding\u001b[0m\u001b[0;34m(\u001b[0m\u001b[0mmaxlen\u001b[0m\u001b[0;34m,\u001b[0m \u001b[0mvocab_size\u001b[0m\u001b[0;34m,\u001b[0m \u001b[0membed_dim\u001b[0m\u001b[0;34m)\u001b[0m\u001b[0;34m\u001b[0m\u001b[0;34m\u001b[0m\u001b[0m\n\u001b[1;32m      9\u001b[0m \u001b[0mx\u001b[0m \u001b[0;34m=\u001b[0m \u001b[0membedding_layer\u001b[0m\u001b[0;34m(\u001b[0m\u001b[0minputs\u001b[0m\u001b[0;34m)\u001b[0m\u001b[0;34m\u001b[0m\u001b[0;34m\u001b[0m\u001b[0m\n\u001b[0;32m---> 10\u001b[0;31m \u001b[0mtransformer_block\u001b[0m \u001b[0;34m=\u001b[0m \u001b[0mTransformerBlock\u001b[0m\u001b[0;34m(\u001b[0m\u001b[0membed_dim\u001b[0m\u001b[0;34m,\u001b[0m \u001b[0mnum_heads\u001b[0m\u001b[0;34m,\u001b[0m \u001b[0mff_dim\u001b[0m\u001b[0;34m)\u001b[0m\u001b[0;34m\u001b[0m\u001b[0;34m\u001b[0m\u001b[0m\n\u001b[0m\u001b[1;32m     11\u001b[0m \u001b[0mx\u001b[0m \u001b[0;34m=\u001b[0m \u001b[0mtransformer_block\u001b[0m\u001b[0;34m(\u001b[0m\u001b[0mx\u001b[0m\u001b[0;34m)\u001b[0m\u001b[0;34m\u001b[0m\u001b[0;34m\u001b[0m\u001b[0m\n\u001b[1;32m     12\u001b[0m \u001b[0mx\u001b[0m \u001b[0;34m=\u001b[0m \u001b[0mlayers\u001b[0m\u001b[0;34m.\u001b[0m\u001b[0mGlobalAveragePooling1D\u001b[0m\u001b[0;34m(\u001b[0m\u001b[0;34m)\u001b[0m\u001b[0;34m(\u001b[0m\u001b[0mx\u001b[0m\u001b[0;34m)\u001b[0m\u001b[0;34m\u001b[0m\u001b[0;34m\u001b[0m\u001b[0m\n",
      "\u001b[0;32m<ipython-input-19-146109541dcb>\u001b[0m in \u001b[0;36m__init__\u001b[0;34m(self, embed_dim, num_heads, ff_dim, rate)\u001b[0m\n\u001b[1;32m      2\u001b[0m     \u001b[0;32mdef\u001b[0m \u001b[0m__init__\u001b[0m\u001b[0;34m(\u001b[0m\u001b[0mself\u001b[0m\u001b[0;34m,\u001b[0m \u001b[0membed_dim\u001b[0m\u001b[0;34m,\u001b[0m \u001b[0mnum_heads\u001b[0m\u001b[0;34m,\u001b[0m \u001b[0mff_dim\u001b[0m\u001b[0;34m,\u001b[0m \u001b[0mrate\u001b[0m\u001b[0;34m=\u001b[0m\u001b[0;36m0.1\u001b[0m\u001b[0;34m)\u001b[0m\u001b[0;34m:\u001b[0m\u001b[0;34m\u001b[0m\u001b[0;34m\u001b[0m\u001b[0m\n\u001b[1;32m      3\u001b[0m         \u001b[0msuper\u001b[0m\u001b[0;34m(\u001b[0m\u001b[0mTransformerBlock\u001b[0m\u001b[0;34m,\u001b[0m \u001b[0mself\u001b[0m\u001b[0;34m)\u001b[0m\u001b[0;34m.\u001b[0m\u001b[0m__init__\u001b[0m\u001b[0;34m(\u001b[0m\u001b[0;34m)\u001b[0m\u001b[0;34m\u001b[0m\u001b[0;34m\u001b[0m\u001b[0m\n\u001b[0;32m----> 4\u001b[0;31m         \u001b[0mself\u001b[0m\u001b[0;34m.\u001b[0m\u001b[0matt\u001b[0m \u001b[0;34m=\u001b[0m \u001b[0mlayers\u001b[0m\u001b[0;34m.\u001b[0m\u001b[0mMultiHeadAttention\u001b[0m\u001b[0;34m(\u001b[0m\u001b[0mnum_heads\u001b[0m\u001b[0;34m=\u001b[0m\u001b[0mnum_heads\u001b[0m\u001b[0;34m,\u001b[0m \u001b[0mkey_dim\u001b[0m\u001b[0;34m=\u001b[0m\u001b[0membed_dim\u001b[0m\u001b[0;34m)\u001b[0m\u001b[0;34m\u001b[0m\u001b[0;34m\u001b[0m\u001b[0m\n\u001b[0m\u001b[1;32m      5\u001b[0m         self.ffn = keras.Sequential(\n\u001b[1;32m      6\u001b[0m             \u001b[0;34m[\u001b[0m\u001b[0mlayers\u001b[0m\u001b[0;34m.\u001b[0m\u001b[0mDense\u001b[0m\u001b[0;34m(\u001b[0m\u001b[0mff_dim\u001b[0m\u001b[0;34m,\u001b[0m \u001b[0mactivation\u001b[0m\u001b[0;34m=\u001b[0m\u001b[0;34m\"relu\"\u001b[0m\u001b[0;34m)\u001b[0m\u001b[0;34m,\u001b[0m \u001b[0mlayers\u001b[0m\u001b[0;34m.\u001b[0m\u001b[0mDense\u001b[0m\u001b[0;34m(\u001b[0m\u001b[0membed_dim\u001b[0m\u001b[0;34m)\u001b[0m\u001b[0;34m,\u001b[0m\u001b[0;34m]\u001b[0m\u001b[0;34m\u001b[0m\u001b[0;34m\u001b[0m\u001b[0m\n",
      "\u001b[0;31mAttributeError\u001b[0m: module 'keras.layers' has no attribute 'MultiHeadAttention'"
     ]
    }
   ],
   "source": [
    "embed_dim = 300  # Embedding size for each token\n",
    "num_heads = 2  # Number of attention heads\n",
    "ff_dim = 300  # Hidden layer size in feed forward network inside transformer\n",
    "maxlen=100\n",
    "vocab_size = len(vocab) + 1\n",
    "\n",
    "inputs = layers.Input(shape=(maxlen,))\n",
    "embedding_layer = TokenAndPositionEmbedding(maxlen, vocab_size, embed_dim)\n",
    "x = embedding_layer(inputs)\n",
    "transformer_block = TransformerBlock(embed_dim, num_heads, ff_dim)\n",
    "x = transformer_block(x)\n",
    "x = layers.GlobalAveragePooling1D()(x)\n",
    "x = layers.Dropout(0.1)(x)\n",
    "x = layers.Dense(20, activation=\"relu\")(x)\n",
    "x = layers.Dropout(0.1)(x)\n",
    "outputs = layers.Dense(17, activation=\"softmax\")(x)\n",
    "\n",
    "model = keras.Model(inputs=inputs, outputs=outputs)"
   ]
  },
  {
   "cell_type": "code",
   "execution_count": null,
   "id": "imported-absorption",
   "metadata": {},
   "outputs": [],
   "source": []
  },
  {
   "cell_type": "code",
   "execution_count": null,
   "id": "buried-bryan",
   "metadata": {},
   "outputs": [],
   "source": []
  },
  {
   "cell_type": "markdown",
   "id": "restricted-number",
   "metadata": {},
   "source": [
    "## Prediction"
   ]
  },
  {
   "cell_type": "code",
   "execution_count": 194,
   "id": "distant-savage",
   "metadata": {
    "ExecuteTime": {
     "end_time": "2021-03-05T06:37:38.365608Z",
     "start_time": "2021-03-05T06:37:37.765541Z"
    }
   },
   "outputs": [],
   "source": [
    "test_pre = model.predict(test_data_padded_seqs)"
   ]
  },
  {
   "cell_type": "code",
   "execution_count": 209,
   "id": "fitting-trademark",
   "metadata": {
    "ExecuteTime": {
     "end_time": "2021-03-05T06:46:12.866225Z",
     "start_time": "2021-03-05T06:46:12.827211Z"
    }
   },
   "outputs": [],
   "source": [
    "result = ['|%s'%' '.join(['%.16f'%i for i in pre]) for pre in test_pre]"
   ]
  },
  {
   "cell_type": "code",
   "execution_count": 210,
   "id": "painful-charter",
   "metadata": {
    "ExecuteTime": {
     "end_time": "2021-03-05T06:46:14.478654Z",
     "start_time": "2021-03-05T06:46:14.474542Z"
    }
   },
   "outputs": [
    {
     "data": {
      "text/plain": [
       "'|0.0026591273490340 0.0033524620812386 0.0011169621720910 0.0001841006014729 0.0001974138431251 0.0000606569228694 0.0001457884209231 0.0008011281606741 0.0000141518821692 0.0007482352084480 0.0000825503811939 0.0000962369231274 0.0000298136310448 0.0000104138371171 0.4743624925613403 0.0229320097714663 0.4932065010070801'"
      ]
     },
     "execution_count": 210,
     "metadata": {},
     "output_type": "execute_result"
    }
   ],
   "source": [
    "result[0]"
   ]
  },
  {
   "cell_type": "code",
   "execution_count": 213,
   "id": "recent-screw",
   "metadata": {
    "ExecuteTime": {
     "end_time": "2021-03-05T06:47:10.626666Z",
     "start_time": "2021-03-05T06:47:10.599697Z"
    }
   },
   "outputs": [
    {
     "data": {
      "text/html": [
       "<div>\n",
       "<style scoped>\n",
       "    .dataframe tbody tr th:only-of-type {\n",
       "        vertical-align: middle;\n",
       "    }\n",
       "\n",
       "    .dataframe tbody tr th {\n",
       "        vertical-align: top;\n",
       "    }\n",
       "\n",
       "    .dataframe thead th {\n",
       "        text-align: right;\n",
       "    }\n",
       "</style>\n",
       "<table border=\"1\" class=\"dataframe\">\n",
       "  <thead>\n",
       "    <tr style=\"text-align: right;\">\n",
       "      <th></th>\n",
       "      <th>report_id</th>\n",
       "      <th>description</th>\n",
       "      <th>words</th>\n",
       "      <th>Prediction</th>\n",
       "      <th>report_ID</th>\n",
       "    </tr>\n",
       "  </thead>\n",
       "  <tbody>\n",
       "    <tr>\n",
       "      <th>0</th>\n",
       "      <td>0</td>\n",
       "      <td>852 328 697 538 142 355 582 800 728 4 647 169 ...</td>\n",
       "      <td>[852, 328, 697, 538, 142, 355, 582, 800, 728, ...</td>\n",
       "      <td>|0.0026591273490340 0.0033524620812386 0.00111...</td>\n",
       "      <td>0|</td>\n",
       "    </tr>\n",
       "    <tr>\n",
       "      <th>1</th>\n",
       "      <td>1</td>\n",
       "      <td>380 358 343 654 171 832 47 832 690 693 48 563 ...</td>\n",
       "      <td>[380, 358, 343, 654, 171, 832, 47, 832, 690, 6...</td>\n",
       "      <td>|0.0569489412009716 0.0414477922022343 0.04517...</td>\n",
       "      <td>1|</td>\n",
       "    </tr>\n",
       "    <tr>\n",
       "      <th>2</th>\n",
       "      <td>2</td>\n",
       "      <td>751 335 834 582 717 583 585 693 623 328 107 38...</td>\n",
       "      <td>[751, 335, 834, 582, 717, 583, 585, 693, 623, ...</td>\n",
       "      <td>|0.0179503764957190 0.0121990703046322 0.00019...</td>\n",
       "      <td>2|</td>\n",
       "    </tr>\n",
       "    <tr>\n",
       "      <th>3</th>\n",
       "      <td>3</td>\n",
       "      <td>623 328 649 582 488 12 578 623 538 382 382 265...</td>\n",
       "      <td>[623, 328, 649, 582, 488, 12, 578, 623, 538, 3...</td>\n",
       "      <td>|0.1098752319812775 0.0348254181444645 0.02064...</td>\n",
       "      <td>3|</td>\n",
       "    </tr>\n",
       "    <tr>\n",
       "      <th>4</th>\n",
       "      <td>4</td>\n",
       "      <td>83 293 398 797 382 363 145 424 693 698 800 691...</td>\n",
       "      <td>[83, 293, 398, 797, 382, 363, 145, 424, 693, 6...</td>\n",
       "      <td>|0.0051004556007683 0.0197584703564644 0.02819...</td>\n",
       "      <td>4|</td>\n",
       "    </tr>\n",
       "  </tbody>\n",
       "</table>\n",
       "</div>"
      ],
      "text/plain": [
       "  report_id                                        description  \\\n",
       "0         0  852 328 697 538 142 355 582 800 728 4 647 169 ...   \n",
       "1         1  380 358 343 654 171 832 47 832 690 693 48 563 ...   \n",
       "2         2  751 335 834 582 717 583 585 693 623 328 107 38...   \n",
       "3         3  623 328 649 582 488 12 578 623 538 382 382 265...   \n",
       "4         4  83 293 398 797 382 363 145 424 693 698 800 691...   \n",
       "\n",
       "                                               words  \\\n",
       "0  [852, 328, 697, 538, 142, 355, 582, 800, 728, ...   \n",
       "1  [380, 358, 343, 654, 171, 832, 47, 832, 690, 6...   \n",
       "2  [751, 335, 834, 582, 717, 583, 585, 693, 623, ...   \n",
       "3  [623, 328, 649, 582, 488, 12, 578, 623, 538, 3...   \n",
       "4  [83, 293, 398, 797, 382, 363, 145, 424, 693, 6...   \n",
       "\n",
       "                                          Prediction report_ID  \n",
       "0  |0.0026591273490340 0.0033524620812386 0.00111...        0|  \n",
       "1  |0.0569489412009716 0.0414477922022343 0.04517...        1|  \n",
       "2  |0.0179503764957190 0.0121990703046322 0.00019...        2|  \n",
       "3  |0.1098752319812775 0.0348254181444645 0.02064...        3|  \n",
       "4  |0.0051004556007683 0.0197584703564644 0.02819...        4|  "
      ]
     },
     "execution_count": 213,
     "metadata": {},
     "output_type": "execute_result"
    }
   ],
   "source": [
    "test_dataset['report_ID'] = test_dataset['report_id'].apply(lambda x:'%s|'%x)\n",
    "test_dataset['Prediction'] =result\n",
    "test_dataset.head()"
   ]
  },
  {
   "cell_type": "code",
   "execution_count": 214,
   "id": "transparent-balloon",
   "metadata": {
    "ExecuteTime": {
     "end_time": "2021-03-05T06:47:18.025479Z",
     "start_time": "2021-03-05T06:47:17.988098Z"
    }
   },
   "outputs": [],
   "source": [
    "test_dataset[['report_ID','Prediction']].to_csv('submit.csv',index = False,header=None)"
   ]
  },
  {
   "cell_type": "code",
   "execution_count": null,
   "id": "sacred-supply",
   "metadata": {},
   "outputs": [],
   "source": []
  }
 ],
 "metadata": {
  "kernelspec": {
   "display_name": "Python 3",
   "language": "python",
   "name": "python3"
  },
  "language_info": {
   "codemirror_mode": {
    "name": "ipython",
    "version": 3
   },
   "file_extension": ".py",
   "mimetype": "text/x-python",
   "name": "python",
   "nbconvert_exporter": "python",
   "pygments_lexer": "ipython3",
   "version": "3.6.9"
  },
  "toc": {
   "base_numbering": 1,
   "nav_menu": {},
   "number_sections": true,
   "sideBar": true,
   "skip_h1_title": false,
   "title_cell": "Table of Contents",
   "title_sidebar": "Contents",
   "toc_cell": false,
   "toc_position": {},
   "toc_section_display": true,
   "toc_window_display": true
  },
  "varInspector": {
   "cols": {
    "lenName": 16,
    "lenType": 16,
    "lenVar": 40
   },
   "kernels_config": {
    "python": {
     "delete_cmd_postfix": "",
     "delete_cmd_prefix": "del ",
     "library": "var_list.py",
     "varRefreshCmd": "print(var_dic_list())"
    },
    "r": {
     "delete_cmd_postfix": ") ",
     "delete_cmd_prefix": "rm(",
     "library": "var_list.r",
     "varRefreshCmd": "cat(var_dic_list()) "
    }
   },
   "types_to_exclude": [
    "module",
    "function",
    "builtin_function_or_method",
    "instance",
    "_Feature"
   ],
   "window_display": false
  }
 },
 "nbformat": 4,
 "nbformat_minor": 5
}

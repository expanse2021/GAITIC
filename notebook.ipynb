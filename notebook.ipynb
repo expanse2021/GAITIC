{
 "cells": [
  {
   "cell_type": "code",
   "execution_count": 3,
   "id": "weighted-ballet",
   "metadata": {
    "ExecuteTime": {
     "end_time": "2021-03-05T02:29:17.698894Z",
     "start_time": "2021-03-05T02:29:17.552151Z"
    }
   },
   "outputs": [],
   "source": [
    "from tqdm import tqdm\n",
    "import numpy as np\n",
    "import seaborn as sns\n",
    "import pandas as pd\n",
    "import matplotlib.pyplot as plt\n",
    "\n",
    "\n",
    "def set_style():\n",
    "    sns.set_style('white')\n",
    "    plt.rcParams['font.sans-serif'] = ['SimHei']\n",
    "    plt.rcParams['axes.unicode_minus'] = False\n",
    "    plt.rcParams['figure.figsize'] = [10, 10]\n",
    "\n",
    "    pd.options.display.max_columns = 300\n",
    "    pd.options.display.max_rows = 1000\n",
    "    # plt.rcParams['figure.dpi'] = 200\n",
    "    sns.set_palette('muted')  # 调色板颜色温和\n",
    "    sns.set_context(\"notebook\", font_scale=1.2, rc={\"lines.linewidth\": 1})\n",
    "\n",
    "set_style()\n",
    "import sys"
   ]
  },
  {
   "cell_type": "code",
   "execution_count": 57,
   "id": "distributed-superior",
   "metadata": {
    "ExecuteTime": {
     "end_time": "2021-03-05T03:06:30.491204Z",
     "start_time": "2021-03-05T03:06:30.482981Z"
    }
   },
   "outputs": [],
   "source": [
    "from sklearn import metrics\n",
    "from sklearn.preprocessing import LabelEncoder,OneHotEncoder\n",
    "\n",
    "import tensorflow as tf\n",
    "physical_devices = tf.config.list_physical_devices('GPU')\n",
    "tf.config.experimental.set_memory_growth(physical_devices[0], True)\n",
    "\n",
    "from keras.models import Model\n",
    "from keras.layers import LSTM, Activation, Dense, Dropout, Input, Embedding\n",
    "from keras.optimizers import RMSprop\n",
    "from keras.preprocessing.text import Tokenizer\n",
    "from keras.preprocessing import sequence\n",
    "from keras.callbacks import EarlyStopping\n",
    "from keras import Sequential"
   ]
  },
  {
   "cell_type": "code",
   "execution_count": null,
   "id": "linear-grammar",
   "metadata": {
    "ExecuteTime": {
     "end_time": "2021-03-05T03:18:09.406271Z",
     "start_time": "2021-03-05T03:18:09.404247Z"
    }
   },
   "outputs": [],
   "source": [
    "from sklearn.preprocessing import MultiLabelBinarizer\n",
    "from sklearn.model_selection import train_test_split\n",
    "from keras.preprocessing.text import Tokenizer\n",
    "from keras.preprocessing.sequence import pad_sequences\n",
    "\n",
    "from keras.layers import Conv1D,MaxPooling1D, Flatten, BatchNormalization\n",
    "from keras.layers import concatenate"
   ]
  },
  {
   "cell_type": "code",
   "execution_count": 145,
   "id": "danish-feeling",
   "metadata": {
    "ExecuteTime": {
     "end_time": "2021-03-05T06:02:06.540769Z",
     "start_time": "2021-03-05T06:02:06.349308Z"
    }
   },
   "outputs": [
    {
     "name": "stdout",
     "output_type": "stream",
     "text": [
      "track1_round1_testA_20210222.csv  track1_round1_train_20210222.csv\r\n"
     ]
    }
   ],
   "source": [
    "!ls data"
   ]
  },
  {
   "cell_type": "code",
   "execution_count": 148,
   "id": "finnish-curtis",
   "metadata": {
    "ExecuteTime": {
     "end_time": "2021-03-05T06:05:16.249441Z",
     "start_time": "2021-03-05T06:05:16.211255Z"
    }
   },
   "outputs": [
    {
     "data": {
      "text/html": [
       "<div>\n",
       "<style scoped>\n",
       "    .dataframe tbody tr th:only-of-type {\n",
       "        vertical-align: middle;\n",
       "    }\n",
       "\n",
       "    .dataframe tbody tr th {\n",
       "        vertical-align: top;\n",
       "    }\n",
       "\n",
       "    .dataframe thead th {\n",
       "        text-align: right;\n",
       "    }\n",
       "</style>\n",
       "<table border=\"1\" class=\"dataframe\">\n",
       "  <thead>\n",
       "    <tr style=\"text-align: right;\">\n",
       "      <th></th>\n",
       "      <th>report_id</th>\n",
       "      <th>description</th>\n",
       "      <th>words</th>\n",
       "    </tr>\n",
       "  </thead>\n",
       "  <tbody>\n",
       "    <tr>\n",
       "      <th>0</th>\n",
       "      <td>0</td>\n",
       "      <td>852 328 697 538 142 355 582 800 728 4 647 169 ...</td>\n",
       "      <td>[852, 328, 697, 538, 142, 355, 582, 800, 728, ...</td>\n",
       "    </tr>\n",
       "    <tr>\n",
       "      <th>1</th>\n",
       "      <td>1</td>\n",
       "      <td>380 358 343 654 171 832 47 832 690 693 48 563 ...</td>\n",
       "      <td>[380, 358, 343, 654, 171, 832, 47, 832, 690, 6...</td>\n",
       "    </tr>\n",
       "    <tr>\n",
       "      <th>2</th>\n",
       "      <td>2</td>\n",
       "      <td>751 335 834 582 717 583 585 693 623 328 107 38...</td>\n",
       "      <td>[751, 335, 834, 582, 717, 583, 585, 693, 623, ...</td>\n",
       "    </tr>\n",
       "    <tr>\n",
       "      <th>3</th>\n",
       "      <td>3</td>\n",
       "      <td>623 328 649 582 488 12 578 623 538 382 382 265...</td>\n",
       "      <td>[623, 328, 649, 582, 488, 12, 578, 623, 538, 3...</td>\n",
       "    </tr>\n",
       "    <tr>\n",
       "      <th>4</th>\n",
       "      <td>4</td>\n",
       "      <td>83 293 398 797 382 363 145 424 693 698 800 691...</td>\n",
       "      <td>[83, 293, 398, 797, 382, 363, 145, 424, 693, 6...</td>\n",
       "    </tr>\n",
       "  </tbody>\n",
       "</table>\n",
       "</div>"
      ],
      "text/plain": [
       "  report_id                                        description  \\\n",
       "0         0  852 328 697 538 142 355 582 800 728 4 647 169 ...   \n",
       "1         1  380 358 343 654 171 832 47 832 690 693 48 563 ...   \n",
       "2         2  751 335 834 582 717 583 585 693 623 328 107 38...   \n",
       "3         3  623 328 649 582 488 12 578 623 538 382 382 265...   \n",
       "4         4  83 293 398 797 382 363 145 424 693 698 800 691...   \n",
       "\n",
       "                                               words  \n",
       "0  [852, 328, 697, 538, 142, 355, 582, 800, 728, ...  \n",
       "1  [380, 358, 343, 654, 171, 832, 47, 832, 690, 6...  \n",
       "2  [751, 335, 834, 582, 717, 583, 585, 693, 623, ...  \n",
       "3  [623, 328, 649, 582, 488, 12, 578, 623, 538, 3...  \n",
       "4  [83, 293, 398, 797, 382, 363, 145, 424, 693, 6...  "
      ]
     },
     "execution_count": 148,
     "metadata": {},
     "output_type": "execute_result"
    }
   ],
   "source": [
    "test_data = open('data/track1_round1_testA_20210222.csv').readlines()\n",
    "test_data = [data.strip().split('|,|') for data in test_data]\n",
    "test_dataset = pd.DataFrame(test_data, columns=['report_id', 'description'])\n",
    "test_dataset['words'] = test_dataset.description.apply(lambda x:x.split())\n",
    "\n",
    "test_dataset.head()"
   ]
  },
  {
   "cell_type": "code",
   "execution_count": 152,
   "id": "permanent-jordan",
   "metadata": {
    "ExecuteTime": {
     "end_time": "2021-03-05T06:08:16.332093Z",
     "start_time": "2021-03-05T06:08:16.257130Z"
    }
   },
   "outputs": [
    {
     "data": {
      "text/html": [
       "<div>\n",
       "<style scoped>\n",
       "    .dataframe tbody tr th:only-of-type {\n",
       "        vertical-align: middle;\n",
       "    }\n",
       "\n",
       "    .dataframe tbody tr th {\n",
       "        vertical-align: top;\n",
       "    }\n",
       "\n",
       "    .dataframe thead th {\n",
       "        text-align: right;\n",
       "    }\n",
       "</style>\n",
       "<table border=\"1\" class=\"dataframe\">\n",
       "  <thead>\n",
       "    <tr style=\"text-align: right;\">\n",
       "      <th></th>\n",
       "      <th>report_id</th>\n",
       "      <th>description</th>\n",
       "      <th>label</th>\n",
       "      <th>words</th>\n",
       "    </tr>\n",
       "  </thead>\n",
       "  <tbody>\n",
       "    <tr>\n",
       "      <th>0</th>\n",
       "      <td>0</td>\n",
       "      <td>623 328 538 382 399 400 478 842 698 137 492 26...</td>\n",
       "      <td>2</td>\n",
       "      <td>[623, 328, 538, 382, 399, 400, 478, 842, 698, ...</td>\n",
       "    </tr>\n",
       "    <tr>\n",
       "      <th>1</th>\n",
       "      <td>1</td>\n",
       "      <td>48 328 538 382 809 623 434 355 382 382 363 145...</td>\n",
       "      <td></td>\n",
       "      <td>[48, 328, 538, 382, 809, 623, 434, 355, 382, 3...</td>\n",
       "    </tr>\n",
       "    <tr>\n",
       "      <th>2</th>\n",
       "      <td>2</td>\n",
       "      <td>623 656 293 851 636 842 698 493 338 266 369 69...</td>\n",
       "      <td>15</td>\n",
       "      <td>[623, 656, 293, 851, 636, 842, 698, 493, 338, ...</td>\n",
       "    </tr>\n",
       "    <tr>\n",
       "      <th>3</th>\n",
       "      <td>3</td>\n",
       "      <td>48 328 380 259 439 107 380 265 172 470 290 693...</td>\n",
       "      <td></td>\n",
       "      <td>[48, 328, 380, 259, 439, 107, 380, 265, 172, 4...</td>\n",
       "    </tr>\n",
       "    <tr>\n",
       "      <th>4</th>\n",
       "      <td>4</td>\n",
       "      <td>623 328 399 698 493 338 266 14 177 415 511 647...</td>\n",
       "      <td>16</td>\n",
       "      <td>[623, 328, 399, 698, 493, 338, 266, 14, 177, 4...</td>\n",
       "    </tr>\n",
       "  </tbody>\n",
       "</table>\n",
       "</div>"
      ],
      "text/plain": [
       "  report_id                                        description label  \\\n",
       "0         0  623 328 538 382 399 400 478 842 698 137 492 26...     2   \n",
       "1         1  48 328 538 382 809 623 434 355 382 382 363 145...         \n",
       "2         2  623 656 293 851 636 842 698 493 338 266 369 69...    15   \n",
       "3         3  48 328 380 259 439 107 380 265 172 470 290 693...         \n",
       "4         4  623 328 399 698 493 338 266 14 177 415 511 647...    16   \n",
       "\n",
       "                                               words  \n",
       "0  [623, 328, 538, 382, 399, 400, 478, 842, 698, ...  \n",
       "1  [48, 328, 538, 382, 809, 623, 434, 355, 382, 3...  \n",
       "2  [623, 656, 293, 851, 636, 842, 698, 493, 338, ...  \n",
       "3  [48, 328, 380, 259, 439, 107, 380, 265, 172, 4...  \n",
       "4  [623, 328, 399, 698, 493, 338, 266, 14, 177, 4...  "
      ]
     },
     "execution_count": 152,
     "metadata": {},
     "output_type": "execute_result"
    }
   ],
   "source": [
    "train_data = open('data/track1_round1_train_20210222.csv','r').readlines()\n",
    "\n",
    "train_data = [data.strip().split('|,|')  for data in train_data]\n",
    "\n",
    "train_dataset = pd.DataFrame(train_data,columns=['report_id','description','label'])\n",
    "train_dataset['words'] = train_dataset.description.apply(lambda x:x.split())\n",
    "\n",
    "train_dataset.head()"
   ]
  },
  {
   "cell_type": "code",
   "execution_count": 153,
   "id": "bigger-activation",
   "metadata": {
    "ExecuteTime": {
     "end_time": "2021-03-05T06:08:21.517725Z",
     "start_time": "2021-03-05T06:08:21.495539Z"
    }
   },
   "outputs": [
    {
     "data": {
      "text/html": [
       "<div>\n",
       "<style scoped>\n",
       "    .dataframe tbody tr th:only-of-type {\n",
       "        vertical-align: middle;\n",
       "    }\n",
       "\n",
       "    .dataframe tbody tr th {\n",
       "        vertical-align: top;\n",
       "    }\n",
       "\n",
       "    .dataframe thead th {\n",
       "        text-align: right;\n",
       "    }\n",
       "</style>\n",
       "<table border=\"1\" class=\"dataframe\">\n",
       "  <thead>\n",
       "    <tr style=\"text-align: right;\">\n",
       "      <th></th>\n",
       "      <th>report_id</th>\n",
       "      <th>description</th>\n",
       "      <th>label</th>\n",
       "      <th>words</th>\n",
       "    </tr>\n",
       "  </thead>\n",
       "  <tbody>\n",
       "    <tr>\n",
       "      <th>0</th>\n",
       "      <td>0</td>\n",
       "      <td>623 328 538 382 399 400 478 842 698 137 492 26...</td>\n",
       "      <td>2</td>\n",
       "      <td>[623, 328, 538, 382, 399, 400, 478, 842, 698, ...</td>\n",
       "    </tr>\n",
       "    <tr>\n",
       "      <th>1</th>\n",
       "      <td>1</td>\n",
       "      <td>48 328 538 382 809 623 434 355 382 382 363 145...</td>\n",
       "      <td></td>\n",
       "      <td>[48, 328, 538, 382, 809, 623, 434, 355, 382, 3...</td>\n",
       "    </tr>\n",
       "    <tr>\n",
       "      <th>2</th>\n",
       "      <td>2</td>\n",
       "      <td>623 656 293 851 636 842 698 493 338 266 369 69...</td>\n",
       "      <td>15</td>\n",
       "      <td>[623, 656, 293, 851, 636, 842, 698, 493, 338, ...</td>\n",
       "    </tr>\n",
       "    <tr>\n",
       "      <th>3</th>\n",
       "      <td>3</td>\n",
       "      <td>48 328 380 259 439 107 380 265 172 470 290 693...</td>\n",
       "      <td></td>\n",
       "      <td>[48, 328, 380, 259, 439, 107, 380, 265, 172, 4...</td>\n",
       "    </tr>\n",
       "    <tr>\n",
       "      <th>4</th>\n",
       "      <td>4</td>\n",
       "      <td>623 328 399 698 493 338 266 14 177 415 511 647...</td>\n",
       "      <td>16</td>\n",
       "      <td>[623, 328, 399, 698, 493, 338, 266, 14, 177, 4...</td>\n",
       "    </tr>\n",
       "  </tbody>\n",
       "</table>\n",
       "</div>"
      ],
      "text/plain": [
       "  report_id                                        description label  \\\n",
       "0         0  623 328 538 382 399 400 478 842 698 137 492 26...     2   \n",
       "1         1  48 328 538 382 809 623 434 355 382 382 363 145...         \n",
       "2         2  623 656 293 851 636 842 698 493 338 266 369 69...    15   \n",
       "3         3  48 328 380 259 439 107 380 265 172 470 290 693...         \n",
       "4         4  623 328 399 698 493 338 266 14 177 415 511 647...    16   \n",
       "\n",
       "                                               words  \n",
       "0  [623, 328, 538, 382, 399, 400, 478, 842, 698, ...  \n",
       "1  [48, 328, 538, 382, 809, 623, 434, 355, 382, 3...  \n",
       "2  [623, 656, 293, 851, 636, 842, 698, 493, 338, ...  \n",
       "3  [48, 328, 380, 259, 439, 107, 380, 265, 172, 4...  \n",
       "4  [623, 328, 399, 698, 493, 338, 266, 14, 177, 4...  "
      ]
     },
     "execution_count": 153,
     "metadata": {},
     "output_type": "execute_result"
    }
   ],
   "source": [
    "dataset = train_dataset.append(test_dataset)\n",
    "dataset.head()"
   ]
  },
  {
   "cell_type": "code",
   "execution_count": 151,
   "id": "cloudy-arizona",
   "metadata": {
    "ExecuteTime": {
     "end_time": "2021-03-05T06:07:39.217545Z",
     "start_time": "2021-03-05T06:07:39.188745Z"
    }
   },
   "outputs": [
    {
     "data": {
      "text/plain": [
       "(10000, 17)"
      ]
     },
     "execution_count": 151,
     "metadata": {},
     "output_type": "execute_result"
    }
   ],
   "source": [
    "mlb = MultiLabelBinarizer()\n",
    "\n",
    "label = mlb.fit_transform(train_dataset.label.apply(lambda x:x.split()))\n",
    "\n",
    "label.shape"
   ]
  },
  {
   "cell_type": "code",
   "execution_count": 154,
   "id": "earned-disco",
   "metadata": {
    "ExecuteTime": {
     "end_time": "2021-03-05T06:08:38.476354Z",
     "start_time": "2021-03-05T06:08:38.279757Z"
    }
   },
   "outputs": [],
   "source": [
    "tokenizer=Tokenizer()  #创建一个Tokenizer对象\n",
    "#fit_on_texts函数可以将输入的文本中的每个词编号，编号是根据词频的，词频越大，编号越小\n",
    "tokenizer.fit_on_texts(dataset['words'])\n",
    "vocab=tokenizer.word_index #得到每个词的编号\n",
    "# 将每个样本中的每个词转换为数字列表，使用每个词的编号进行编号"
   ]
  },
  {
   "cell_type": "code",
   "execution_count": 169,
   "id": "latin-disposal",
   "metadata": {
    "ExecuteTime": {
     "end_time": "2021-03-05T06:13:35.231089Z",
     "start_time": "2021-03-05T06:13:35.029307Z"
    }
   },
   "outputs": [],
   "source": [
    "train_data =tokenizer.texts_to_sequences(train_dataset['words'])\n",
    "#将超过固定值的部分截掉，不足的在最前面用0填充\n",
    "train_data_padded_seqs = pad_sequences(train_data, maxlen=100, value = len(vocab))\n",
    "\n",
    "test_data =tokenizer.texts_to_sequences(test_dataset['words'])\n",
    "#将超过固定值的部分截掉，不足的在最前面用0填充\n",
    "test_data_padded_seqs = pad_sequences(test_data, maxlen=100, value = len(vocab))"
   ]
  },
  {
   "cell_type": "code",
   "execution_count": 171,
   "id": "cutting-tuner",
   "metadata": {
    "ExecuteTime": {
     "end_time": "2021-03-05T06:14:10.720907Z",
     "start_time": "2021-03-05T06:14:10.715432Z"
    }
   },
   "outputs": [
    {
     "data": {
      "text/plain": [
       "(10000, 100)"
      ]
     },
     "execution_count": 171,
     "metadata": {},
     "output_type": "execute_result"
    }
   ],
   "source": [
    "train_data_padded_seqs.shape"
   ]
  },
  {
   "cell_type": "code",
   "execution_count": 172,
   "id": "direct-gibraltar",
   "metadata": {
    "ExecuteTime": {
     "end_time": "2021-03-05T06:16:28.468362Z",
     "start_time": "2021-03-05T06:14:15.486088Z"
    },
    "scrolled": true
   },
   "outputs": [
    {
     "name": "stdout",
     "output_type": "stream",
     "text": [
      "Model: \"sequential_23\"\n",
      "_________________________________________________________________\n",
      "Layer (type)                 Output Shape              Param #   \n",
      "=================================================================\n",
      "embedding_32 (Embedding)     (None, 100, 300)          257700    \n",
      "_________________________________________________________________\n",
      "conv1d_88 (Conv1D)           (None, 100, 256)          384256    \n",
      "_________________________________________________________________\n",
      "max_pooling1d_66 (MaxPooling (None, 34, 256)           0         \n",
      "_________________________________________________________________\n",
      "conv1d_89 (Conv1D)           (None, 34, 128)           163968    \n",
      "_________________________________________________________________\n",
      "max_pooling1d_67 (MaxPooling (None, 12, 128)           0         \n",
      "_________________________________________________________________\n",
      "conv1d_90 (Conv1D)           (None, 12, 64)            24640     \n",
      "_________________________________________________________________\n",
      "flatten_27 (Flatten)         (None, 768)               0         \n",
      "_________________________________________________________________\n",
      "dropout_50 (Dropout)         (None, 768)               0         \n",
      "_________________________________________________________________\n",
      "batch_normalization_19 (Batc (None, 768)               3072      \n",
      "_________________________________________________________________\n",
      "dense_45 (Dense)             (None, 256)               196864    \n",
      "_________________________________________________________________\n",
      "dropout_51 (Dropout)         (None, 256)               0         \n",
      "_________________________________________________________________\n",
      "dense_46 (Dense)             (None, 17)                4369      \n",
      "=================================================================\n",
      "Total params: 1,034,869\n",
      "Trainable params: 1,033,333\n",
      "Non-trainable params: 1,536\n",
      "_________________________________________________________________\n",
      "Epoch 1/50\n",
      "71/71 [==============================] - 3s 38ms/step - loss: 0.2441 - accuracy: 0.1993 - val_loss: 0.2661 - val_accuracy: 0.1510\n",
      "Epoch 2/50\n",
      "71/71 [==============================] - 3s 36ms/step - loss: 0.1513 - accuracy: 0.4643 - val_loss: 0.2387 - val_accuracy: 0.3290\n",
      "Epoch 3/50\n",
      "71/71 [==============================] - 3s 36ms/step - loss: 0.1221 - accuracy: 0.5514 - val_loss: 0.2115 - val_accuracy: 0.4010\n",
      "Epoch 4/50\n",
      "71/71 [==============================] - 3s 36ms/step - loss: 0.1123 - accuracy: 0.5643 - val_loss: 0.2058 - val_accuracy: 0.4080\n",
      "Epoch 5/50\n",
      "71/71 [==============================] - 3s 36ms/step - loss: 0.1054 - accuracy: 0.5724 - val_loss: 0.1482 - val_accuracy: 0.4600\n",
      "Epoch 6/50\n",
      "71/71 [==============================] - 3s 36ms/step - loss: 0.1017 - accuracy: 0.5773 - val_loss: 0.1447 - val_accuracy: 0.4780\n",
      "Epoch 7/50\n",
      "71/71 [==============================] - 3s 36ms/step - loss: 0.0985 - accuracy: 0.5781 - val_loss: 0.1367 - val_accuracy: 0.4310\n",
      "Epoch 8/50\n",
      "71/71 [==============================] - 3s 36ms/step - loss: 0.0968 - accuracy: 0.5800 - val_loss: 0.1313 - val_accuracy: 0.5000\n",
      "Epoch 9/50\n",
      "71/71 [==============================] - 3s 36ms/step - loss: 0.0946 - accuracy: 0.5802 - val_loss: 0.1298 - val_accuracy: 0.4590\n",
      "Epoch 10/50\n",
      "71/71 [==============================] - 3s 36ms/step - loss: 0.0932 - accuracy: 0.5792 - val_loss: 0.1302 - val_accuracy: 0.5030\n",
      "Epoch 11/50\n",
      "71/71 [==============================] - 3s 36ms/step - loss: 0.0914 - accuracy: 0.5812 - val_loss: 0.1250 - val_accuracy: 0.4690\n",
      "Epoch 12/50\n",
      "71/71 [==============================] - 3s 36ms/step - loss: 0.0904 - accuracy: 0.5793 - val_loss: 0.1232 - val_accuracy: 0.4610\n",
      "Epoch 13/50\n",
      "71/71 [==============================] - 3s 36ms/step - loss: 0.0897 - accuracy: 0.5828 - val_loss: 0.1539 - val_accuracy: 0.4120\n",
      "Epoch 14/50\n",
      "71/71 [==============================] - 3s 36ms/step - loss: 0.0889 - accuracy: 0.5821 - val_loss: 0.1310 - val_accuracy: 0.5130\n",
      "Epoch 15/50\n",
      "71/71 [==============================] - 3s 36ms/step - loss: 0.0886 - accuracy: 0.5844 - val_loss: 0.1279 - val_accuracy: 0.4790\n",
      "Epoch 16/50\n",
      "71/71 [==============================] - 3s 36ms/step - loss: 0.0878 - accuracy: 0.5879 - val_loss: 0.1237 - val_accuracy: 0.4630\n",
      "Epoch 17/50\n",
      "71/71 [==============================] - 3s 36ms/step - loss: 0.0877 - accuracy: 0.5820 - val_loss: 0.1298 - val_accuracy: 0.4790\n",
      "Epoch 18/50\n",
      "71/71 [==============================] - 3s 36ms/step - loss: 0.0872 - accuracy: 0.5810 - val_loss: 0.1209 - val_accuracy: 0.5130\n",
      "Epoch 19/50\n",
      "71/71 [==============================] - 3s 36ms/step - loss: 0.0868 - accuracy: 0.5896 - val_loss: 0.1251 - val_accuracy: 0.4940\n",
      "Epoch 20/50\n",
      "71/71 [==============================] - 3s 36ms/step - loss: 0.0867 - accuracy: 0.5846 - val_loss: 0.1206 - val_accuracy: 0.5070\n",
      "Epoch 21/50\n",
      "71/71 [==============================] - 3s 36ms/step - loss: 0.0863 - accuracy: 0.5879 - val_loss: 0.1245 - val_accuracy: 0.4870\n",
      "Epoch 22/50\n",
      "71/71 [==============================] - 3s 37ms/step - loss: 0.0862 - accuracy: 0.5884 - val_loss: 0.1177 - val_accuracy: 0.5100\n",
      "Epoch 23/50\n",
      "71/71 [==============================] - 3s 37ms/step - loss: 0.0865 - accuracy: 0.5898 - val_loss: 0.1336 - val_accuracy: 0.5940\n",
      "Epoch 24/50\n",
      "71/71 [==============================] - 3s 36ms/step - loss: 0.0908 - accuracy: 0.5762 - val_loss: 0.3533 - val_accuracy: 0.3370\n",
      "Epoch 25/50\n",
      "71/71 [==============================] - 3s 36ms/step - loss: 0.0981 - accuracy: 0.5633 - val_loss: 0.2435 - val_accuracy: 0.3380\n",
      "Epoch 26/50\n",
      "71/71 [==============================] - 3s 36ms/step - loss: 0.0959 - accuracy: 0.5681 - val_loss: 0.1679 - val_accuracy: 0.3950\n",
      "Epoch 27/50\n",
      "71/71 [==============================] - 3s 36ms/step - loss: 0.0924 - accuracy: 0.5809 - val_loss: 0.1676 - val_accuracy: 0.4470\n",
      "Epoch 28/50\n",
      "71/71 [==============================] - 3s 36ms/step - loss: 0.0890 - accuracy: 0.5839 - val_loss: 0.1453 - val_accuracy: 0.5220\n",
      "Epoch 29/50\n",
      "71/71 [==============================] - 3s 36ms/step - loss: 0.0873 - accuracy: 0.5818 - val_loss: 0.1286 - val_accuracy: 0.4730\n",
      "Epoch 30/50\n",
      "71/71 [==============================] - 3s 36ms/step - loss: 0.0861 - accuracy: 0.5857 - val_loss: 0.1194 - val_accuracy: 0.5100\n",
      "Epoch 31/50\n",
      "71/71 [==============================] - 3s 36ms/step - loss: 0.0855 - accuracy: 0.5857 - val_loss: 0.1141 - val_accuracy: 0.4860\n",
      "Epoch 32/50\n",
      "71/71 [==============================] - 3s 36ms/step - loss: 0.0852 - accuracy: 0.5892 - val_loss: 0.1146 - val_accuracy: 0.4870\n",
      "Epoch 33/50\n",
      "71/71 [==============================] - 3s 36ms/step - loss: 0.0850 - accuracy: 0.5828 - val_loss: 0.1137 - val_accuracy: 0.5530\n",
      "Epoch 34/50\n",
      "71/71 [==============================] - 3s 36ms/step - loss: 0.0850 - accuracy: 0.5901 - val_loss: 0.1176 - val_accuracy: 0.4530\n",
      "Epoch 35/50\n",
      "71/71 [==============================] - 3s 36ms/step - loss: 0.0849 - accuracy: 0.5901 - val_loss: 0.1124 - val_accuracy: 0.5290\n",
      "Epoch 36/50\n",
      "71/71 [==============================] - 3s 36ms/step - loss: 0.0848 - accuracy: 0.5907 - val_loss: 0.1134 - val_accuracy: 0.5040\n",
      "Epoch 37/50\n",
      "71/71 [==============================] - 3s 36ms/step - loss: 0.0847 - accuracy: 0.5920 - val_loss: 0.1151 - val_accuracy: 0.5000\n",
      "Epoch 38/50\n",
      "71/71 [==============================] - 3s 36ms/step - loss: 0.0847 - accuracy: 0.5926 - val_loss: 0.1138 - val_accuracy: 0.5460\n",
      "Epoch 39/50\n",
      "71/71 [==============================] - 3s 36ms/step - loss: 0.0846 - accuracy: 0.5923 - val_loss: 0.1126 - val_accuracy: 0.5180\n",
      "Epoch 40/50\n",
      "71/71 [==============================] - 3s 36ms/step - loss: 0.0846 - accuracy: 0.5998 - val_loss: 0.1149 - val_accuracy: 0.5380\n",
      "Epoch 41/50\n",
      "71/71 [==============================] - 3s 36ms/step - loss: 0.0845 - accuracy: 0.5879 - val_loss: 0.1125 - val_accuracy: 0.4940\n",
      "Epoch 42/50\n",
      "71/71 [==============================] - 3s 36ms/step - loss: 0.0845 - accuracy: 0.5874 - val_loss: 0.1132 - val_accuracy: 0.5320\n",
      "Epoch 43/50\n",
      "71/71 [==============================] - 3s 36ms/step - loss: 0.0845 - accuracy: 0.5863 - val_loss: 0.1126 - val_accuracy: 0.5260\n",
      "Epoch 44/50\n",
      "71/71 [==============================] - 3s 36ms/step - loss: 0.0845 - accuracy: 0.5878 - val_loss: 0.1148 - val_accuracy: 0.5560\n",
      "Epoch 45/50\n"
     ]
    },
    {
     "name": "stdout",
     "output_type": "stream",
     "text": [
      "71/71 [==============================] - 3s 36ms/step - loss: 0.0845 - accuracy: 0.5882 - val_loss: 0.1177 - val_accuracy: 0.4880\n",
      "Epoch 46/50\n",
      "71/71 [==============================] - 3s 36ms/step - loss: 0.0846 - accuracy: 0.5847 - val_loss: 0.1164 - val_accuracy: 0.4640\n",
      "Epoch 47/50\n",
      "71/71 [==============================] - 3s 36ms/step - loss: 0.0846 - accuracy: 0.5830 - val_loss: 0.1231 - val_accuracy: 0.4990\n",
      "Epoch 48/50\n",
      "71/71 [==============================] - 3s 37ms/step - loss: 0.0849 - accuracy: 0.5847 - val_loss: 0.1954 - val_accuracy: 0.4330\n",
      "Epoch 49/50\n",
      "71/71 [==============================] - 3s 36ms/step - loss: 0.0851 - accuracy: 0.5842 - val_loss: 0.1243 - val_accuracy: 0.4790\n",
      "Epoch 50/50\n",
      "71/71 [==============================] - 3s 36ms/step - loss: 0.0896 - accuracy: 0.5788 - val_loss: 0.3272 - val_accuracy: 0.3080\n"
     ]
    },
    {
     "data": {
      "text/plain": [
       "<tensorflow.python.keras.callbacks.History at 0x7f7c9ce70278>"
      ]
     },
     "execution_count": 172,
     "metadata": {},
     "output_type": "execute_result"
    }
   ],
   "source": [
    "model = Sequential()\n",
    "model.add(Embedding(len(vocab) + 1, 300, input_length=100)) #使用Embeeding层将每个词编码转换为词向量\n",
    "model.add(Conv1D(256, 5, padding='same'))\n",
    "model.add(MaxPooling1D(3, 3, padding='same'))\n",
    "model.add(Conv1D(128, 5, padding='same'))\n",
    "model.add(MaxPooling1D(3, 3, padding='same'))\n",
    "model.add(Conv1D(64, 3, padding='same'))\n",
    "model.add(Flatten())\n",
    "model.add(Dropout(0.1))\n",
    "model.add(BatchNormalization())  # (批)规范化层\n",
    "model.add(Dense(256, activation='relu'))\n",
    "model.add(Dropout(0.1))\n",
    "model.add(Dense(17, activation='softmax'))\n",
    "model.summary()\n",
    "\n",
    "model.compile(loss='binary_crossentropy',optimizer='adam',metrics=['accuracy'])\n",
    "model.fit(train_data_padded_seqs, label, epochs=50, batch_size=128, validation_split=0.1)\n",
    "# y_predict = model.predict_classes(x_test_padded_seqs)  # 预测的是类别，结果就是类别号\n",
    "# y_predict = list(map(str, y_predict))\n",
    "# print('准确率', metrics.accuracy_score(y_test, y_predict))\n",
    "# print('平均f1-score:', metrics.f1_score(y_test, y_predict, average='weighted'))\n"
   ]
  },
  {
   "cell_type": "code",
   "execution_count": 174,
   "id": "instrumental-multiple",
   "metadata": {
    "ExecuteTime": {
     "end_time": "2021-03-05T06:18:33.009321Z",
     "start_time": "2021-03-05T06:16:56.661745Z"
    },
    "scrolled": false
   },
   "outputs": [
    {
     "name": "stdout",
     "output_type": "stream",
     "text": [
      "Model: \"model_12\"\n",
      "__________________________________________________________________________________________________\n",
      "Layer (type)                    Output Shape         Param #     Connected to                     \n",
      "==================================================================================================\n",
      "input_11 (InputLayer)           [(None, 100)]        0                                            \n",
      "__________________________________________________________________________________________________\n",
      "embedding_34 (Embedding)        (None, 100, 300)     257700      input_11[0][0]                   \n",
      "__________________________________________________________________________________________________\n",
      "conv1d_94 (Conv1D)              (None, 100, 256)     230656      embedding_34[0][0]               \n",
      "__________________________________________________________________________________________________\n",
      "conv1d_95 (Conv1D)              (None, 100, 256)     307456      embedding_34[0][0]               \n",
      "__________________________________________________________________________________________________\n",
      "conv1d_96 (Conv1D)              (None, 100, 256)     384256      embedding_34[0][0]               \n",
      "__________________________________________________________________________________________________\n",
      "max_pooling1d_71 (MaxPooling1D) (None, 2, 256)       0           conv1d_94[0][0]                  \n",
      "__________________________________________________________________________________________________\n",
      "max_pooling1d_72 (MaxPooling1D) (None, 2, 256)       0           conv1d_95[0][0]                  \n",
      "__________________________________________________________________________________________________\n",
      "max_pooling1d_73 (MaxPooling1D) (None, 2, 256)       0           conv1d_96[0][0]                  \n",
      "__________________________________________________________________________________________________\n",
      "concatenate_11 (Concatenate)    (None, 2, 768)       0           max_pooling1d_71[0][0]           \n",
      "                                                                 max_pooling1d_72[0][0]           \n",
      "                                                                 max_pooling1d_73[0][0]           \n",
      "__________________________________________________________________________________________________\n",
      "flatten_29 (Flatten)            (None, 1536)         0           concatenate_11[0][0]             \n",
      "__________________________________________________________________________________________________\n",
      "dropout_53 (Dropout)            (None, 1536)         0           flatten_29[0][0]                 \n",
      "__________________________________________________________________________________________________\n",
      "dense_48 (Dense)                (None, 17)           26129       dropout_53[0][0]                 \n",
      "==================================================================================================\n",
      "Total params: 1,206,197\n",
      "Trainable params: 948,497\n",
      "Non-trainable params: 257,700\n",
      "__________________________________________________________________________________________________\n",
      "Epoch 1/50\n",
      "45/45 [==============================] - 2s 43ms/step - loss: 0.2569 - accuracy: 0.1604 - val_loss: 0.2260 - val_accuracy: 0.2080\n",
      "Epoch 2/50\n",
      "45/45 [==============================] - 2s 40ms/step - loss: 0.2002 - accuracy: 0.3149 - val_loss: 0.1833 - val_accuracy: 0.3490\n",
      "Epoch 3/50\n",
      "45/45 [==============================] - 2s 41ms/step - loss: 0.1691 - accuracy: 0.4111 - val_loss: 0.1643 - val_accuracy: 0.4120\n",
      "Epoch 4/50\n",
      "45/45 [==============================] - 2s 41ms/step - loss: 0.1534 - accuracy: 0.4544 - val_loss: 0.1538 - val_accuracy: 0.4420\n",
      "Epoch 5/50\n",
      "45/45 [==============================] - 2s 41ms/step - loss: 0.1429 - accuracy: 0.4767 - val_loss: 0.1464 - val_accuracy: 0.4490\n",
      "Epoch 6/50\n",
      "45/45 [==============================] - 2s 42ms/step - loss: 0.1360 - accuracy: 0.4926 - val_loss: 0.1413 - val_accuracy: 0.4850\n",
      "Epoch 7/50\n",
      "45/45 [==============================] - 2s 42ms/step - loss: 0.1303 - accuracy: 0.5081 - val_loss: 0.1379 - val_accuracy: 0.4790\n",
      "Epoch 8/50\n",
      "45/45 [==============================] - 2s 42ms/step - loss: 0.1255 - accuracy: 0.5227 - val_loss: 0.1348 - val_accuracy: 0.4750\n",
      "Epoch 9/50\n",
      "45/45 [==============================] - 2s 43ms/step - loss: 0.1216 - accuracy: 0.5259 - val_loss: 0.1328 - val_accuracy: 0.4910\n",
      "Epoch 10/50\n",
      "45/45 [==============================] - 2s 42ms/step - loss: 0.1187 - accuracy: 0.5362 - val_loss: 0.1314 - val_accuracy: 0.4820\n",
      "Epoch 11/50\n",
      "45/45 [==============================] - 2s 41ms/step - loss: 0.1156 - accuracy: 0.5410 - val_loss: 0.1293 - val_accuracy: 0.4860\n",
      "Epoch 12/50\n",
      "45/45 [==============================] - 2s 41ms/step - loss: 0.1130 - accuracy: 0.5446 - val_loss: 0.1290 - val_accuracy: 0.4700\n",
      "Epoch 13/50\n",
      "45/45 [==============================] - 2s 41ms/step - loss: 0.1108 - accuracy: 0.5518 - val_loss: 0.1266 - val_accuracy: 0.4790\n",
      "Epoch 14/50\n",
      "45/45 [==============================] - 2s 41ms/step - loss: 0.1086 - accuracy: 0.5538 - val_loss: 0.1263 - val_accuracy: 0.4800\n",
      "Epoch 15/50\n",
      "45/45 [==============================] - 2s 40ms/step - loss: 0.1071 - accuracy: 0.5550 - val_loss: 0.1247 - val_accuracy: 0.4900\n",
      "Epoch 16/50\n",
      "45/45 [==============================] - 2s 41ms/step - loss: 0.1055 - accuracy: 0.5546 - val_loss: 0.1243 - val_accuracy: 0.4820\n",
      "Epoch 17/50\n",
      "45/45 [==============================] - 2s 41ms/step - loss: 0.1040 - accuracy: 0.5577 - val_loss: 0.1234 - val_accuracy: 0.4830\n",
      "Epoch 18/50\n",
      "45/45 [==============================] - 2s 41ms/step - loss: 0.1030 - accuracy: 0.5598 - val_loss: 0.1226 - val_accuracy: 0.4990\n",
      "Epoch 19/50\n",
      "45/45 [==============================] - 2s 41ms/step - loss: 0.1018 - accuracy: 0.5637 - val_loss: 0.1225 - val_accuracy: 0.4970\n",
      "Epoch 20/50\n",
      "45/45 [==============================] - 2s 41ms/step - loss: 0.1012 - accuracy: 0.5617 - val_loss: 0.1216 - val_accuracy: 0.4870\n",
      "Epoch 21/50\n",
      "45/45 [==============================] - 2s 40ms/step - loss: 0.1003 - accuracy: 0.5672 - val_loss: 0.1217 - val_accuracy: 0.4880\n",
      "Epoch 22/50\n",
      "45/45 [==============================] - 2s 41ms/step - loss: 0.0993 - accuracy: 0.5668 - val_loss: 0.1220 - val_accuracy: 0.4730\n",
      "Epoch 23/50\n",
      "45/45 [==============================] - 2s 41ms/step - loss: 0.0989 - accuracy: 0.5706 - val_loss: 0.1210 - val_accuracy: 0.4870\n",
      "Epoch 24/50\n",
      "45/45 [==============================] - 2s 42ms/step - loss: 0.0981 - accuracy: 0.5666 - val_loss: 0.1214 - val_accuracy: 0.4800\n",
      "Epoch 25/50\n",
      "45/45 [==============================] - 2s 41ms/step - loss: 0.0975 - accuracy: 0.5663 - val_loss: 0.1205 - val_accuracy: 0.4930\n",
      "Epoch 26/50\n",
      "45/45 [==============================] - 2s 41ms/step - loss: 0.0973 - accuracy: 0.5621 - val_loss: 0.1202 - val_accuracy: 0.4820\n",
      "Epoch 27/50\n",
      "45/45 [==============================] - 2s 41ms/step - loss: 0.0964 - accuracy: 0.5666 - val_loss: 0.1193 - val_accuracy: 0.5010\n",
      "Epoch 28/50\n",
      "45/45 [==============================] - 2s 41ms/step - loss: 0.0962 - accuracy: 0.5672 - val_loss: 0.1200 - val_accuracy: 0.4790\n",
      "Epoch 29/50\n",
      "45/45 [==============================] - 2s 42ms/step - loss: 0.0958 - accuracy: 0.5670 - val_loss: 0.1192 - val_accuracy: 0.4890\n",
      "Epoch 30/50\n",
      "45/45 [==============================] - 2s 41ms/step - loss: 0.0954 - accuracy: 0.5630 - val_loss: 0.1196 - val_accuracy: 0.4910\n",
      "Epoch 31/50\n",
      "45/45 [==============================] - 2s 41ms/step - loss: 0.0952 - accuracy: 0.5727 - val_loss: 0.1193 - val_accuracy: 0.4860\n",
      "Epoch 32/50\n",
      "45/45 [==============================] - 2s 41ms/step - loss: 0.0949 - accuracy: 0.5657 - val_loss: 0.1190 - val_accuracy: 0.4850\n",
      "Epoch 33/50\n",
      "45/45 [==============================] - 2s 41ms/step - loss: 0.0947 - accuracy: 0.5668 - val_loss: 0.1192 - val_accuracy: 0.4970\n",
      "Epoch 34/50\n",
      "45/45 [==============================] - 2s 41ms/step - loss: 0.0943 - accuracy: 0.5716 - val_loss: 0.1189 - val_accuracy: 0.4950\n",
      "Epoch 35/50\n",
      "45/45 [==============================] - 2s 41ms/step - loss: 0.0941 - accuracy: 0.5642 - val_loss: 0.1191 - val_accuracy: 0.4980\n",
      "Epoch 36/50\n",
      "45/45 [==============================] - 2s 41ms/step - loss: 0.0939 - accuracy: 0.5689 - val_loss: 0.1191 - val_accuracy: 0.4980\n",
      "Epoch 37/50\n"
     ]
    },
    {
     "name": "stdout",
     "output_type": "stream",
     "text": [
      "45/45 [==============================] - 2s 41ms/step - loss: 0.0939 - accuracy: 0.5744 - val_loss: 0.1188 - val_accuracy: 0.5040\n",
      "Epoch 38/50\n",
      "45/45 [==============================] - 2s 41ms/step - loss: 0.0938 - accuracy: 0.5681 - val_loss: 0.1184 - val_accuracy: 0.5030\n",
      "Epoch 39/50\n",
      "45/45 [==============================] - 2s 40ms/step - loss: 0.0935 - accuracy: 0.5710 - val_loss: 0.1189 - val_accuracy: 0.4900\n",
      "Epoch 40/50\n",
      "45/45 [==============================] - 2s 41ms/step - loss: 0.0935 - accuracy: 0.5678 - val_loss: 0.1183 - val_accuracy: 0.4950\n",
      "Epoch 41/50\n",
      "45/45 [==============================] - 2s 41ms/step - loss: 0.0932 - accuracy: 0.5691 - val_loss: 0.1179 - val_accuracy: 0.5170\n",
      "Epoch 42/50\n",
      "45/45 [==============================] - 2s 41ms/step - loss: 0.0929 - accuracy: 0.5718 - val_loss: 0.1184 - val_accuracy: 0.4900\n",
      "Epoch 43/50\n",
      "45/45 [==============================] - 2s 41ms/step - loss: 0.0928 - accuracy: 0.5690 - val_loss: 0.1180 - val_accuracy: 0.4980\n",
      "Epoch 44/50\n",
      "45/45 [==============================] - 2s 41ms/step - loss: 0.0928 - accuracy: 0.5718 - val_loss: 0.1183 - val_accuracy: 0.4980\n",
      "Epoch 45/50\n",
      "45/45 [==============================] - 2s 41ms/step - loss: 0.0924 - accuracy: 0.5692 - val_loss: 0.1187 - val_accuracy: 0.4840\n",
      "Epoch 46/50\n",
      "45/45 [==============================] - 2s 41ms/step - loss: 0.0924 - accuracy: 0.5680 - val_loss: 0.1179 - val_accuracy: 0.5150\n",
      "Epoch 47/50\n",
      "45/45 [==============================] - 2s 41ms/step - loss: 0.0921 - accuracy: 0.5696 - val_loss: 0.1187 - val_accuracy: 0.4970\n",
      "Epoch 48/50\n",
      "45/45 [==============================] - 2s 41ms/step - loss: 0.0923 - accuracy: 0.5714 - val_loss: 0.1176 - val_accuracy: 0.5070\n",
      "Epoch 49/50\n",
      "45/45 [==============================] - 2s 41ms/step - loss: 0.0921 - accuracy: 0.5674 - val_loss: 0.1184 - val_accuracy: 0.4900\n",
      "Epoch 50/50\n",
      "45/45 [==============================] - 2s 41ms/step - loss: 0.0922 - accuracy: 0.5668 - val_loss: 0.1175 - val_accuracy: 0.5080\n"
     ]
    },
    {
     "data": {
      "text/plain": [
       "<tensorflow.python.keras.callbacks.History at 0x7f7edeb15668>"
      ]
     },
     "execution_count": 174,
     "metadata": {},
     "output_type": "execute_result"
    }
   ],
   "source": [
    "main_input = Input(shape=(100,), dtype='float64')\n",
    "# 词嵌入（使用预训练的词向量）\n",
    "embedder = Embedding(len(vocab) + 1, 300, input_length=100, trainable=False)\n",
    "embed = embedder(main_input)\n",
    "# 词窗大小分别为3,4,5\n",
    "cnn1 = Conv1D(256, 3, padding='same', strides=1, activation='relu')(embed)\n",
    "cnn1 = MaxPooling1D(pool_size=48)(cnn1)\n",
    "cnn2 = Conv1D(256, 4, padding='same', strides=1, activation='relu')(embed)\n",
    "cnn2 = MaxPooling1D(pool_size=47)(cnn2)\n",
    "cnn3 = Conv1D(256, 5, padding='same', strides=1, activation='relu')(embed)\n",
    "cnn3 = MaxPooling1D(pool_size=46)(cnn3)\n",
    "# 合并三个模型的输出向量\n",
    "cnn = concatenate([cnn1, cnn2, cnn3], axis=-1)\n",
    "flat = Flatten()(cnn)\n",
    "drop = Dropout(0.2)(flat)\n",
    "main_output = Dense(17, activation='softmax')(drop)\n",
    "model = Model(inputs=main_input, outputs=main_output)\n",
    "model.summary()\n",
    "model.compile(loss='binary_crossentropy', optimizer='adam', metrics=['accuracy'])\n",
    "model.fit(train_data_padded_seqs, label, epochs=50, batch_size=200,validation_split=0.1)\n"
   ]
  },
  {
   "cell_type": "code",
   "execution_count": 194,
   "id": "distant-savage",
   "metadata": {
    "ExecuteTime": {
     "end_time": "2021-03-05T06:37:38.365608Z",
     "start_time": "2021-03-05T06:37:37.765541Z"
    }
   },
   "outputs": [],
   "source": [
    "test_pre = model.predict(test_data_padded_seqs)"
   ]
  },
  {
   "cell_type": "code",
   "execution_count": 209,
   "id": "fitting-trademark",
   "metadata": {
    "ExecuteTime": {
     "end_time": "2021-03-05T06:46:12.866225Z",
     "start_time": "2021-03-05T06:46:12.827211Z"
    }
   },
   "outputs": [],
   "source": [
    "result = ['|%s'%' '.join(['%.16f'%i for i in pre]) for pre in test_pre]"
   ]
  },
  {
   "cell_type": "code",
   "execution_count": 210,
   "id": "painful-charter",
   "metadata": {
    "ExecuteTime": {
     "end_time": "2021-03-05T06:46:14.478654Z",
     "start_time": "2021-03-05T06:46:14.474542Z"
    }
   },
   "outputs": [
    {
     "data": {
      "text/plain": [
       "'|0.0026591273490340 0.0033524620812386 0.0011169621720910 0.0001841006014729 0.0001974138431251 0.0000606569228694 0.0001457884209231 0.0008011281606741 0.0000141518821692 0.0007482352084480 0.0000825503811939 0.0000962369231274 0.0000298136310448 0.0000104138371171 0.4743624925613403 0.0229320097714663 0.4932065010070801'"
      ]
     },
     "execution_count": 210,
     "metadata": {},
     "output_type": "execute_result"
    }
   ],
   "source": [
    "result[0]"
   ]
  },
  {
   "cell_type": "code",
   "execution_count": 213,
   "id": "recent-screw",
   "metadata": {
    "ExecuteTime": {
     "end_time": "2021-03-05T06:47:10.626666Z",
     "start_time": "2021-03-05T06:47:10.599697Z"
    }
   },
   "outputs": [
    {
     "data": {
      "text/html": [
       "<div>\n",
       "<style scoped>\n",
       "    .dataframe tbody tr th:only-of-type {\n",
       "        vertical-align: middle;\n",
       "    }\n",
       "\n",
       "    .dataframe tbody tr th {\n",
       "        vertical-align: top;\n",
       "    }\n",
       "\n",
       "    .dataframe thead th {\n",
       "        text-align: right;\n",
       "    }\n",
       "</style>\n",
       "<table border=\"1\" class=\"dataframe\">\n",
       "  <thead>\n",
       "    <tr style=\"text-align: right;\">\n",
       "      <th></th>\n",
       "      <th>report_id</th>\n",
       "      <th>description</th>\n",
       "      <th>words</th>\n",
       "      <th>Prediction</th>\n",
       "      <th>report_ID</th>\n",
       "    </tr>\n",
       "  </thead>\n",
       "  <tbody>\n",
       "    <tr>\n",
       "      <th>0</th>\n",
       "      <td>0</td>\n",
       "      <td>852 328 697 538 142 355 582 800 728 4 647 169 ...</td>\n",
       "      <td>[852, 328, 697, 538, 142, 355, 582, 800, 728, ...</td>\n",
       "      <td>|0.0026591273490340 0.0033524620812386 0.00111...</td>\n",
       "      <td>0|</td>\n",
       "    </tr>\n",
       "    <tr>\n",
       "      <th>1</th>\n",
       "      <td>1</td>\n",
       "      <td>380 358 343 654 171 832 47 832 690 693 48 563 ...</td>\n",
       "      <td>[380, 358, 343, 654, 171, 832, 47, 832, 690, 6...</td>\n",
       "      <td>|0.0569489412009716 0.0414477922022343 0.04517...</td>\n",
       "      <td>1|</td>\n",
       "    </tr>\n",
       "    <tr>\n",
       "      <th>2</th>\n",
       "      <td>2</td>\n",
       "      <td>751 335 834 582 717 583 585 693 623 328 107 38...</td>\n",
       "      <td>[751, 335, 834, 582, 717, 583, 585, 693, 623, ...</td>\n",
       "      <td>|0.0179503764957190 0.0121990703046322 0.00019...</td>\n",
       "      <td>2|</td>\n",
       "    </tr>\n",
       "    <tr>\n",
       "      <th>3</th>\n",
       "      <td>3</td>\n",
       "      <td>623 328 649 582 488 12 578 623 538 382 382 265...</td>\n",
       "      <td>[623, 328, 649, 582, 488, 12, 578, 623, 538, 3...</td>\n",
       "      <td>|0.1098752319812775 0.0348254181444645 0.02064...</td>\n",
       "      <td>3|</td>\n",
       "    </tr>\n",
       "    <tr>\n",
       "      <th>4</th>\n",
       "      <td>4</td>\n",
       "      <td>83 293 398 797 382 363 145 424 693 698 800 691...</td>\n",
       "      <td>[83, 293, 398, 797, 382, 363, 145, 424, 693, 6...</td>\n",
       "      <td>|0.0051004556007683 0.0197584703564644 0.02819...</td>\n",
       "      <td>4|</td>\n",
       "    </tr>\n",
       "  </tbody>\n",
       "</table>\n",
       "</div>"
      ],
      "text/plain": [
       "  report_id                                        description  \\\n",
       "0         0  852 328 697 538 142 355 582 800 728 4 647 169 ...   \n",
       "1         1  380 358 343 654 171 832 47 832 690 693 48 563 ...   \n",
       "2         2  751 335 834 582 717 583 585 693 623 328 107 38...   \n",
       "3         3  623 328 649 582 488 12 578 623 538 382 382 265...   \n",
       "4         4  83 293 398 797 382 363 145 424 693 698 800 691...   \n",
       "\n",
       "                                               words  \\\n",
       "0  [852, 328, 697, 538, 142, 355, 582, 800, 728, ...   \n",
       "1  [380, 358, 343, 654, 171, 832, 47, 832, 690, 6...   \n",
       "2  [751, 335, 834, 582, 717, 583, 585, 693, 623, ...   \n",
       "3  [623, 328, 649, 582, 488, 12, 578, 623, 538, 3...   \n",
       "4  [83, 293, 398, 797, 382, 363, 145, 424, 693, 6...   \n",
       "\n",
       "                                          Prediction report_ID  \n",
       "0  |0.0026591273490340 0.0033524620812386 0.00111...        0|  \n",
       "1  |0.0569489412009716 0.0414477922022343 0.04517...        1|  \n",
       "2  |0.0179503764957190 0.0121990703046322 0.00019...        2|  \n",
       "3  |0.1098752319812775 0.0348254181444645 0.02064...        3|  \n",
       "4  |0.0051004556007683 0.0197584703564644 0.02819...        4|  "
      ]
     },
     "execution_count": 213,
     "metadata": {},
     "output_type": "execute_result"
    }
   ],
   "source": [
    "test_dataset['report_ID'] = test_dataset['report_id'].apply(lambda x:'%s|'%x)\n",
    "test_dataset['Prediction'] =result\n",
    "test_dataset.head()"
   ]
  },
  {
   "cell_type": "code",
   "execution_count": 214,
   "id": "transparent-balloon",
   "metadata": {
    "ExecuteTime": {
     "end_time": "2021-03-05T06:47:18.025479Z",
     "start_time": "2021-03-05T06:47:17.988098Z"
    }
   },
   "outputs": [],
   "source": [
    "test_dataset[['report_ID','Prediction']].to_csv('submit.csv',index = False,header=None)"
   ]
  },
  {
   "cell_type": "code",
   "execution_count": null,
   "id": "sacred-supply",
   "metadata": {},
   "outputs": [],
   "source": []
  }
 ],
 "metadata": {
  "kernelspec": {
   "display_name": "Python 3",
   "language": "python",
   "name": "python3"
  },
  "language_info": {
   "codemirror_mode": {
    "name": "ipython",
    "version": 3
   },
   "file_extension": ".py",
   "mimetype": "text/x-python",
   "name": "python",
   "nbconvert_exporter": "python",
   "pygments_lexer": "ipython3",
   "version": "3.6.9"
  },
  "toc": {
   "base_numbering": 1,
   "nav_menu": {},
   "number_sections": true,
   "sideBar": true,
   "skip_h1_title": false,
   "title_cell": "Table of Contents",
   "title_sidebar": "Contents",
   "toc_cell": false,
   "toc_position": {},
   "toc_section_display": true,
   "toc_window_display": true
  },
  "varInspector": {
   "cols": {
    "lenName": 16,
    "lenType": 16,
    "lenVar": 40
   },
   "kernels_config": {
    "python": {
     "delete_cmd_postfix": "",
     "delete_cmd_prefix": "del ",
     "library": "var_list.py",
     "varRefreshCmd": "print(var_dic_list())"
    },
    "r": {
     "delete_cmd_postfix": ") ",
     "delete_cmd_prefix": "rm(",
     "library": "var_list.r",
     "varRefreshCmd": "cat(var_dic_list()) "
    }
   },
   "types_to_exclude": [
    "module",
    "function",
    "builtin_function_or_method",
    "instance",
    "_Feature"
   ],
   "window_display": false
  }
 },
 "nbformat": 4,
 "nbformat_minor": 5
}
